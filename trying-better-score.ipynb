{
 "cells": [
  {
   "cell_type": "code",
   "execution_count": 1,
   "id": "b22bddd3",
   "metadata": {
    "_cell_guid": "b1076dfc-b9ad-4769-8c92-a6c4dae69d19",
    "_uuid": "8f2839f25d086af736a60e9eeb907d3b93b6e0e5",
    "execution": {
     "iopub.execute_input": "2023-08-11T13:42:04.707052Z",
     "iopub.status.busy": "2023-08-11T13:42:04.706120Z",
     "iopub.status.idle": "2023-08-11T13:42:04.719073Z",
     "shell.execute_reply": "2023-08-11T13:42:04.717623Z"
    },
    "papermill": {
     "duration": 0.018913,
     "end_time": "2023-08-11T13:42:04.721265",
     "exception": false,
     "start_time": "2023-08-11T13:42:04.702352",
     "status": "completed"
    },
    "tags": []
   },
   "outputs": [
    {
     "name": "stdout",
     "output_type": "stream",
     "text": [
      "/kaggle/input/playground-series-s3e20/sample_submission.csv\n",
      "/kaggle/input/playground-series-s3e20/train.csv\n",
      "/kaggle/input/playground-series-s3e20/test.csv\n"
     ]
    }
   ],
   "source": [
    "# This Python 3 environment comes with many helpful analytics libraries installed\n",
    "# It is defined by the kaggle/python Docker image: https://github.com/kaggle/docker-python\n",
    "# For example, here's several helpful packages to load\n",
    "\n",
    "import numpy as np # linear algebra\n",
    "import pandas as pd # data processing, CSV file I/O (e.g. pd.read_csv)\n",
    "\n",
    "# Input data files are available in the read-only \"../input/\" directory\n",
    "# For example, running this (by clicking run or pressing Shift+Enter) will list all files under the input directory\n",
    "\n",
    "import os\n",
    "for dirname, _, filenames in os.walk('/kaggle/input'):\n",
    "    for filename in filenames:\n",
    "        print(os.path.join(dirname, filename))\n",
    "\n",
    "# You can write up to 20GB to the current directory (/kaggle/working/) that gets preserved as output when you create a version using \"Save & Run All\" \n",
    "# You can also write temporary files to /kaggle/temp/, but they won't be saved outside of the current session"
   ]
  },
  {
   "cell_type": "code",
   "execution_count": 2,
   "id": "b10ebe7a",
   "metadata": {
    "execution": {
     "iopub.execute_input": "2023-08-11T13:42:04.727280Z",
     "iopub.status.busy": "2023-08-11T13:42:04.726418Z",
     "iopub.status.idle": "2023-08-11T13:42:06.928731Z",
     "shell.execute_reply": "2023-08-11T13:42:06.927603Z"
    },
    "papermill": {
     "duration": 2.208102,
     "end_time": "2023-08-11T13:42:06.931516",
     "exception": false,
     "start_time": "2023-08-11T13:42:04.723414",
     "status": "completed"
    },
    "tags": []
   },
   "outputs": [],
   "source": [
    "import numpy as np\n",
    "import pandas as pd\n",
    "\n",
    "train_df = pd.read_csv('/kaggle/input/playground-series-s3e20/train.csv')\n",
    "\n",
    "submit_df = pd.read_csv('/kaggle/input/playground-series-s3e20/sample_submission.csv')\n",
    "submit_df.emission = 0.992 * np.max([train_df[(train_df.year == y) & (train_df.week_no < 49)].emission for y in range(2019, 2022)], axis=0)\n",
    "submit_df.to_csv('submission_0.992.csv', index=False)"
   ]
  },
  {
   "cell_type": "code",
   "execution_count": null,
   "id": "6fc81541",
   "metadata": {
    "papermill": {
     "duration": 0.001574,
     "end_time": "2023-08-11T13:42:06.935046",
     "exception": false,
     "start_time": "2023-08-11T13:42:06.933472",
     "status": "completed"
    },
    "tags": []
   },
   "outputs": [],
   "source": []
  }
 ],
 "metadata": {
  "kernelspec": {
   "display_name": "Python 3",
   "language": "python",
   "name": "python3"
  },
  "language_info": {
   "codemirror_mode": {
    "name": "ipython",
    "version": 3
   },
   "file_extension": ".py",
   "mimetype": "text/x-python",
   "name": "python",
   "nbconvert_exporter": "python",
   "pygments_lexer": "ipython3",
   "version": "3.10.12"
  },
  "papermill": {
   "default_parameters": {},
   "duration": 13.220551,
   "end_time": "2023-08-11T13:42:07.759904",
   "environment_variables": {},
   "exception": null,
   "input_path": "__notebook__.ipynb",
   "output_path": "__notebook__.ipynb",
   "parameters": {},
   "start_time": "2023-08-11T13:41:54.539353",
   "version": "2.4.0"
  }
 },
 "nbformat": 4,
 "nbformat_minor": 5
}
