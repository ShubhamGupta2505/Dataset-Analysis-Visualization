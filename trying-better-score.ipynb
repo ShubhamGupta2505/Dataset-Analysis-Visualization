{
 "cells": [
  {
   "cell_type": "code",
   "execution_count": 1,
   "id": "49d67e18",
   "metadata": {
    "_cell_guid": "b1076dfc-b9ad-4769-8c92-a6c4dae69d19",
    "_uuid": "8f2839f25d086af736a60e9eeb907d3b93b6e0e5",
    "execution": {
     "iopub.execute_input": "2023-08-12T14:42:13.596748Z",
     "iopub.status.busy": "2023-08-12T14:42:13.596172Z",
     "iopub.status.idle": "2023-08-12T14:42:13.614250Z",
     "shell.execute_reply": "2023-08-12T14:42:13.612981Z"
    },
    "papermill": {
     "duration": 0.025558,
     "end_time": "2023-08-12T14:42:13.616817",
     "exception": false,
     "start_time": "2023-08-12T14:42:13.591259",
     "status": "completed"
    },
    "tags": []
   },
   "outputs": [
    {
     "name": "stdout",
     "output_type": "stream",
     "text": [
      "/kaggle/input/playground-series-s3e20/sample_submission.csv\n",
      "/kaggle/input/playground-series-s3e20/train.csv\n",
      "/kaggle/input/playground-series-s3e20/test.csv\n"
     ]
    }
   ],
   "source": [
    "# This Python 3 environment comes with many helpful analytics libraries installed\n",
    "# It is defined by the kaggle/python Docker image: https://github.com/kaggle/docker-python\n",
    "# For example, here's several helpful packages to load\n",
    "\n",
    "import numpy as np # linear algebra\n",
    "import pandas as pd # data processing, CSV file I/O (e.g. pd.read_csv)\n",
    "\n",
    "# Input data files are available in the read-only \"../input/\" directory\n",
    "# For example, running this (by clicking run or pressing Shift+Enter) will list all files under the input directory\n",
    "\n",
    "import os\n",
    "for dirname, _, filenames in os.walk('/kaggle/input'):\n",
    "    for filename in filenames:\n",
    "        print(os.path.join(dirname, filename))\n",
    "\n",
    "# You can write up to 20GB to the current directory (/kaggle/working/) that gets preserved as output when you create a version using \"Save & Run All\" \n",
    "# You can also write temporary files to /kaggle/temp/, but they won't be saved outside of the current session"
   ]
  },
  {
   "cell_type": "code",
   "execution_count": 2,
   "id": "f459e1ed",
   "metadata": {
    "execution": {
     "iopub.execute_input": "2023-08-12T14:42:13.623278Z",
     "iopub.status.busy": "2023-08-12T14:42:13.622898Z",
     "iopub.status.idle": "2023-08-12T14:42:16.332499Z",
     "shell.execute_reply": "2023-08-12T14:42:16.331200Z"
    },
    "papermill": {
     "duration": 2.716007,
     "end_time": "2023-08-12T14:42:16.335387",
     "exception": false,
     "start_time": "2023-08-12T14:42:13.619380",
     "status": "completed"
    },
    "tags": []
   },
   "outputs": [],
   "source": [
    "import numpy as np\n",
    "import pandas as pd\n",
    "\n",
    "train_df = pd.read_csv('/kaggle/input/playground-series-s3e20/train.csv')\n",
    "\n",
    "submit_df = pd.read_csv('/kaggle/input/playground-series-s3e20/sample_submission.csv')\n",
    "submit_df.emission = 0.992 * np.max([train_df[(train_df.year == y) & (train_df.week_no < 49)].emission for y in range(2019, 2022)], axis=0)\n",
    "submit_df.to_csv('submission_1.csv', index=False)"
   ]
  },
  {
   "cell_type": "code",
   "execution_count": null,
   "id": "ba2f977c",
   "metadata": {
    "papermill": {
     "duration": 0.001951,
     "end_time": "2023-08-12T14:42:16.339729",
     "exception": false,
     "start_time": "2023-08-12T14:42:16.337778",
     "status": "completed"
    },
    "tags": []
   },
   "outputs": [],
   "source": []
  }
 ],
 "metadata": {
  "kernelspec": {
   "display_name": "Python 3",
   "language": "python",
   "name": "python3"
  },
  "language_info": {
   "codemirror_mode": {
    "name": "ipython",
    "version": 3
   },
   "file_extension": ".py",
   "mimetype": "text/x-python",
   "name": "python",
   "nbconvert_exporter": "python",
   "pygments_lexer": "ipython3",
   "version": "3.10.12"
  },
  "papermill": {
   "default_parameters": {},
   "duration": 15.287479,
   "end_time": "2023-08-12T14:42:17.266467",
   "environment_variables": {},
   "exception": null,
   "input_path": "__notebook__.ipynb",
   "output_path": "__notebook__.ipynb",
   "parameters": {},
   "start_time": "2023-08-12T14:42:01.978988",
   "version": "2.4.0"
  }
 },
 "nbformat": 4,
 "nbformat_minor": 5
}
