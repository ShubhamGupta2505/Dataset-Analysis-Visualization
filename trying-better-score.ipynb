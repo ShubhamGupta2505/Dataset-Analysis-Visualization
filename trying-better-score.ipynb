{
 "cells": [
  {
   "cell_type": "code",
   "execution_count": 1,
   "id": "18530242",
   "metadata": {
    "_cell_guid": "b1076dfc-b9ad-4769-8c92-a6c4dae69d19",
    "_uuid": "8f2839f25d086af736a60e9eeb907d3b93b6e0e5",
    "execution": {
     "iopub.execute_input": "2023-08-18T12:00:46.205195Z",
     "iopub.status.busy": "2023-08-18T12:00:46.204458Z",
     "iopub.status.idle": "2023-08-18T12:00:46.218592Z",
     "shell.execute_reply": "2023-08-18T12:00:46.217594Z"
    },
    "papermill": {
     "duration": 0.022023,
     "end_time": "2023-08-18T12:00:46.221390",
     "exception": false,
     "start_time": "2023-08-18T12:00:46.199367",
     "status": "completed"
    },
    "tags": []
   },
   "outputs": [
    {
     "name": "stdout",
     "output_type": "stream",
     "text": [
      "/kaggle/input/playground-series-s3e20/sample_submission.csv\n",
      "/kaggle/input/playground-series-s3e20/train.csv\n",
      "/kaggle/input/playground-series-s3e20/test.csv\n"
     ]
    }
   ],
   "source": [
    "# This Python 3 environment comes with many helpful analytics libraries installed\n",
    "# It is defined by the kaggle/python Docker image: https://github.com/kaggle/docker-python\n",
    "# For example, here's several helpful packages to load\n",
    "\n",
    "import numpy as np # linear algebra\n",
    "import pandas as pd # data processing, CSV file I/O (e.g. pd.read_csv)\n",
    "\n",
    "# Input data files are available in the read-only \"../input/\" directory\n",
    "# For example, running this (by clicking run or pressing Shift+Enter) will list all files under the input directory\n",
    "\n",
    "import os\n",
    "for dirname, _, filenames in os.walk('/kaggle/input'):\n",
    "    for filename in filenames:\n",
    "        print(os.path.join(dirname, filename))\n",
    "\n",
    "# You can write up to 20GB to the current directory (/kaggle/working/) that gets preserved as output when you create a version using \"Save & Run All\" \n",
    "# You can also write temporary files to /kaggle/temp/, but they won't be saved outside of the current session"
   ]
  },
  {
   "cell_type": "code",
   "execution_count": 2,
   "id": "85d10763",
   "metadata": {
    "execution": {
     "iopub.execute_input": "2023-08-18T12:00:46.227489Z",
     "iopub.status.busy": "2023-08-18T12:00:46.226882Z",
     "iopub.status.idle": "2023-08-18T12:00:48.490194Z",
     "shell.execute_reply": "2023-08-18T12:00:48.488148Z"
    },
    "papermill": {
     "duration": 2.269448,
     "end_time": "2023-08-18T12:00:48.493195",
     "exception": false,
     "start_time": "2023-08-18T12:00:46.223747",
     "status": "completed"
    },
    "tags": []
   },
   "outputs": [],
   "source": [
    "import numpy as np\n",
    "import pandas as pd\n",
    "\n",
    "train_df = pd.read_csv('/kaggle/input/playground-series-s3e20/train.csv')\n",
    "\n",
    "submit_df = pd.read_csv('/kaggle/input/playground-series-s3e20/sample_submission.csv')\n",
    "submit_df.emission = 0.992 * np.max([train_df[(train_df.year == y) & (train_df.week_no < 49)].emission for y in range(2019, 2022)], axis=0)\n",
    "submit_df.to_csv('submission_1.csv', index=False)"
   ]
  },
  {
   "cell_type": "code",
   "execution_count": 3,
   "id": "0b702d62",
   "metadata": {
    "execution": {
     "iopub.execute_input": "2023-08-18T12:00:48.499965Z",
     "iopub.status.busy": "2023-08-18T12:00:48.499542Z",
     "iopub.status.idle": "2023-08-18T12:00:59.127783Z",
     "shell.execute_reply": "2023-08-18T12:00:59.126100Z"
    },
    "papermill": {
     "duration": 10.634771,
     "end_time": "2023-08-18T12:00:59.130276",
     "exception": false,
     "start_time": "2023-08-18T12:00:48.495505",
     "status": "completed"
    },
    "tags": []
   },
   "outputs": [],
   "source": [
    "train = pd.read_csv('/kaggle/input/playground-series-s3e20/train.csv', index_col=\"ID_LAT_LON_YEAR_WEEK\")\n",
    "test = pd.read_csv('/kaggle/input/playground-series-s3e20/test.csv', index_col=\"ID_LAT_LON_YEAR_WEEK\")\n",
    "submission = pd.read_csv('/kaggle/input/playground-series-s3e20/sample_submission.csv')\n",
    "\n",
    "train['location'] = list(zip(train['latitude'], train['longitude']))\n",
    "train = train[train.week_no <= 48]\n",
    "\n",
    "\n",
    "def get_prev_max_emissions(location):    \n",
    "    emi_2019 = train.loc[(train.year == 2019) & (train.location == location), 'emission'].values\n",
    "    emi_2020 = train.loc[(train.year == 2020) & (train.location == location), 'emission'].values\n",
    "    emi_2021 = train.loc[(train.year == 2021) & (train.location == location), 'emission'].values\n",
    "    return np.max([emi_2019, emi_2020, emi_2021], axis=0)\n",
    "    \n",
    "predictions = [get_prev_max_emissions(loc) for loc in train.location.unique()]\n",
    "\n",
    "test['emission'] = np.hstack(predictions)\n",
    "test.loc[test['longitude'] == 29.321, 'emission'] = train.loc[(train['year'] == 2021) & \n",
    "                                                              (train['longitude'] == 29.321),\n",
    "                                                              'emission'].values\n",
    "submission['emission'] = test['emission'].to_list()\n",
    "submission.to_csv('submission.csv', index=False)"
   ]
  },
  {
   "cell_type": "code",
   "execution_count": null,
   "id": "738a2b65",
   "metadata": {
    "papermill": {
     "duration": 0.001746,
     "end_time": "2023-08-18T12:00:59.134669",
     "exception": false,
     "start_time": "2023-08-18T12:00:59.132923",
     "status": "completed"
    },
    "tags": []
   },
   "outputs": [],
   "source": []
  },
  {
   "cell_type": "code",
   "execution_count": null,
   "id": "1cc17fa3",
   "metadata": {
    "papermill": {
     "duration": 0.001496,
     "end_time": "2023-08-18T12:00:59.138133",
     "exception": false,
     "start_time": "2023-08-18T12:00:59.136637",
     "status": "completed"
    },
    "tags": []
   },
   "outputs": [],
   "source": []
  }
 ],
 "metadata": {
  "kernelspec": {
   "display_name": "Python 3",
   "language": "python",
   "name": "python3"
  },
  "language_info": {
   "codemirror_mode": {
    "name": "ipython",
    "version": 3
   },
   "file_extension": ".py",
   "mimetype": "text/x-python",
   "name": "python",
   "nbconvert_exporter": "python",
   "pygments_lexer": "ipython3",
   "version": "3.10.12"
  },
  "papermill": {
   "default_parameters": {},
   "duration": 25.365388,
   "end_time": "2023-08-18T12:01:00.168192",
   "environment_variables": {},
   "exception": null,
   "input_path": "__notebook__.ipynb",
   "output_path": "__notebook__.ipynb",
   "parameters": {},
   "start_time": "2023-08-18T12:00:34.802804",
   "version": "2.4.0"
  }
 },
 "nbformat": 4,
 "nbformat_minor": 5
}
