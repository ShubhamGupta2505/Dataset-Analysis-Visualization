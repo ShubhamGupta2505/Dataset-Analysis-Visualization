{
 "cells": [
  {
   "cell_type": "code",
   "execution_count": 1,
   "id": "18f6f457",
   "metadata": {
    "_cell_guid": "b1076dfc-b9ad-4769-8c92-a6c4dae69d19",
    "_uuid": "8f2839f25d086af736a60e9eeb907d3b93b6e0e5",
    "execution": {
     "iopub.execute_input": "2023-07-07T16:27:59.738682Z",
     "iopub.status.busy": "2023-07-07T16:27:59.738230Z",
     "iopub.status.idle": "2023-07-07T16:27:59.758643Z",
     "shell.execute_reply": "2023-07-07T16:27:59.756839Z"
    },
    "papermill": {
     "duration": 0.030045,
     "end_time": "2023-07-07T16:27:59.762165",
     "exception": false,
     "start_time": "2023-07-07T16:27:59.732120",
     "status": "completed"
    },
    "tags": []
   },
   "outputs": [
    {
     "name": "stdout",
     "output_type": "stream",
     "text": [
      "/kaggle/input/linkedin-job-data/linkdin_Job_data.xlsx\n",
      "/kaggle/input/linkedin-job-data/linkdin_Job_data.csv\n"
     ]
    }
   ],
   "source": [
    "# This Python 3 environment comes with many helpful analytics libraries installed\n",
    "# It is defined by the kaggle/python Docker image: https://github.com/kaggle/docker-python\n",
    "# For example, here's several helpful packages to load\n",
    "\n",
    "import numpy as np # linear algebra\n",
    "import pandas as pd # data processing, CSV file I/O (e.g. pd.read_csv)\n",
    "\n",
    "# Input data files are available in the read-only \"../input/\" directory\n",
    "# For example, running this (by clicking run or pressing Shift+Enter) will list all files under the input directory\n",
    "\n",
    "import os\n",
    "for dirname, _, filenames in os.walk('/kaggle/input'):\n",
    "    for filename in filenames:\n",
    "        print(os.path.join(dirname, filename))\n",
    "\n",
    "# You can write up to 20GB to the current directory (/kaggle/working/) that gets preserved as output when you create a version using \"Save & Run All\" \n",
    "# You can also write temporary files to /kaggle/temp/, but they won't be saved outside of the current session"
   ]
  },
  {
   "cell_type": "code",
   "execution_count": 2,
   "id": "a01d2e4a",
   "metadata": {
    "execution": {
     "iopub.execute_input": "2023-07-07T16:27:59.772016Z",
     "iopub.status.busy": "2023-07-07T16:27:59.771447Z",
     "iopub.status.idle": "2023-07-07T16:28:00.371572Z",
     "shell.execute_reply": "2023-07-07T16:28:00.370280Z"
    },
    "papermill": {
     "duration": 0.608208,
     "end_time": "2023-07-07T16:28:00.374353",
     "exception": false,
     "start_time": "2023-07-07T16:27:59.766145",
     "status": "completed"
    },
    "tags": []
   },
   "outputs": [
    {
     "data": {
      "text/html": [
       "<div>\n",
       "<style scoped>\n",
       "    .dataframe tbody tr th:only-of-type {\n",
       "        vertical-align: middle;\n",
       "    }\n",
       "\n",
       "    .dataframe tbody tr th {\n",
       "        vertical-align: top;\n",
       "    }\n",
       "\n",
       "    .dataframe thead th {\n",
       "        text-align: right;\n",
       "    }\n",
       "</style>\n",
       "<table border=\"1\" class=\"dataframe\">\n",
       "  <thead>\n",
       "    <tr style=\"text-align: right;\">\n",
       "      <th></th>\n",
       "      <th>job_ID</th>\n",
       "      <th>job</th>\n",
       "      <th>location</th>\n",
       "      <th>company_id</th>\n",
       "      <th>company_name</th>\n",
       "      <th>work_type</th>\n",
       "      <th>full_time_remote</th>\n",
       "      <th>no_of_employ</th>\n",
       "      <th>no_of_application</th>\n",
       "      <th>posted_day_ago</th>\n",
       "      <th>alumni</th>\n",
       "      <th>Hiring_person</th>\n",
       "      <th>linkedin_followers</th>\n",
       "      <th>hiring_person_link</th>\n",
       "      <th>job_details</th>\n",
       "      <th>Column1</th>\n",
       "    </tr>\n",
       "  </thead>\n",
       "  <tbody>\n",
       "    <tr>\n",
       "      <th>0</th>\n",
       "      <td>3471657636</td>\n",
       "      <td>Data Analyst, Trilogy (Remote) - $60,000/year USD</td>\n",
       "      <td>Delhi, Delhi, India</td>\n",
       "      <td>NaN</td>\n",
       "      <td>Crossover</td>\n",
       "      <td>Remote</td>\n",
       "      <td>Full-time · Associate</td>\n",
       "      <td>1,001-5,000 employees · IT Services and IT Con...</td>\n",
       "      <td>200</td>\n",
       "      <td>8 hours</td>\n",
       "      <td>12 company alumni</td>\n",
       "      <td>NaN</td>\n",
       "      <td>5,395,547 followers</td>\n",
       "      <td>NaN</td>\n",
       "      <td>About the job Crossover is the world's #1 sour...</td>\n",
       "      <td>NaN</td>\n",
       "    </tr>\n",
       "    <tr>\n",
       "      <th>1</th>\n",
       "      <td>3471669068</td>\n",
       "      <td>Data Analyst, Trilogy (Remote) - $60,000/year USD</td>\n",
       "      <td>New Delhi, Delhi, India</td>\n",
       "      <td>NaN</td>\n",
       "      <td>Crossover</td>\n",
       "      <td>Remote</td>\n",
       "      <td>Full-time · Associate</td>\n",
       "      <td>1,001-5,000 employees · IT Services and IT Con...</td>\n",
       "      <td>184</td>\n",
       "      <td>8 hours</td>\n",
       "      <td>12 company alumni</td>\n",
       "      <td>NaN</td>\n",
       "      <td>5,395,547 followers</td>\n",
       "      <td>NaN</td>\n",
       "      <td>About the job Crossover is the world's #1 sour...</td>\n",
       "      <td>NaN</td>\n",
       "    </tr>\n",
       "    <tr>\n",
       "      <th>2</th>\n",
       "      <td>3474349934</td>\n",
       "      <td>Data Analyst - WFH</td>\n",
       "      <td>Greater Bengaluru Area</td>\n",
       "      <td>NaN</td>\n",
       "      <td>Uplers</td>\n",
       "      <td>Remote</td>\n",
       "      <td>Full-time · Mid-Senior level</td>\n",
       "      <td>1,001-5,000 employees · IT Services and IT Con...</td>\n",
       "      <td>200</td>\n",
       "      <td>9 hours</td>\n",
       "      <td>3 company alumni</td>\n",
       "      <td>Shahid Ahmad</td>\n",
       "      <td>NaN</td>\n",
       "      <td>https://www.linkedin.com/in/shahid-ahmad-a2613...</td>\n",
       "      <td>About the job Profile: ML EngineersExperience:...</td>\n",
       "      <td>NaN</td>\n",
       "    </tr>\n",
       "    <tr>\n",
       "      <th>3</th>\n",
       "      <td>3472816027</td>\n",
       "      <td>Data Analyst</td>\n",
       "      <td>Gurugram, Haryana, India</td>\n",
       "      <td>NaN</td>\n",
       "      <td>PVAR SERVICES</td>\n",
       "      <td>On-site</td>\n",
       "      <td>Full-time</td>\n",
       "      <td>1-10 employees</td>\n",
       "      <td>200</td>\n",
       "      <td>7 hours</td>\n",
       "      <td>NaN</td>\n",
       "      <td>Vartika Singh</td>\n",
       "      <td>2,094 followers</td>\n",
       "      <td>https://www.linkedin.com/in/vartika-singh-</td>\n",
       "      <td>About the job Designation: Data AnalystLocatio...</td>\n",
       "      <td>NaN</td>\n",
       "    </tr>\n",
       "    <tr>\n",
       "      <th>4</th>\n",
       "      <td>3473311511</td>\n",
       "      <td>Data Analyst</td>\n",
       "      <td>Mohali district, Punjab, India</td>\n",
       "      <td>NaN</td>\n",
       "      <td>Timeline Freight Brokers</td>\n",
       "      <td>On-site</td>\n",
       "      <td>Full-time</td>\n",
       "      <td>1-10 employees</td>\n",
       "      <td>8</td>\n",
       "      <td>26 minutes</td>\n",
       "      <td>1 company alumni</td>\n",
       "      <td>Manisha (Gisele Smith)</td>\n",
       "      <td>NaN</td>\n",
       "      <td>https://www.linkedin.com/in/manisharathore0029</td>\n",
       "      <td>About the job The ideal candidate will use the...</td>\n",
       "      <td>NaN</td>\n",
       "    </tr>\n",
       "  </tbody>\n",
       "</table>\n",
       "</div>"
      ],
      "text/plain": [
       "       job_ID                                                job  \\\n",
       "0  3471657636  Data Analyst, Trilogy (Remote) - $60,000/year USD   \n",
       "1  3471669068  Data Analyst, Trilogy (Remote) - $60,000/year USD   \n",
       "2  3474349934                                 Data Analyst - WFH   \n",
       "3  3472816027                                       Data Analyst   \n",
       "4  3473311511                                       Data Analyst   \n",
       "\n",
       "                         location  company_id              company_name  \\\n",
       "0             Delhi, Delhi, India         NaN                 Crossover   \n",
       "1         New Delhi, Delhi, India         NaN                 Crossover   \n",
       "2          Greater Bengaluru Area         NaN                    Uplers   \n",
       "3        Gurugram, Haryana, India         NaN             PVAR SERVICES   \n",
       "4  Mohali district, Punjab, India         NaN  Timeline Freight Brokers   \n",
       "\n",
       "  work_type              full_time_remote  \\\n",
       "0    Remote         Full-time · Associate   \n",
       "1    Remote         Full-time · Associate   \n",
       "2    Remote  Full-time · Mid-Senior level   \n",
       "3   On-site                     Full-time   \n",
       "4   On-site                     Full-time   \n",
       "\n",
       "                                        no_of_employ no_of_application  \\\n",
       "0  1,001-5,000 employees · IT Services and IT Con...               200   \n",
       "1  1,001-5,000 employees · IT Services and IT Con...               184   \n",
       "2  1,001-5,000 employees · IT Services and IT Con...               200   \n",
       "3                                     1-10 employees               200   \n",
       "4                                     1-10 employees                 8   \n",
       "\n",
       "  posted_day_ago             alumni           Hiring_person  \\\n",
       "0        8 hours  12 company alumni                     NaN   \n",
       "1        8 hours  12 company alumni                     NaN   \n",
       "2        9 hours   3 company alumni            Shahid Ahmad   \n",
       "3        7 hours                NaN           Vartika Singh   \n",
       "4     26 minutes   1 company alumni  Manisha (Gisele Smith)   \n",
       "\n",
       "    linkedin_followers                                 hiring_person_link  \\\n",
       "0  5,395,547 followers                                                NaN   \n",
       "1  5,395,547 followers                                                NaN   \n",
       "2                  NaN  https://www.linkedin.com/in/shahid-ahmad-a2613...   \n",
       "3      2,094 followers         https://www.linkedin.com/in/vartika-singh-   \n",
       "4                  NaN     https://www.linkedin.com/in/manisharathore0029   \n",
       "\n",
       "                                         job_details  Column1  \n",
       "0  About the job Crossover is the world's #1 sour...      NaN  \n",
       "1  About the job Crossover is the world's #1 sour...      NaN  \n",
       "2  About the job Profile: ML EngineersExperience:...      NaN  \n",
       "3  About the job Designation: Data AnalystLocatio...      NaN  \n",
       "4  About the job The ideal candidate will use the...      NaN  "
      ]
     },
     "execution_count": 2,
     "metadata": {},
     "output_type": "execute_result"
    }
   ],
   "source": [
    "df = pd.read_csv('/kaggle/input/linkedin-job-data/linkdin_Job_data.csv')\n",
    "df.head()"
   ]
  },
  {
   "cell_type": "code",
   "execution_count": 3,
   "id": "12a839f9",
   "metadata": {
    "execution": {
     "iopub.execute_input": "2023-07-07T16:28:00.384322Z",
     "iopub.status.busy": "2023-07-07T16:28:00.383873Z",
     "iopub.status.idle": "2023-07-07T16:28:00.392446Z",
     "shell.execute_reply": "2023-07-07T16:28:00.391175Z"
    },
    "papermill": {
     "duration": 0.016486,
     "end_time": "2023-07-07T16:28:00.394814",
     "exception": false,
     "start_time": "2023-07-07T16:28:00.378328",
     "status": "completed"
    },
    "tags": []
   },
   "outputs": [
    {
     "data": {
      "text/plain": [
       "(7927, 16)"
      ]
     },
     "execution_count": 3,
     "metadata": {},
     "output_type": "execute_result"
    }
   ],
   "source": [
    "df.shape"
   ]
  },
  {
   "cell_type": "code",
   "execution_count": 4,
   "id": "429f20f3",
   "metadata": {
    "execution": {
     "iopub.execute_input": "2023-07-07T16:28:00.405000Z",
     "iopub.status.busy": "2023-07-07T16:28:00.404558Z",
     "iopub.status.idle": "2023-07-07T16:28:00.474640Z",
     "shell.execute_reply": "2023-07-07T16:28:00.473102Z"
    },
    "papermill": {
     "duration": 0.078567,
     "end_time": "2023-07-07T16:28:00.477496",
     "exception": false,
     "start_time": "2023-07-07T16:28:00.398929",
     "status": "completed"
    },
    "tags": []
   },
   "outputs": [
    {
     "name": "stdout",
     "output_type": "stream",
     "text": [
      "<class 'pandas.core.frame.DataFrame'>\n",
      "RangeIndex: 7927 entries, 0 to 7926\n",
      "Data columns (total 16 columns):\n",
      " #   Column              Non-Null Count  Dtype  \n",
      "---  ------              --------------  -----  \n",
      " 0   job_ID              7927 non-null   int64  \n",
      " 1   job                 7894 non-null   object \n",
      " 2   location            7894 non-null   object \n",
      " 3   company_id          0 non-null      float64\n",
      " 4   company_name        7892 non-null   object \n",
      " 5   work_type           7736 non-null   object \n",
      " 6   full_time_remote    7848 non-null   object \n",
      " 7   no_of_employ        7603 non-null   object \n",
      " 8   no_of_application   7887 non-null   object \n",
      " 9   posted_day_ago      7920 non-null   object \n",
      " 10  alumni              4858 non-null   object \n",
      " 11  Hiring_person       5720 non-null   object \n",
      " 12  linkedin_followers  4814 non-null   object \n",
      " 13  hiring_person_link  5720 non-null   object \n",
      " 14  job_details         7881 non-null   object \n",
      " 15  Column1             0 non-null      float64\n",
      "dtypes: float64(2), int64(1), object(13)\n",
      "memory usage: 991.0+ KB\n"
     ]
    }
   ],
   "source": [
    "df.info()"
   ]
  },
  {
   "cell_type": "code",
   "execution_count": 5,
   "id": "c272bc17",
   "metadata": {
    "execution": {
     "iopub.execute_input": "2023-07-07T16:28:00.488702Z",
     "iopub.status.busy": "2023-07-07T16:28:00.488274Z",
     "iopub.status.idle": "2023-07-07T16:28:00.515899Z",
     "shell.execute_reply": "2023-07-07T16:28:00.514658Z"
    },
    "papermill": {
     "duration": 0.036701,
     "end_time": "2023-07-07T16:28:00.518736",
     "exception": false,
     "start_time": "2023-07-07T16:28:00.482035",
     "status": "completed"
    },
    "tags": []
   },
   "outputs": [
    {
     "data": {
      "text/html": [
       "<div>\n",
       "<style scoped>\n",
       "    .dataframe tbody tr th:only-of-type {\n",
       "        vertical-align: middle;\n",
       "    }\n",
       "\n",
       "    .dataframe tbody tr th {\n",
       "        vertical-align: top;\n",
       "    }\n",
       "\n",
       "    .dataframe thead th {\n",
       "        text-align: right;\n",
       "    }\n",
       "</style>\n",
       "<table border=\"1\" class=\"dataframe\">\n",
       "  <thead>\n",
       "    <tr style=\"text-align: right;\">\n",
       "      <th></th>\n",
       "      <th>job_ID</th>\n",
       "      <th>company_id</th>\n",
       "      <th>Column1</th>\n",
       "    </tr>\n",
       "  </thead>\n",
       "  <tbody>\n",
       "    <tr>\n",
       "      <th>count</th>\n",
       "      <td>7.927000e+03</td>\n",
       "      <td>0.0</td>\n",
       "      <td>0.0</td>\n",
       "    </tr>\n",
       "    <tr>\n",
       "      <th>mean</th>\n",
       "      <td>3.466724e+09</td>\n",
       "      <td>NaN</td>\n",
       "      <td>NaN</td>\n",
       "    </tr>\n",
       "    <tr>\n",
       "      <th>std</th>\n",
       "      <td>5.778011e+07</td>\n",
       "      <td>NaN</td>\n",
       "      <td>NaN</td>\n",
       "    </tr>\n",
       "    <tr>\n",
       "      <th>min</th>\n",
       "      <td>1.419216e+08</td>\n",
       "      <td>NaN</td>\n",
       "      <td>NaN</td>\n",
       "    </tr>\n",
       "    <tr>\n",
       "      <th>25%</th>\n",
       "      <td>3.467367e+09</td>\n",
       "      <td>NaN</td>\n",
       "      <td>NaN</td>\n",
       "    </tr>\n",
       "    <tr>\n",
       "      <th>50%</th>\n",
       "      <td>3.471882e+09</td>\n",
       "      <td>NaN</td>\n",
       "      <td>NaN</td>\n",
       "    </tr>\n",
       "    <tr>\n",
       "      <th>75%</th>\n",
       "      <td>3.476181e+09</td>\n",
       "      <td>NaN</td>\n",
       "      <td>NaN</td>\n",
       "    </tr>\n",
       "    <tr>\n",
       "      <th>max</th>\n",
       "      <td>3.477823e+09</td>\n",
       "      <td>NaN</td>\n",
       "      <td>NaN</td>\n",
       "    </tr>\n",
       "  </tbody>\n",
       "</table>\n",
       "</div>"
      ],
      "text/plain": [
       "             job_ID  company_id  Column1\n",
       "count  7.927000e+03         0.0      0.0\n",
       "mean   3.466724e+09         NaN      NaN\n",
       "std    5.778011e+07         NaN      NaN\n",
       "min    1.419216e+08         NaN      NaN\n",
       "25%    3.467367e+09         NaN      NaN\n",
       "50%    3.471882e+09         NaN      NaN\n",
       "75%    3.476181e+09         NaN      NaN\n",
       "max    3.477823e+09         NaN      NaN"
      ]
     },
     "execution_count": 5,
     "metadata": {},
     "output_type": "execute_result"
    }
   ],
   "source": [
    "df.describe()"
   ]
  },
  {
   "cell_type": "code",
   "execution_count": 6,
   "id": "a62fb301",
   "metadata": {
    "execution": {
     "iopub.execute_input": "2023-07-07T16:28:00.530253Z",
     "iopub.status.busy": "2023-07-07T16:28:00.529768Z",
     "iopub.status.idle": "2023-07-07T16:28:00.538657Z",
     "shell.execute_reply": "2023-07-07T16:28:00.537830Z"
    },
    "papermill": {
     "duration": 0.017573,
     "end_time": "2023-07-07T16:28:00.541012",
     "exception": false,
     "start_time": "2023-07-07T16:28:00.523439",
     "status": "completed"
    },
    "tags": []
   },
   "outputs": [
    {
     "data": {
      "text/plain": [
       "job_ID                  int64\n",
       "job                    object\n",
       "location               object\n",
       "company_id            float64\n",
       "company_name           object\n",
       "work_type              object\n",
       "full_time_remote       object\n",
       "no_of_employ           object\n",
       "no_of_application      object\n",
       "posted_day_ago         object\n",
       "alumni                 object\n",
       "Hiring_person          object\n",
       "linkedin_followers     object\n",
       "hiring_person_link     object\n",
       "job_details            object\n",
       "Column1               float64\n",
       "dtype: object"
      ]
     },
     "execution_count": 6,
     "metadata": {},
     "output_type": "execute_result"
    }
   ],
   "source": [
    "df.dtypes"
   ]
  },
  {
   "cell_type": "code",
   "execution_count": 7,
   "id": "93d1d336",
   "metadata": {
    "execution": {
     "iopub.execute_input": "2023-07-07T16:28:00.552468Z",
     "iopub.status.busy": "2023-07-07T16:28:00.551991Z",
     "iopub.status.idle": "2023-07-07T16:28:00.596044Z",
     "shell.execute_reply": "2023-07-07T16:28:00.594825Z"
    },
    "papermill": {
     "duration": 0.053042,
     "end_time": "2023-07-07T16:28:00.598759",
     "exception": false,
     "start_time": "2023-07-07T16:28:00.545717",
     "status": "completed"
    },
    "tags": []
   },
   "outputs": [
    {
     "data": {
      "text/plain": [
       "job_ID                   0\n",
       "job                     33\n",
       "location                33\n",
       "company_id            7927\n",
       "company_name            35\n",
       "work_type              191\n",
       "full_time_remote        79\n",
       "no_of_employ           324\n",
       "no_of_application       40\n",
       "posted_day_ago           7\n",
       "alumni                3069\n",
       "Hiring_person         2207\n",
       "linkedin_followers    3113\n",
       "hiring_person_link    2207\n",
       "job_details             46\n",
       "Column1               7927\n",
       "dtype: int64"
      ]
     },
     "execution_count": 7,
     "metadata": {},
     "output_type": "execute_result"
    }
   ],
   "source": [
    "df.isnull().sum()"
   ]
  }
 ],
 "metadata": {
  "kernelspec": {
   "display_name": "Python 3",
   "language": "python",
   "name": "python3"
  },
  "language_info": {
   "codemirror_mode": {
    "name": "ipython",
    "version": 3
   },
   "file_extension": ".py",
   "mimetype": "text/x-python",
   "name": "python",
   "nbconvert_exporter": "python",
   "pygments_lexer": "ipython3",
   "version": "3.10.10"
  },
  "papermill": {
   "default_parameters": {},
   "duration": 14.921164,
   "end_time": "2023-07-07T16:28:01.630092",
   "environment_variables": {},
   "exception": null,
   "input_path": "__notebook__.ipynb",
   "output_path": "__notebook__.ipynb",
   "parameters": {},
   "start_time": "2023-07-07T16:27:46.708928",
   "version": "2.4.0"
  }
 },
 "nbformat": 4,
 "nbformat_minor": 5
}
