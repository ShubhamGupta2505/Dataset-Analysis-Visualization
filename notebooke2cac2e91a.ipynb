{
 "cells": [
  {
   "cell_type": "code",
   "execution_count": 1,
   "id": "d975a162",
   "metadata": {
    "_cell_guid": "b1076dfc-b9ad-4769-8c92-a6c4dae69d19",
    "_uuid": "8f2839f25d086af736a60e9eeb907d3b93b6e0e5",
    "execution": {
     "iopub.execute_input": "2023-07-08T09:04:20.128947Z",
     "iopub.status.busy": "2023-07-08T09:04:20.128548Z",
     "iopub.status.idle": "2023-07-08T09:04:20.149311Z",
     "shell.execute_reply": "2023-07-08T09:04:20.148169Z"
    },
    "papermill": {
     "duration": 0.033475,
     "end_time": "2023-07-08T09:04:20.152528",
     "exception": false,
     "start_time": "2023-07-08T09:04:20.119053",
     "status": "completed"
    },
    "tags": []
   },
   "outputs": [
    {
     "name": "stdout",
     "output_type": "stream",
     "text": [
      "/kaggle/input/linkedin-job-data/linkdin_Job_data.xlsx\n",
      "/kaggle/input/linkedin-job-data/linkdin_Job_data.csv\n"
     ]
    }
   ],
   "source": [
    "# This Python 3 environment comes with many helpful analytics libraries installed\n",
    "# It is defined by the kaggle/python Docker image: https://github.com/kaggle/docker-python\n",
    "# For example, here's several helpful packages to load\n",
    "\n",
    "import numpy as np # linear algebra\n",
    "import pandas as pd # data processing, CSV file I/O (e.g. pd.read_csv)\n",
    "\n",
    "# Input data files are available in the read-only \"../input/\" directory\n",
    "# For example, running this (by clicking run or pressing Shift+Enter) will list all files under the input directory\n",
    "\n",
    "import os\n",
    "for dirname, _, filenames in os.walk('/kaggle/input'):\n",
    "    for filename in filenames:\n",
    "        print(os.path.join(dirname, filename))\n",
    "\n",
    "# You can write up to 20GB to the current directory (/kaggle/working/) that gets preserved as output when you create a version using \"Save & Run All\" \n",
    "# You can also write temporary files to /kaggle/temp/, but they won't be saved outside of the current session"
   ]
  },
  {
   "cell_type": "code",
   "execution_count": 2,
   "id": "0390c7a9",
   "metadata": {
    "execution": {
     "iopub.execute_input": "2023-07-08T09:04:20.168618Z",
     "iopub.status.busy": "2023-07-08T09:04:20.168238Z",
     "iopub.status.idle": "2023-07-08T09:04:20.723856Z",
     "shell.execute_reply": "2023-07-08T09:04:20.722717Z"
    },
    "papermill": {
     "duration": 0.566587,
     "end_time": "2023-07-08T09:04:20.726570",
     "exception": false,
     "start_time": "2023-07-08T09:04:20.159983",
     "status": "completed"
    },
    "tags": []
   },
   "outputs": [
    {
     "data": {
      "text/html": [
       "<div>\n",
       "<style scoped>\n",
       "    .dataframe tbody tr th:only-of-type {\n",
       "        vertical-align: middle;\n",
       "    }\n",
       "\n",
       "    .dataframe tbody tr th {\n",
       "        vertical-align: top;\n",
       "    }\n",
       "\n",
       "    .dataframe thead th {\n",
       "        text-align: right;\n",
       "    }\n",
       "</style>\n",
       "<table border=\"1\" class=\"dataframe\">\n",
       "  <thead>\n",
       "    <tr style=\"text-align: right;\">\n",
       "      <th></th>\n",
       "      <th>job_ID</th>\n",
       "      <th>job</th>\n",
       "      <th>location</th>\n",
       "      <th>company_id</th>\n",
       "      <th>company_name</th>\n",
       "      <th>work_type</th>\n",
       "      <th>full_time_remote</th>\n",
       "      <th>no_of_employ</th>\n",
       "      <th>no_of_application</th>\n",
       "      <th>posted_day_ago</th>\n",
       "      <th>alumni</th>\n",
       "      <th>Hiring_person</th>\n",
       "      <th>linkedin_followers</th>\n",
       "      <th>hiring_person_link</th>\n",
       "      <th>job_details</th>\n",
       "      <th>Column1</th>\n",
       "    </tr>\n",
       "  </thead>\n",
       "  <tbody>\n",
       "    <tr>\n",
       "      <th>0</th>\n",
       "      <td>3471657636</td>\n",
       "      <td>Data Analyst, Trilogy (Remote) - $60,000/year USD</td>\n",
       "      <td>Delhi, Delhi, India</td>\n",
       "      <td>NaN</td>\n",
       "      <td>Crossover</td>\n",
       "      <td>Remote</td>\n",
       "      <td>Full-time · Associate</td>\n",
       "      <td>1,001-5,000 employees · IT Services and IT Con...</td>\n",
       "      <td>200</td>\n",
       "      <td>8 hours</td>\n",
       "      <td>12 company alumni</td>\n",
       "      <td>NaN</td>\n",
       "      <td>5,395,547 followers</td>\n",
       "      <td>NaN</td>\n",
       "      <td>About the job Crossover is the world's #1 sour...</td>\n",
       "      <td>NaN</td>\n",
       "    </tr>\n",
       "    <tr>\n",
       "      <th>1</th>\n",
       "      <td>3471669068</td>\n",
       "      <td>Data Analyst, Trilogy (Remote) - $60,000/year USD</td>\n",
       "      <td>New Delhi, Delhi, India</td>\n",
       "      <td>NaN</td>\n",
       "      <td>Crossover</td>\n",
       "      <td>Remote</td>\n",
       "      <td>Full-time · Associate</td>\n",
       "      <td>1,001-5,000 employees · IT Services and IT Con...</td>\n",
       "      <td>184</td>\n",
       "      <td>8 hours</td>\n",
       "      <td>12 company alumni</td>\n",
       "      <td>NaN</td>\n",
       "      <td>5,395,547 followers</td>\n",
       "      <td>NaN</td>\n",
       "      <td>About the job Crossover is the world's #1 sour...</td>\n",
       "      <td>NaN</td>\n",
       "    </tr>\n",
       "    <tr>\n",
       "      <th>2</th>\n",
       "      <td>3474349934</td>\n",
       "      <td>Data Analyst - WFH</td>\n",
       "      <td>Greater Bengaluru Area</td>\n",
       "      <td>NaN</td>\n",
       "      <td>Uplers</td>\n",
       "      <td>Remote</td>\n",
       "      <td>Full-time · Mid-Senior level</td>\n",
       "      <td>1,001-5,000 employees · IT Services and IT Con...</td>\n",
       "      <td>200</td>\n",
       "      <td>9 hours</td>\n",
       "      <td>3 company alumni</td>\n",
       "      <td>Shahid Ahmad</td>\n",
       "      <td>NaN</td>\n",
       "      <td>https://www.linkedin.com/in/shahid-ahmad-a2613...</td>\n",
       "      <td>About the job Profile: ML EngineersExperience:...</td>\n",
       "      <td>NaN</td>\n",
       "    </tr>\n",
       "    <tr>\n",
       "      <th>3</th>\n",
       "      <td>3472816027</td>\n",
       "      <td>Data Analyst</td>\n",
       "      <td>Gurugram, Haryana, India</td>\n",
       "      <td>NaN</td>\n",
       "      <td>PVAR SERVICES</td>\n",
       "      <td>On-site</td>\n",
       "      <td>Full-time</td>\n",
       "      <td>1-10 employees</td>\n",
       "      <td>200</td>\n",
       "      <td>7 hours</td>\n",
       "      <td>NaN</td>\n",
       "      <td>Vartika Singh</td>\n",
       "      <td>2,094 followers</td>\n",
       "      <td>https://www.linkedin.com/in/vartika-singh-</td>\n",
       "      <td>About the job Designation: Data AnalystLocatio...</td>\n",
       "      <td>NaN</td>\n",
       "    </tr>\n",
       "    <tr>\n",
       "      <th>4</th>\n",
       "      <td>3473311511</td>\n",
       "      <td>Data Analyst</td>\n",
       "      <td>Mohali district, Punjab, India</td>\n",
       "      <td>NaN</td>\n",
       "      <td>Timeline Freight Brokers</td>\n",
       "      <td>On-site</td>\n",
       "      <td>Full-time</td>\n",
       "      <td>1-10 employees</td>\n",
       "      <td>8</td>\n",
       "      <td>26 minutes</td>\n",
       "      <td>1 company alumni</td>\n",
       "      <td>Manisha (Gisele Smith)</td>\n",
       "      <td>NaN</td>\n",
       "      <td>https://www.linkedin.com/in/manisharathore0029</td>\n",
       "      <td>About the job The ideal candidate will use the...</td>\n",
       "      <td>NaN</td>\n",
       "    </tr>\n",
       "  </tbody>\n",
       "</table>\n",
       "</div>"
      ],
      "text/plain": [
       "       job_ID                                                job  \\\n",
       "0  3471657636  Data Analyst, Trilogy (Remote) - $60,000/year USD   \n",
       "1  3471669068  Data Analyst, Trilogy (Remote) - $60,000/year USD   \n",
       "2  3474349934                                 Data Analyst - WFH   \n",
       "3  3472816027                                       Data Analyst   \n",
       "4  3473311511                                       Data Analyst   \n",
       "\n",
       "                         location  company_id              company_name  \\\n",
       "0             Delhi, Delhi, India         NaN                 Crossover   \n",
       "1         New Delhi, Delhi, India         NaN                 Crossover   \n",
       "2          Greater Bengaluru Area         NaN                    Uplers   \n",
       "3        Gurugram, Haryana, India         NaN             PVAR SERVICES   \n",
       "4  Mohali district, Punjab, India         NaN  Timeline Freight Brokers   \n",
       "\n",
       "  work_type              full_time_remote  \\\n",
       "0    Remote         Full-time · Associate   \n",
       "1    Remote         Full-time · Associate   \n",
       "2    Remote  Full-time · Mid-Senior level   \n",
       "3   On-site                     Full-time   \n",
       "4   On-site                     Full-time   \n",
       "\n",
       "                                        no_of_employ no_of_application  \\\n",
       "0  1,001-5,000 employees · IT Services and IT Con...               200   \n",
       "1  1,001-5,000 employees · IT Services and IT Con...               184   \n",
       "2  1,001-5,000 employees · IT Services and IT Con...               200   \n",
       "3                                     1-10 employees               200   \n",
       "4                                     1-10 employees                 8   \n",
       "\n",
       "  posted_day_ago             alumni           Hiring_person  \\\n",
       "0        8 hours  12 company alumni                     NaN   \n",
       "1        8 hours  12 company alumni                     NaN   \n",
       "2        9 hours   3 company alumni            Shahid Ahmad   \n",
       "3        7 hours                NaN           Vartika Singh   \n",
       "4     26 minutes   1 company alumni  Manisha (Gisele Smith)   \n",
       "\n",
       "    linkedin_followers                                 hiring_person_link  \\\n",
       "0  5,395,547 followers                                                NaN   \n",
       "1  5,395,547 followers                                                NaN   \n",
       "2                  NaN  https://www.linkedin.com/in/shahid-ahmad-a2613...   \n",
       "3      2,094 followers         https://www.linkedin.com/in/vartika-singh-   \n",
       "4                  NaN     https://www.linkedin.com/in/manisharathore0029   \n",
       "\n",
       "                                         job_details  Column1  \n",
       "0  About the job Crossover is the world's #1 sour...      NaN  \n",
       "1  About the job Crossover is the world's #1 sour...      NaN  \n",
       "2  About the job Profile: ML EngineersExperience:...      NaN  \n",
       "3  About the job Designation: Data AnalystLocatio...      NaN  \n",
       "4  About the job The ideal candidate will use the...      NaN  "
      ]
     },
     "execution_count": 2,
     "metadata": {},
     "output_type": "execute_result"
    }
   ],
   "source": [
    "df = pd.read_csv('/kaggle/input/linkedin-job-data/linkdin_Job_data.csv')\n",
    "df.head()"
   ]
  },
  {
   "cell_type": "code",
   "execution_count": 3,
   "id": "ff374708",
   "metadata": {
    "execution": {
     "iopub.execute_input": "2023-07-08T09:04:20.743391Z",
     "iopub.status.busy": "2023-07-08T09:04:20.742975Z",
     "iopub.status.idle": "2023-07-08T09:04:20.749474Z",
     "shell.execute_reply": "2023-07-08T09:04:20.748385Z"
    },
    "papermill": {
     "duration": 0.017834,
     "end_time": "2023-07-08T09:04:20.752049",
     "exception": false,
     "start_time": "2023-07-08T09:04:20.734215",
     "status": "completed"
    },
    "tags": []
   },
   "outputs": [
    {
     "data": {
      "text/plain": [
       "(7927, 16)"
      ]
     },
     "execution_count": 3,
     "metadata": {},
     "output_type": "execute_result"
    }
   ],
   "source": [
    "df.shape"
   ]
  },
  {
   "cell_type": "code",
   "execution_count": 4,
   "id": "ffd113d6",
   "metadata": {
    "execution": {
     "iopub.execute_input": "2023-07-08T09:04:20.769202Z",
     "iopub.status.busy": "2023-07-08T09:04:20.768351Z",
     "iopub.status.idle": "2023-07-08T09:04:20.826768Z",
     "shell.execute_reply": "2023-07-08T09:04:20.825192Z"
    },
    "papermill": {
     "duration": 0.069803,
     "end_time": "2023-07-08T09:04:20.829384",
     "exception": false,
     "start_time": "2023-07-08T09:04:20.759581",
     "status": "completed"
    },
    "tags": []
   },
   "outputs": [
    {
     "name": "stdout",
     "output_type": "stream",
     "text": [
      "<class 'pandas.core.frame.DataFrame'>\n",
      "RangeIndex: 7927 entries, 0 to 7926\n",
      "Data columns (total 16 columns):\n",
      " #   Column              Non-Null Count  Dtype  \n",
      "---  ------              --------------  -----  \n",
      " 0   job_ID              7927 non-null   int64  \n",
      " 1   job                 7894 non-null   object \n",
      " 2   location            7894 non-null   object \n",
      " 3   company_id          0 non-null      float64\n",
      " 4   company_name        7892 non-null   object \n",
      " 5   work_type           7736 non-null   object \n",
      " 6   full_time_remote    7848 non-null   object \n",
      " 7   no_of_employ        7603 non-null   object \n",
      " 8   no_of_application   7887 non-null   object \n",
      " 9   posted_day_ago      7920 non-null   object \n",
      " 10  alumni              4858 non-null   object \n",
      " 11  Hiring_person       5720 non-null   object \n",
      " 12  linkedin_followers  4814 non-null   object \n",
      " 13  hiring_person_link  5720 non-null   object \n",
      " 14  job_details         7881 non-null   object \n",
      " 15  Column1             0 non-null      float64\n",
      "dtypes: float64(2), int64(1), object(13)\n",
      "memory usage: 991.0+ KB\n"
     ]
    }
   ],
   "source": [
    "df.info()"
   ]
  },
  {
   "cell_type": "code",
   "execution_count": 5,
   "id": "c12801aa",
   "metadata": {
    "execution": {
     "iopub.execute_input": "2023-07-08T09:04:20.848809Z",
     "iopub.status.busy": "2023-07-08T09:04:20.848143Z",
     "iopub.status.idle": "2023-07-08T09:04:20.872464Z",
     "shell.execute_reply": "2023-07-08T09:04:20.871289Z"
    },
    "papermill": {
     "duration": 0.037906,
     "end_time": "2023-07-08T09:04:20.875268",
     "exception": false,
     "start_time": "2023-07-08T09:04:20.837362",
     "status": "completed"
    },
    "tags": []
   },
   "outputs": [
    {
     "data": {
      "text/html": [
       "<div>\n",
       "<style scoped>\n",
       "    .dataframe tbody tr th:only-of-type {\n",
       "        vertical-align: middle;\n",
       "    }\n",
       "\n",
       "    .dataframe tbody tr th {\n",
       "        vertical-align: top;\n",
       "    }\n",
       "\n",
       "    .dataframe thead th {\n",
       "        text-align: right;\n",
       "    }\n",
       "</style>\n",
       "<table border=\"1\" class=\"dataframe\">\n",
       "  <thead>\n",
       "    <tr style=\"text-align: right;\">\n",
       "      <th></th>\n",
       "      <th>job_ID</th>\n",
       "      <th>company_id</th>\n",
       "      <th>Column1</th>\n",
       "    </tr>\n",
       "  </thead>\n",
       "  <tbody>\n",
       "    <tr>\n",
       "      <th>count</th>\n",
       "      <td>7.927000e+03</td>\n",
       "      <td>0.0</td>\n",
       "      <td>0.0</td>\n",
       "    </tr>\n",
       "    <tr>\n",
       "      <th>mean</th>\n",
       "      <td>3.466724e+09</td>\n",
       "      <td>NaN</td>\n",
       "      <td>NaN</td>\n",
       "    </tr>\n",
       "    <tr>\n",
       "      <th>std</th>\n",
       "      <td>5.778011e+07</td>\n",
       "      <td>NaN</td>\n",
       "      <td>NaN</td>\n",
       "    </tr>\n",
       "    <tr>\n",
       "      <th>min</th>\n",
       "      <td>1.419216e+08</td>\n",
       "      <td>NaN</td>\n",
       "      <td>NaN</td>\n",
       "    </tr>\n",
       "    <tr>\n",
       "      <th>25%</th>\n",
       "      <td>3.467367e+09</td>\n",
       "      <td>NaN</td>\n",
       "      <td>NaN</td>\n",
       "    </tr>\n",
       "    <tr>\n",
       "      <th>50%</th>\n",
       "      <td>3.471882e+09</td>\n",
       "      <td>NaN</td>\n",
       "      <td>NaN</td>\n",
       "    </tr>\n",
       "    <tr>\n",
       "      <th>75%</th>\n",
       "      <td>3.476181e+09</td>\n",
       "      <td>NaN</td>\n",
       "      <td>NaN</td>\n",
       "    </tr>\n",
       "    <tr>\n",
       "      <th>max</th>\n",
       "      <td>3.477823e+09</td>\n",
       "      <td>NaN</td>\n",
       "      <td>NaN</td>\n",
       "    </tr>\n",
       "  </tbody>\n",
       "</table>\n",
       "</div>"
      ],
      "text/plain": [
       "             job_ID  company_id  Column1\n",
       "count  7.927000e+03         0.0      0.0\n",
       "mean   3.466724e+09         NaN      NaN\n",
       "std    5.778011e+07         NaN      NaN\n",
       "min    1.419216e+08         NaN      NaN\n",
       "25%    3.467367e+09         NaN      NaN\n",
       "50%    3.471882e+09         NaN      NaN\n",
       "75%    3.476181e+09         NaN      NaN\n",
       "max    3.477823e+09         NaN      NaN"
      ]
     },
     "execution_count": 5,
     "metadata": {},
     "output_type": "execute_result"
    }
   ],
   "source": [
    "df.describe()"
   ]
  },
  {
   "cell_type": "code",
   "execution_count": 6,
   "id": "47bd2c49",
   "metadata": {
    "execution": {
     "iopub.execute_input": "2023-07-08T09:04:20.893058Z",
     "iopub.status.busy": "2023-07-08T09:04:20.892629Z",
     "iopub.status.idle": "2023-07-08T09:04:20.901106Z",
     "shell.execute_reply": "2023-07-08T09:04:20.900161Z"
    },
    "papermill": {
     "duration": 0.01991,
     "end_time": "2023-07-08T09:04:20.903339",
     "exception": false,
     "start_time": "2023-07-08T09:04:20.883429",
     "status": "completed"
    },
    "tags": []
   },
   "outputs": [
    {
     "data": {
      "text/plain": [
       "job_ID                  int64\n",
       "job                    object\n",
       "location               object\n",
       "company_id            float64\n",
       "company_name           object\n",
       "work_type              object\n",
       "full_time_remote       object\n",
       "no_of_employ           object\n",
       "no_of_application      object\n",
       "posted_day_ago         object\n",
       "alumni                 object\n",
       "Hiring_person          object\n",
       "linkedin_followers     object\n",
       "hiring_person_link     object\n",
       "job_details            object\n",
       "Column1               float64\n",
       "dtype: object"
      ]
     },
     "execution_count": 6,
     "metadata": {},
     "output_type": "execute_result"
    }
   ],
   "source": [
    "df.dtypes"
   ]
  },
  {
   "cell_type": "code",
   "execution_count": 7,
   "id": "51bf52f3",
   "metadata": {
    "execution": {
     "iopub.execute_input": "2023-07-08T09:04:20.922417Z",
     "iopub.status.busy": "2023-07-08T09:04:20.921331Z",
     "iopub.status.idle": "2023-07-08T09:04:20.963056Z",
     "shell.execute_reply": "2023-07-08T09:04:20.961894Z"
    },
    "papermill": {
     "duration": 0.054074,
     "end_time": "2023-07-08T09:04:20.965634",
     "exception": false,
     "start_time": "2023-07-08T09:04:20.911560",
     "status": "completed"
    },
    "tags": []
   },
   "outputs": [
    {
     "data": {
      "text/plain": [
       "job_ID                   0\n",
       "job                     33\n",
       "location                33\n",
       "company_id            7927\n",
       "company_name            35\n",
       "work_type              191\n",
       "full_time_remote        79\n",
       "no_of_employ           324\n",
       "no_of_application       40\n",
       "posted_day_ago           7\n",
       "alumni                3069\n",
       "Hiring_person         2207\n",
       "linkedin_followers    3113\n",
       "hiring_person_link    2207\n",
       "job_details             46\n",
       "Column1               7927\n",
       "dtype: int64"
      ]
     },
     "execution_count": 7,
     "metadata": {},
     "output_type": "execute_result"
    }
   ],
   "source": [
    "df.isnull().sum()"
   ]
  },
  {
   "cell_type": "code",
   "execution_count": 8,
   "id": "5c5020c9",
   "metadata": {
    "execution": {
     "iopub.execute_input": "2023-07-08T09:04:20.983940Z",
     "iopub.status.busy": "2023-07-08T09:04:20.983542Z",
     "iopub.status.idle": "2023-07-08T09:04:20.992464Z",
     "shell.execute_reply": "2023-07-08T09:04:20.991323Z"
    },
    "papermill": {
     "duration": 0.021045,
     "end_time": "2023-07-08T09:04:20.994911",
     "exception": false,
     "start_time": "2023-07-08T09:04:20.973866",
     "status": "completed"
    },
    "tags": []
   },
   "outputs": [],
   "source": [
    "df.drop(['company_id','Column1'],axis=1,inplace=True)"
   ]
  },
  {
   "cell_type": "code",
   "execution_count": 9,
   "id": "227005fd",
   "metadata": {
    "execution": {
     "iopub.execute_input": "2023-07-08T09:04:21.013396Z",
     "iopub.status.busy": "2023-07-08T09:04:21.012969Z",
     "iopub.status.idle": "2023-07-08T09:04:21.021109Z",
     "shell.execute_reply": "2023-07-08T09:04:21.020106Z"
    },
    "papermill": {
     "duration": 0.020051,
     "end_time": "2023-07-08T09:04:21.023374",
     "exception": false,
     "start_time": "2023-07-08T09:04:21.003323",
     "status": "completed"
    },
    "tags": []
   },
   "outputs": [],
   "source": [
    "df.drop(['hiring_person_link'],axis=1,inplace=True)"
   ]
  },
  {
   "cell_type": "code",
   "execution_count": 10,
   "id": "7dcc2189",
   "metadata": {
    "execution": {
     "iopub.execute_input": "2023-07-08T09:04:21.041836Z",
     "iopub.status.busy": "2023-07-08T09:04:21.041472Z",
     "iopub.status.idle": "2023-07-08T09:04:21.079661Z",
     "shell.execute_reply": "2023-07-08T09:04:21.078602Z"
    },
    "papermill": {
     "duration": 0.050215,
     "end_time": "2023-07-08T09:04:21.081983",
     "exception": false,
     "start_time": "2023-07-08T09:04:21.031768",
     "status": "completed"
    },
    "tags": []
   },
   "outputs": [
    {
     "data": {
      "text/plain": [
       "job_ID                   0\n",
       "job                     33\n",
       "location                33\n",
       "company_name            35\n",
       "work_type              191\n",
       "full_time_remote        79\n",
       "no_of_employ           324\n",
       "no_of_application       40\n",
       "posted_day_ago           7\n",
       "alumni                3069\n",
       "Hiring_person         2207\n",
       "linkedin_followers    3113\n",
       "job_details             46\n",
       "dtype: int64"
      ]
     },
     "execution_count": 10,
     "metadata": {},
     "output_type": "execute_result"
    }
   ],
   "source": [
    "df.isnull().sum()"
   ]
  },
  {
   "cell_type": "code",
   "execution_count": 11,
   "id": "ffb3999e",
   "metadata": {
    "execution": {
     "iopub.execute_input": "2023-07-08T09:04:21.100924Z",
     "iopub.status.busy": "2023-07-08T09:04:21.100562Z",
     "iopub.status.idle": "2023-07-08T09:04:21.126722Z",
     "shell.execute_reply": "2023-07-08T09:04:21.125464Z"
    },
    "papermill": {
     "duration": 0.038469,
     "end_time": "2023-07-08T09:04:21.129122",
     "exception": false,
     "start_time": "2023-07-08T09:04:21.090653",
     "status": "completed"
    },
    "tags": []
   },
   "outputs": [
    {
     "data": {
      "text/html": [
       "<div>\n",
       "<style scoped>\n",
       "    .dataframe tbody tr th:only-of-type {\n",
       "        vertical-align: middle;\n",
       "    }\n",
       "\n",
       "    .dataframe tbody tr th {\n",
       "        vertical-align: top;\n",
       "    }\n",
       "\n",
       "    .dataframe thead th {\n",
       "        text-align: right;\n",
       "    }\n",
       "</style>\n",
       "<table border=\"1\" class=\"dataframe\">\n",
       "  <thead>\n",
       "    <tr style=\"text-align: right;\">\n",
       "      <th></th>\n",
       "      <th>job_ID</th>\n",
       "      <th>job</th>\n",
       "      <th>location</th>\n",
       "      <th>company_name</th>\n",
       "      <th>work_type</th>\n",
       "      <th>full_time_remote</th>\n",
       "      <th>no_of_employ</th>\n",
       "      <th>no_of_application</th>\n",
       "      <th>posted_day_ago</th>\n",
       "      <th>alumni</th>\n",
       "      <th>Hiring_person</th>\n",
       "      <th>linkedin_followers</th>\n",
       "      <th>job_details</th>\n",
       "    </tr>\n",
       "  </thead>\n",
       "  <tbody>\n",
       "    <tr>\n",
       "      <th>0</th>\n",
       "      <td>3471657636</td>\n",
       "      <td>Data Analyst, Trilogy (Remote) - $60,000/year USD</td>\n",
       "      <td>Delhi, Delhi, India</td>\n",
       "      <td>Crossover</td>\n",
       "      <td>Remote</td>\n",
       "      <td>Full-time · Associate</td>\n",
       "      <td>1,001-5,000 employees · IT Services and IT Con...</td>\n",
       "      <td>200</td>\n",
       "      <td>8 hours</td>\n",
       "      <td>12 company alumni</td>\n",
       "      <td>NaN</td>\n",
       "      <td>5,395,547 followers</td>\n",
       "      <td>About the job Crossover is the world's #1 sour...</td>\n",
       "    </tr>\n",
       "    <tr>\n",
       "      <th>1</th>\n",
       "      <td>3471669068</td>\n",
       "      <td>Data Analyst, Trilogy (Remote) - $60,000/year USD</td>\n",
       "      <td>New Delhi, Delhi, India</td>\n",
       "      <td>Crossover</td>\n",
       "      <td>Remote</td>\n",
       "      <td>Full-time · Associate</td>\n",
       "      <td>1,001-5,000 employees · IT Services and IT Con...</td>\n",
       "      <td>184</td>\n",
       "      <td>8 hours</td>\n",
       "      <td>12 company alumni</td>\n",
       "      <td>NaN</td>\n",
       "      <td>5,395,547 followers</td>\n",
       "      <td>About the job Crossover is the world's #1 sour...</td>\n",
       "    </tr>\n",
       "    <tr>\n",
       "      <th>2</th>\n",
       "      <td>3474349934</td>\n",
       "      <td>Data Analyst - WFH</td>\n",
       "      <td>Greater Bengaluru Area</td>\n",
       "      <td>Uplers</td>\n",
       "      <td>Remote</td>\n",
       "      <td>Full-time · Mid-Senior level</td>\n",
       "      <td>1,001-5,000 employees · IT Services and IT Con...</td>\n",
       "      <td>200</td>\n",
       "      <td>9 hours</td>\n",
       "      <td>3 company alumni</td>\n",
       "      <td>Shahid Ahmad</td>\n",
       "      <td>NaN</td>\n",
       "      <td>About the job Profile: ML EngineersExperience:...</td>\n",
       "    </tr>\n",
       "    <tr>\n",
       "      <th>3</th>\n",
       "      <td>3472816027</td>\n",
       "      <td>Data Analyst</td>\n",
       "      <td>Gurugram, Haryana, India</td>\n",
       "      <td>PVAR SERVICES</td>\n",
       "      <td>On-site</td>\n",
       "      <td>Full-time</td>\n",
       "      <td>1-10 employees</td>\n",
       "      <td>200</td>\n",
       "      <td>7 hours</td>\n",
       "      <td>NaN</td>\n",
       "      <td>Vartika Singh</td>\n",
       "      <td>2,094 followers</td>\n",
       "      <td>About the job Designation: Data AnalystLocatio...</td>\n",
       "    </tr>\n",
       "    <tr>\n",
       "      <th>4</th>\n",
       "      <td>3473311511</td>\n",
       "      <td>Data Analyst</td>\n",
       "      <td>Mohali district, Punjab, India</td>\n",
       "      <td>Timeline Freight Brokers</td>\n",
       "      <td>On-site</td>\n",
       "      <td>Full-time</td>\n",
       "      <td>1-10 employees</td>\n",
       "      <td>8</td>\n",
       "      <td>26 minutes</td>\n",
       "      <td>1 company alumni</td>\n",
       "      <td>Manisha (Gisele Smith)</td>\n",
       "      <td>NaN</td>\n",
       "      <td>About the job The ideal candidate will use the...</td>\n",
       "    </tr>\n",
       "    <tr>\n",
       "      <th>5</th>\n",
       "      <td>3472504479</td>\n",
       "      <td>Data Analyst</td>\n",
       "      <td>Gurugram, Haryana, India</td>\n",
       "      <td>airtel</td>\n",
       "      <td>On-site</td>\n",
       "      <td>Full-time · Entry level</td>\n",
       "      <td>10,001+ employees · Telecommunications</td>\n",
       "      <td>200</td>\n",
       "      <td>10 hours</td>\n",
       "      <td>132 company alumni</td>\n",
       "      <td>NaN</td>\n",
       "      <td>972,657 followers</td>\n",
       "      <td>About the job The ideal candidate will use the...</td>\n",
       "    </tr>\n",
       "    <tr>\n",
       "      <th>6</th>\n",
       "      <td>3471658510</td>\n",
       "      <td>Data Analyst, Trilogy (Remote) - $60,000/year USD</td>\n",
       "      <td>Bengaluru, Karnataka, India</td>\n",
       "      <td>Crossover</td>\n",
       "      <td>Remote</td>\n",
       "      <td>Full-time · Associate</td>\n",
       "      <td>1,001-5,000 employees · IT Services and IT Con...</td>\n",
       "      <td>200</td>\n",
       "      <td>8 hours</td>\n",
       "      <td>12 company alumni</td>\n",
       "      <td>NaN</td>\n",
       "      <td>5,395,546 followers</td>\n",
       "      <td>About the job Crossover is the world's #1 sour...</td>\n",
       "    </tr>\n",
       "    <tr>\n",
       "      <th>7</th>\n",
       "      <td>3472808738</td>\n",
       "      <td>Shopify Developer</td>\n",
       "      <td>Delhi, India</td>\n",
       "      <td>Digital Impressions</td>\n",
       "      <td>On-site</td>\n",
       "      <td>Full-time</td>\n",
       "      <td>51-200 employees</td>\n",
       "      <td>2</td>\n",
       "      <td>7 hours</td>\n",
       "      <td>1 company alumni</td>\n",
       "      <td>Rashmi Aggarwal</td>\n",
       "      <td>1,045 followers</td>\n",
       "      <td>About the job The ideal candidate will be resp...</td>\n",
       "    </tr>\n",
       "    <tr>\n",
       "      <th>8</th>\n",
       "      <td>3475061559</td>\n",
       "      <td>Database Developer</td>\n",
       "      <td>Gurugram, Haryana, India</td>\n",
       "      <td>Kline &amp; Company</td>\n",
       "      <td>Hybrid</td>\n",
       "      <td>Full-time</td>\n",
       "      <td>201-500 employees</td>\n",
       "      <td>7</td>\n",
       "      <td>25 minutes</td>\n",
       "      <td>NaN</td>\n",
       "      <td>Duncan Lawie</td>\n",
       "      <td>30,319 followers</td>\n",
       "      <td>About the job Are you an experienced Microsoft...</td>\n",
       "    </tr>\n",
       "    <tr>\n",
       "      <th>9</th>\n",
       "      <td>3473336242</td>\n",
       "      <td>Shopify Developer</td>\n",
       "      <td>Gurugram, Haryana, India</td>\n",
       "      <td>ADesignGuy</td>\n",
       "      <td>Hybrid</td>\n",
       "      <td>NaN</td>\n",
       "      <td>NaN</td>\n",
       "      <td>minutes</td>\n",
       "      <td>9 minutes</td>\n",
       "      <td>NaN</td>\n",
       "      <td>NaN</td>\n",
       "      <td>2,163 followers</td>\n",
       "      <td>About the job Job Title: Shopify Developer (In...</td>\n",
       "    </tr>\n",
       "    <tr>\n",
       "      <th>10</th>\n",
       "      <td>3471883751</td>\n",
       "      <td>Shopify Developer</td>\n",
       "      <td>Noida, Uttar Pradesh, India</td>\n",
       "      <td>Unitalks Technologies</td>\n",
       "      <td>Remote</td>\n",
       "      <td>Full-time</td>\n",
       "      <td>11-50 employees</td>\n",
       "      <td>22</td>\n",
       "      <td>10 hours</td>\n",
       "      <td>NaN</td>\n",
       "      <td>Yamini Gupta</td>\n",
       "      <td>4,780 followers</td>\n",
       "      <td>About the job Create an engaging and knowledge...</td>\n",
       "    </tr>\n",
       "    <tr>\n",
       "      <th>11</th>\n",
       "      <td>3467390929</td>\n",
       "      <td>Data Engineer</td>\n",
       "      <td>Gurugram, Haryana, India</td>\n",
       "      <td>ReNew Power</td>\n",
       "      <td>On-site</td>\n",
       "      <td>Full-time · Mid-Senior level</td>\n",
       "      <td>501-1,000 employees · Renewable Energy Semicon...</td>\n",
       "      <td>111</td>\n",
       "      <td>5 hours</td>\n",
       "      <td>4 company alumni</td>\n",
       "      <td>Neha Yadav</td>\n",
       "      <td>198,797 followers</td>\n",
       "      <td>About the job About the organizationFounded in...</td>\n",
       "    </tr>\n",
       "    <tr>\n",
       "      <th>12</th>\n",
       "      <td>3472504791</td>\n",
       "      <td>Tableau (APL)</td>\n",
       "      <td>Noida, Uttar Pradesh, India</td>\n",
       "      <td>Escalent</td>\n",
       "      <td>NaN</td>\n",
       "      <td>Full-time</td>\n",
       "      <td>501-1,000 employees · Market Research</td>\n",
       "      <td>36</td>\n",
       "      <td>9 hours</td>\n",
       "      <td>3 company alumni</td>\n",
       "      <td>NaN</td>\n",
       "      <td>NaN</td>\n",
       "      <td>About the job Who We Are Escalent is an award-...</td>\n",
       "    </tr>\n",
       "    <tr>\n",
       "      <th>13</th>\n",
       "      <td>3470730035</td>\n",
       "      <td>Data Engineer (Python)</td>\n",
       "      <td>Gurugram, Haryana, India</td>\n",
       "      <td>Mobile Programming LLC</td>\n",
       "      <td>On-site</td>\n",
       "      <td>Full-time</td>\n",
       "      <td>1,001-5,000 employees</td>\n",
       "      <td>44</td>\n",
       "      <td>20 hours</td>\n",
       "      <td>5 company alumni</td>\n",
       "      <td>Ajay Tanwar</td>\n",
       "      <td>269,349 followers</td>\n",
       "      <td>About the job Data Engineer (Python) Experienc...</td>\n",
       "    </tr>\n",
       "    <tr>\n",
       "      <th>14</th>\n",
       "      <td>3467389209</td>\n",
       "      <td>Python Data Engineer</td>\n",
       "      <td>Hyderabad, Telangana, India</td>\n",
       "      <td>Tezra</td>\n",
       "      <td>Remote</td>\n",
       "      <td>Full-time</td>\n",
       "      <td>11-50 employees</td>\n",
       "      <td>29</td>\n",
       "      <td>6 hours</td>\n",
       "      <td>NaN</td>\n",
       "      <td>Sunil Kumar</td>\n",
       "      <td>6,311 followers</td>\n",
       "      <td>About the job Hiring Python Data Engineer for ...</td>\n",
       "    </tr>\n",
       "    <tr>\n",
       "      <th>15</th>\n",
       "      <td>3473305093</td>\n",
       "      <td>Zoho Developer</td>\n",
       "      <td>India</td>\n",
       "      <td>Grow Your Staff</td>\n",
       "      <td>Remote</td>\n",
       "      <td>Contract</td>\n",
       "      <td>201-500 employees</td>\n",
       "      <td>4</td>\n",
       "      <td>1 hour</td>\n",
       "      <td>NaN</td>\n",
       "      <td>Arjun Reddy</td>\n",
       "      <td>99,201 followers</td>\n",
       "      <td>About the job GrowYourStaff is looking for a Z...</td>\n",
       "    </tr>\n",
       "    <tr>\n",
       "      <th>16</th>\n",
       "      <td>3467376975</td>\n",
       "      <td>Salesforce CPQ Developer(Looking for only Imme...</td>\n",
       "      <td>Hyderabad, Telangana, India</td>\n",
       "      <td>ValueLabs</td>\n",
       "      <td>Remote</td>\n",
       "      <td>Full-time · Mid-Senior level</td>\n",
       "      <td>5,001-10,000 employees · IT Services and IT Co...</td>\n",
       "      <td>19</td>\n",
       "      <td>7 hours</td>\n",
       "      <td>105 company alumni</td>\n",
       "      <td>venkatesh chittimalla</td>\n",
       "      <td>NaN</td>\n",
       "      <td>About the job Dear All,Greetings..!!!!!! We ar...</td>\n",
       "    </tr>\n",
       "    <tr>\n",
       "      <th>17</th>\n",
       "      <td>3471880568</td>\n",
       "      <td>Golang Developer</td>\n",
       "      <td>Delhi, India</td>\n",
       "      <td>Optimal Virtual Employee</td>\n",
       "      <td>Remote</td>\n",
       "      <td>Full-time</td>\n",
       "      <td>201-500 employees</td>\n",
       "      <td>14</td>\n",
       "      <td>10 hours</td>\n",
       "      <td>NaN</td>\n",
       "      <td>Dharmesh Shah</td>\n",
       "      <td>23,377 followers</td>\n",
       "      <td>About the job The ideal candidate will be resp...</td>\n",
       "    </tr>\n",
       "    <tr>\n",
       "      <th>18</th>\n",
       "      <td>3470733079</td>\n",
       "      <td>SAP Customer Data Cloud \"Business Analyst Tech...</td>\n",
       "      <td>Bengaluru, Karnataka, India</td>\n",
       "      <td>Mobile Programming LLC</td>\n",
       "      <td>On-site</td>\n",
       "      <td>Full-time</td>\n",
       "      <td>1,001-5,000 employees</td>\n",
       "      <td>13</td>\n",
       "      <td>20 hours</td>\n",
       "      <td>5 company alumni</td>\n",
       "      <td>NaN</td>\n",
       "      <td>269,352 followers</td>\n",
       "      <td>About the job SAP Customer Data Cloud \"Busines...</td>\n",
       "    </tr>\n",
       "    <tr>\n",
       "      <th>19</th>\n",
       "      <td>3467389203</td>\n",
       "      <td>Quickbase Developer</td>\n",
       "      <td>Hyderabad, Telangana, India</td>\n",
       "      <td>Eclatprime Digital</td>\n",
       "      <td>On-site</td>\n",
       "      <td>Full-time</td>\n",
       "      <td>51-200 employees</td>\n",
       "      <td>2</td>\n",
       "      <td>6 hours</td>\n",
       "      <td>2 company alumni</td>\n",
       "      <td>Prithvi Pragallapati</td>\n",
       "      <td>4,859 followers</td>\n",
       "      <td>About the job Requirements:The candidate shoul...</td>\n",
       "    </tr>\n",
       "  </tbody>\n",
       "</table>\n",
       "</div>"
      ],
      "text/plain": [
       "        job_ID                                                job  \\\n",
       "0   3471657636  Data Analyst, Trilogy (Remote) - $60,000/year USD   \n",
       "1   3471669068  Data Analyst, Trilogy (Remote) - $60,000/year USD   \n",
       "2   3474349934                                 Data Analyst - WFH   \n",
       "3   3472816027                                       Data Analyst   \n",
       "4   3473311511                                       Data Analyst   \n",
       "5   3472504479                                       Data Analyst   \n",
       "6   3471658510  Data Analyst, Trilogy (Remote) - $60,000/year USD   \n",
       "7   3472808738                                  Shopify Developer   \n",
       "8   3475061559                                 Database Developer   \n",
       "9   3473336242                                  Shopify Developer   \n",
       "10  3471883751                                  Shopify Developer   \n",
       "11  3467390929                                      Data Engineer   \n",
       "12  3472504791                                      Tableau (APL)   \n",
       "13  3470730035                             Data Engineer (Python)   \n",
       "14  3467389209                               Python Data Engineer   \n",
       "15  3473305093                                     Zoho Developer   \n",
       "16  3467376975  Salesforce CPQ Developer(Looking for only Imme...   \n",
       "17  3471880568                                   Golang Developer   \n",
       "18  3470733079  SAP Customer Data Cloud \"Business Analyst Tech...   \n",
       "19  3467389203                                Quickbase Developer   \n",
       "\n",
       "                          location              company_name work_type  \\\n",
       "0              Delhi, Delhi, India                 Crossover    Remote   \n",
       "1          New Delhi, Delhi, India                 Crossover    Remote   \n",
       "2           Greater Bengaluru Area                    Uplers    Remote   \n",
       "3         Gurugram, Haryana, India             PVAR SERVICES   On-site   \n",
       "4   Mohali district, Punjab, India  Timeline Freight Brokers   On-site   \n",
       "5         Gurugram, Haryana, India                    airtel   On-site   \n",
       "6      Bengaluru, Karnataka, India                 Crossover    Remote   \n",
       "7                     Delhi, India       Digital Impressions   On-site   \n",
       "8         Gurugram, Haryana, India           Kline & Company    Hybrid   \n",
       "9         Gurugram, Haryana, India                ADesignGuy    Hybrid   \n",
       "10     Noida, Uttar Pradesh, India     Unitalks Technologies    Remote   \n",
       "11        Gurugram, Haryana, India               ReNew Power   On-site   \n",
       "12     Noida, Uttar Pradesh, India                  Escalent       NaN   \n",
       "13        Gurugram, Haryana, India    Mobile Programming LLC   On-site   \n",
       "14     Hyderabad, Telangana, India                     Tezra    Remote   \n",
       "15                           India           Grow Your Staff    Remote   \n",
       "16     Hyderabad, Telangana, India                 ValueLabs    Remote   \n",
       "17                    Delhi, India  Optimal Virtual Employee    Remote   \n",
       "18     Bengaluru, Karnataka, India    Mobile Programming LLC   On-site   \n",
       "19     Hyderabad, Telangana, India        Eclatprime Digital   On-site   \n",
       "\n",
       "                full_time_remote  \\\n",
       "0          Full-time · Associate   \n",
       "1          Full-time · Associate   \n",
       "2   Full-time · Mid-Senior level   \n",
       "3                      Full-time   \n",
       "4                      Full-time   \n",
       "5        Full-time · Entry level   \n",
       "6          Full-time · Associate   \n",
       "7                      Full-time   \n",
       "8                      Full-time   \n",
       "9                            NaN   \n",
       "10                     Full-time   \n",
       "11  Full-time · Mid-Senior level   \n",
       "12                     Full-time   \n",
       "13                     Full-time   \n",
       "14                     Full-time   \n",
       "15                      Contract   \n",
       "16  Full-time · Mid-Senior level   \n",
       "17                     Full-time   \n",
       "18                     Full-time   \n",
       "19                     Full-time   \n",
       "\n",
       "                                         no_of_employ no_of_application  \\\n",
       "0   1,001-5,000 employees · IT Services and IT Con...               200   \n",
       "1   1,001-5,000 employees · IT Services and IT Con...               184   \n",
       "2   1,001-5,000 employees · IT Services and IT Con...               200   \n",
       "3                                      1-10 employees               200   \n",
       "4                                      1-10 employees                 8   \n",
       "5              10,001+ employees · Telecommunications               200   \n",
       "6   1,001-5,000 employees · IT Services and IT Con...               200   \n",
       "7                                    51-200 employees                 2   \n",
       "8                                   201-500 employees                 7   \n",
       "9                                                 NaN           minutes   \n",
       "10                                    11-50 employees                22   \n",
       "11  501-1,000 employees · Renewable Energy Semicon...               111   \n",
       "12              501-1,000 employees · Market Research                36   \n",
       "13                              1,001-5,000 employees                44   \n",
       "14                                    11-50 employees                29   \n",
       "15                                  201-500 employees                 4   \n",
       "16  5,001-10,000 employees · IT Services and IT Co...                19   \n",
       "17                                  201-500 employees                14   \n",
       "18                              1,001-5,000 employees                13   \n",
       "19                                   51-200 employees                 2   \n",
       "\n",
       "   posted_day_ago              alumni           Hiring_person  \\\n",
       "0         8 hours   12 company alumni                     NaN   \n",
       "1         8 hours   12 company alumni                     NaN   \n",
       "2         9 hours    3 company alumni            Shahid Ahmad   \n",
       "3         7 hours                 NaN           Vartika Singh   \n",
       "4      26 minutes    1 company alumni  Manisha (Gisele Smith)   \n",
       "5        10 hours  132 company alumni                     NaN   \n",
       "6         8 hours   12 company alumni                     NaN   \n",
       "7         7 hours    1 company alumni         Rashmi Aggarwal   \n",
       "8      25 minutes                 NaN            Duncan Lawie   \n",
       "9       9 minutes                 NaN                     NaN   \n",
       "10       10 hours                 NaN            Yamini Gupta   \n",
       "11        5 hours    4 company alumni              Neha Yadav   \n",
       "12        9 hours    3 company alumni                     NaN   \n",
       "13       20 hours    5 company alumni             Ajay Tanwar   \n",
       "14        6 hours                 NaN             Sunil Kumar   \n",
       "15         1 hour                 NaN             Arjun Reddy   \n",
       "16        7 hours  105 company alumni   venkatesh chittimalla   \n",
       "17       10 hours                 NaN           Dharmesh Shah   \n",
       "18       20 hours    5 company alumni                     NaN   \n",
       "19        6 hours    2 company alumni    Prithvi Pragallapati   \n",
       "\n",
       "     linkedin_followers                                        job_details  \n",
       "0   5,395,547 followers  About the job Crossover is the world's #1 sour...  \n",
       "1   5,395,547 followers  About the job Crossover is the world's #1 sour...  \n",
       "2                   NaN  About the job Profile: ML EngineersExperience:...  \n",
       "3       2,094 followers  About the job Designation: Data AnalystLocatio...  \n",
       "4                   NaN  About the job The ideal candidate will use the...  \n",
       "5     972,657 followers  About the job The ideal candidate will use the...  \n",
       "6   5,395,546 followers  About the job Crossover is the world's #1 sour...  \n",
       "7       1,045 followers  About the job The ideal candidate will be resp...  \n",
       "8      30,319 followers  About the job Are you an experienced Microsoft...  \n",
       "9       2,163 followers  About the job Job Title: Shopify Developer (In...  \n",
       "10      4,780 followers  About the job Create an engaging and knowledge...  \n",
       "11    198,797 followers  About the job About the organizationFounded in...  \n",
       "12                  NaN  About the job Who We Are Escalent is an award-...  \n",
       "13    269,349 followers  About the job Data Engineer (Python) Experienc...  \n",
       "14      6,311 followers  About the job Hiring Python Data Engineer for ...  \n",
       "15     99,201 followers  About the job GrowYourStaff is looking for a Z...  \n",
       "16                  NaN  About the job Dear All,Greetings..!!!!!! We ar...  \n",
       "17     23,377 followers  About the job The ideal candidate will be resp...  \n",
       "18    269,352 followers  About the job SAP Customer Data Cloud \"Busines...  \n",
       "19      4,859 followers  About the job Requirements:The candidate shoul...  "
      ]
     },
     "execution_count": 11,
     "metadata": {},
     "output_type": "execute_result"
    }
   ],
   "source": [
    "df.head(20)"
   ]
  },
  {
   "cell_type": "markdown",
   "id": "6c5675e4",
   "metadata": {
    "papermill": {
     "duration": 0.00889,
     "end_time": "2023-07-08T09:04:21.147183",
     "exception": false,
     "start_time": "2023-07-08T09:04:21.138293",
     "status": "completed"
    },
    "tags": []
   },
   "source": [
    "# Value Counts"
   ]
  },
  {
   "cell_type": "code",
   "execution_count": 12,
   "id": "4a939e91",
   "metadata": {
    "execution": {
     "iopub.execute_input": "2023-07-08T09:04:21.167020Z",
     "iopub.status.busy": "2023-07-08T09:04:21.166609Z",
     "iopub.status.idle": "2023-07-08T09:04:21.179463Z",
     "shell.execute_reply": "2023-07-08T09:04:21.178375Z"
    },
    "papermill": {
     "duration": 0.025429,
     "end_time": "2023-07-08T09:04:21.181673",
     "exception": false,
     "start_time": "2023-07-08T09:04:21.156244",
     "status": "completed"
    },
    "tags": []
   },
   "outputs": [
    {
     "data": {
      "text/plain": [
       "Lead Java Software Engineer       172\n",
       "Data Engineer                     153\n",
       "Senior Automation Tester          146\n",
       "Business Analyst                  126\n",
       "Lead Java Developer               120\n",
       "                                 ... \n",
       "Financial Systems Manager           1\n",
       "Google Analytics Manager            1\n",
       "OIM Developer                       1\n",
       "Full Stack Developers               1\n",
       "Power train function developer      1\n",
       "Name: job, Length: 2991, dtype: int64"
      ]
     },
     "execution_count": 12,
     "metadata": {},
     "output_type": "execute_result"
    }
   ],
   "source": [
    "df['job'].value_counts()"
   ]
  },
  {
   "cell_type": "code",
   "execution_count": 13,
   "id": "31eb737a",
   "metadata": {
    "execution": {
     "iopub.execute_input": "2023-07-08T09:04:21.202520Z",
     "iopub.status.busy": "2023-07-08T09:04:21.201887Z",
     "iopub.status.idle": "2023-07-08T09:04:21.211997Z",
     "shell.execute_reply": "2023-07-08T09:04:21.210900Z"
    },
    "papermill": {
     "duration": 0.023029,
     "end_time": "2023-07-08T09:04:21.214184",
     "exception": false,
     "start_time": "2023-07-08T09:04:21.191155",
     "status": "completed"
    },
    "tags": []
   },
   "outputs": [
    {
     "data": {
      "text/plain": [
       "Bengaluru, Karnataka, India         1324\n",
       "India                                829\n",
       "Hyderabad, Telangana, India          671\n",
       "Chennai, Tamil Nadu, India           477\n",
       "Gurugram, Haryana, India             476\n",
       "                                    ... \n",
       "Udaipur, Rajasthan, India              1\n",
       "Greater Nagpur Area                    1\n",
       "Thiruvarur, Tamil Nadu, India          1\n",
       "Bandra, Maharashtra, India             1\n",
       "Sriperumbudur, Tamil Nadu, India       1\n",
       "Name: location, Length: 151, dtype: int64"
      ]
     },
     "execution_count": 13,
     "metadata": {},
     "output_type": "execute_result"
    }
   ],
   "source": [
    "df['location'].value_counts()"
   ]
  },
  {
   "cell_type": "code",
   "execution_count": 14,
   "id": "2a04da75",
   "metadata": {
    "execution": {
     "iopub.execute_input": "2023-07-08T09:04:21.235143Z",
     "iopub.status.busy": "2023-07-08T09:04:21.234473Z",
     "iopub.status.idle": "2023-07-08T09:04:21.246123Z",
     "shell.execute_reply": "2023-07-08T09:04:21.244948Z"
    },
    "papermill": {
     "duration": 0.024879,
     "end_time": "2023-07-08T09:04:21.248398",
     "exception": false,
     "start_time": "2023-07-08T09:04:21.223519",
     "status": "completed"
    },
    "tags": []
   },
   "outputs": [
    {
     "data": {
      "text/plain": [
       "EPAM Anywhere                  1517\n",
       "Tata Consultancy Services       378\n",
       "Uplers                          295\n",
       "Crossover                       133\n",
       "Virtusa                          89\n",
       "                               ... \n",
       "UnikHire                          1\n",
       "Technomine                        1\n",
       "Olive Web Solutions Pvt Ltd       1\n",
       "ARInspect                         1\n",
       "Akkodis                           1\n",
       "Name: company_name, Length: 2495, dtype: int64"
      ]
     },
     "execution_count": 14,
     "metadata": {},
     "output_type": "execute_result"
    }
   ],
   "source": [
    "df['company_name'].value_counts()"
   ]
  },
  {
   "cell_type": "code",
   "execution_count": 15,
   "id": "c59ce730",
   "metadata": {
    "execution": {
     "iopub.execute_input": "2023-07-08T09:04:21.270010Z",
     "iopub.status.busy": "2023-07-08T09:04:21.269397Z",
     "iopub.status.idle": "2023-07-08T09:04:21.279176Z",
     "shell.execute_reply": "2023-07-08T09:04:21.278132Z"
    },
    "papermill": {
     "duration": 0.023343,
     "end_time": "2023-07-08T09:04:21.281372",
     "exception": false,
     "start_time": "2023-07-08T09:04:21.258029",
     "status": "completed"
    },
    "tags": []
   },
   "outputs": [
    {
     "data": {
      "text/plain": [
       "On-site    3258\n",
       "Remote     2999\n",
       "Hybrid     1479\n",
       "Name: work_type, dtype: int64"
      ]
     },
     "execution_count": 15,
     "metadata": {},
     "output_type": "execute_result"
    }
   ],
   "source": [
    "df['work_type'].value_counts()"
   ]
  },
  {
   "cell_type": "code",
   "execution_count": 16,
   "id": "ba30e827",
   "metadata": {
    "execution": {
     "iopub.execute_input": "2023-07-08T09:04:21.304735Z",
     "iopub.status.busy": "2023-07-08T09:04:21.303985Z",
     "iopub.status.idle": "2023-07-08T09:04:21.312952Z",
     "shell.execute_reply": "2023-07-08T09:04:21.312150Z"
    },
    "papermill": {
     "duration": 0.023898,
     "end_time": "2023-07-08T09:04:21.315156",
     "exception": false,
     "start_time": "2023-07-08T09:04:21.291258",
     "status": "completed"
    },
    "tags": []
   },
   "outputs": [
    {
     "data": {
      "text/plain": [
       "Full-time · Mid-Senior level    3802\n",
       "Full-time                       2679\n",
       "Full-time · Associate            584\n",
       "Full-time · Entry level          177\n",
       "Internship                       144\n",
       "Contract · Mid-Senior level      132\n",
       "Contract                         123\n",
       "Full-time · Executive             49\n",
       "Part-time                         48\n",
       "Contract · Associate              32\n",
       "Full-time · Director              31\n",
       "Contract · Entry level            19\n",
       "Internship · Internship            5\n",
       "Full-time · Internship             5\n",
       "Part-time · Mid-Senior level       3\n",
       "Temporary                          3\n",
       "Volunteer                          3\n",
       "11-50 employees                    2\n",
       "Associate                          2\n",
       "Internship · Entry level           2\n",
       "1-10 employees                     1\n",
       "Part-time · Associate              1\n",
       "Contract · Executive               1\n",
       "Name: full_time_remote, dtype: int64"
      ]
     },
     "execution_count": 16,
     "metadata": {},
     "output_type": "execute_result"
    }
   ],
   "source": [
    "df['full_time_remote'].value_counts()"
   ]
  },
  {
   "cell_type": "code",
   "execution_count": 17,
   "id": "273905a2",
   "metadata": {
    "execution": {
     "iopub.execute_input": "2023-07-08T09:04:21.337275Z",
     "iopub.status.busy": "2023-07-08T09:04:21.336816Z",
     "iopub.status.idle": "2023-07-08T09:04:21.347398Z",
     "shell.execute_reply": "2023-07-08T09:04:21.346572Z"
    },
    "papermill": {
     "duration": 0.024279,
     "end_time": "2023-07-08T09:04:21.349501",
     "exception": false,
     "start_time": "2023-07-08T09:04:21.325222",
     "status": "completed"
    },
    "tags": []
   },
   "outputs": [
    {
     "data": {
      "text/plain": [
       "hours    2635\n",
       "days      786\n",
       "200       489\n",
       "day       328\n",
       "hour      250\n",
       "         ... \n",
       "180         1\n",
       "155         1\n",
       "165         1\n",
       "169         1\n",
       "157         1\n",
       "Name: no_of_application, Length: 202, dtype: int64"
      ]
     },
     "execution_count": 17,
     "metadata": {},
     "output_type": "execute_result"
    }
   ],
   "source": [
    "df['no_of_application'].value_counts()"
   ]
  },
  {
   "cell_type": "code",
   "execution_count": 18,
   "id": "45c08845",
   "metadata": {
    "execution": {
     "iopub.execute_input": "2023-07-08T09:04:21.372225Z",
     "iopub.status.busy": "2023-07-08T09:04:21.371615Z",
     "iopub.status.idle": "2023-07-08T09:04:21.381681Z",
     "shell.execute_reply": "2023-07-08T09:04:21.380467Z"
    },
    "papermill": {
     "duration": 0.024462,
     "end_time": "2023-07-08T09:04:21.384251",
     "exception": false,
     "start_time": "2023-07-08T09:04:21.359789",
     "status": "completed"
    },
    "tags": []
   },
   "outputs": [
    {
     "data": {
      "text/plain": [
       "3 company alumni         1804\n",
       "1 company alumni          609\n",
       "2 company alumni          421\n",
       "10,080 company alumni     235\n",
       "12 company alumni         145\n",
       "                         ... \n",
       "828 company alumni          1\n",
       "668 company alumni          1\n",
       "28,799 company alumni       1\n",
       "488 company alumni          1\n",
       "126 company alumni          1\n",
       "Name: alumni, Length: 191, dtype: int64"
      ]
     },
     "execution_count": 18,
     "metadata": {},
     "output_type": "execute_result"
    }
   ],
   "source": [
    "df['alumni'].value_counts()"
   ]
  },
  {
   "cell_type": "code",
   "execution_count": 19,
   "id": "96946d24",
   "metadata": {
    "execution": {
     "iopub.execute_input": "2023-07-08T09:04:21.407240Z",
     "iopub.status.busy": "2023-07-08T09:04:21.406825Z",
     "iopub.status.idle": "2023-07-08T09:04:21.418391Z",
     "shell.execute_reply": "2023-07-08T09:04:21.417497Z"
    },
    "papermill": {
     "duration": 0.025388,
     "end_time": "2023-07-08T09:04:21.420510",
     "exception": false,
     "start_time": "2023-07-08T09:04:21.395122",
     "status": "completed"
    },
    "tags": []
   },
   "outputs": [
    {
     "data": {
      "text/plain": [
       "Ekaterina Costyshko     266\n",
       "Tatsiana Sadovskaya     220\n",
       "Anastasiya Volkova      183\n",
       "Aliaksandra Shauchuk    113\n",
       "Shahid Ahmad             53\n",
       "                       ... \n",
       "Debasmita Shaw, PhD       1\n",
       "Shiwangi Sharma           1\n",
       "Amresh Kumar              1\n",
       "Sumanau Sareen            1\n",
       "Poornima Viswanathan      1\n",
       "Name: Hiring_person, Length: 2823, dtype: int64"
      ]
     },
     "execution_count": 19,
     "metadata": {},
     "output_type": "execute_result"
    }
   ],
   "source": [
    "df['Hiring_person'].value_counts()"
   ]
  }
 ],
 "metadata": {
  "kernelspec": {
   "display_name": "Python 3",
   "language": "python",
   "name": "python3"
  },
  "language_info": {
   "codemirror_mode": {
    "name": "ipython",
    "version": 3
   },
   "file_extension": ".py",
   "mimetype": "text/x-python",
   "name": "python",
   "nbconvert_exporter": "python",
   "pygments_lexer": "ipython3",
   "version": "3.10.10"
  },
  "papermill": {
   "default_parameters": {},
   "duration": 14.710636,
   "end_time": "2023-07-08T09:04:22.252463",
   "environment_variables": {},
   "exception": null,
   "input_path": "__notebook__.ipynb",
   "output_path": "__notebook__.ipynb",
   "parameters": {},
   "start_time": "2023-07-08T09:04:07.541827",
   "version": "2.4.0"
  }
 },
 "nbformat": 4,
 "nbformat_minor": 5
}
