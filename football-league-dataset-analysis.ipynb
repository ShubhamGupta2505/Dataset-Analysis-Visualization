{
 "cells": [
  {
   "cell_type": "code",
   "execution_count": 1,
   "id": "77751b9d",
   "metadata": {
    "_cell_guid": "b1076dfc-b9ad-4769-8c92-a6c4dae69d19",
    "_uuid": "8f2839f25d086af736a60e9eeb907d3b93b6e0e5",
    "execution": {
     "iopub.execute_input": "2023-07-06T10:21:35.323575Z",
     "iopub.status.busy": "2023-07-06T10:21:35.323145Z",
     "iopub.status.idle": "2023-07-06T10:21:35.346483Z",
     "shell.execute_reply": "2023-07-06T10:21:35.345234Z"
    },
    "papermill": {
     "duration": 0.037388,
     "end_time": "2023-07-06T10:21:35.349706",
     "exception": false,
     "start_time": "2023-07-06T10:21:35.312318",
     "status": "completed"
    },
    "tags": []
   },
   "outputs": [
    {
     "name": "stdout",
     "output_type": "stream",
     "text": [
      "/kaggle/input/70-football-leagues-data-2019-2023/ALLLEAGUESDATA.xlsx\n"
     ]
    }
   ],
   "source": [
    "# This Python 3 environment comes with many helpful analytics libraries installed\n",
    "# It is defined by the kaggle/python Docker image: https://github.com/kaggle/docker-python\n",
    "# For example, here's several helpful packages to load\n",
    "\n",
    "import numpy as np # linear algebra\n",
    "import pandas as pd # data processing, CSV file I/O (e.g. pd.read_csv)\n",
    "\n",
    "# Input data files are available in the read-only \"../input/\" directory\n",
    "# For example, running this (by clicking run or pressing Shift+Enter) will list all files under the input directory\n",
    "\n",
    "import os\n",
    "for dirname, _, filenames in os.walk('/kaggle/input'):\n",
    "    for filename in filenames:\n",
    "        print(os.path.join(dirname, filename))\n",
    "\n",
    "# You can write up to 20GB to the current directory (/kaggle/working/) that gets preserved as output when you create a version using \"Save & Run All\" \n",
    "# You can also write temporary files to /kaggle/temp/, but they won't be saved outside of the current session"
   ]
  },
  {
   "cell_type": "code",
   "execution_count": 2,
   "id": "5aad9513",
   "metadata": {
    "execution": {
     "iopub.execute_input": "2023-07-06T10:21:35.369187Z",
     "iopub.status.busy": "2023-07-06T10:21:35.368750Z",
     "iopub.status.idle": "2023-07-06T10:21:35.374033Z",
     "shell.execute_reply": "2023-07-06T10:21:35.372745Z"
    },
    "papermill": {
     "duration": 0.01804,
     "end_time": "2023-07-06T10:21:35.376631",
     "exception": false,
     "start_time": "2023-07-06T10:21:35.358591",
     "status": "completed"
    },
    "tags": []
   },
   "outputs": [],
   "source": [
    "pd.set_option('display.max_columns', None)"
   ]
  },
  {
   "cell_type": "code",
   "execution_count": 3,
   "id": "0bc57207",
   "metadata": {
    "execution": {
     "iopub.execute_input": "2023-07-06T10:21:35.395658Z",
     "iopub.status.busy": "2023-07-06T10:21:35.395251Z",
     "iopub.status.idle": "2023-07-06T10:22:05.151091Z",
     "shell.execute_reply": "2023-07-06T10:22:05.149619Z"
    },
    "papermill": {
     "duration": 29.768916,
     "end_time": "2023-07-06T10:22:05.154097",
     "exception": false,
     "start_time": "2023-07-06T10:21:35.385181",
     "status": "completed"
    },
    "tags": []
   },
   "outputs": [
    {
     "data": {
      "text/html": [
       "<div>\n",
       "<style scoped>\n",
       "    .dataframe tbody tr th:only-of-type {\n",
       "        vertical-align: middle;\n",
       "    }\n",
       "\n",
       "    .dataframe tbody tr th {\n",
       "        vertical-align: top;\n",
       "    }\n",
       "\n",
       "    .dataframe thead th {\n",
       "        text-align: right;\n",
       "    }\n",
       "</style>\n",
       "<table border=\"1\" class=\"dataframe\">\n",
       "  <thead>\n",
       "    <tr style=\"text-align: right;\">\n",
       "      <th></th>\n",
       "      <th>League</th>\n",
       "      <th>Season</th>\n",
       "      <th>Home Team</th>\n",
       "      <th>Away Team</th>\n",
       "      <th>Home Goals</th>\n",
       "      <th>Away Goals</th>\n",
       "      <th>Home FH</th>\n",
       "      <th>Away FH</th>\n",
       "      <th>Home Win</th>\n",
       "      <th>Draw</th>\n",
       "      <th>Away Win</th>\n",
       "      <th>Over 2,5</th>\n",
       "      <th>Under 2,5</th>\n",
       "      <th>Code 1</th>\n",
       "      <th>Code 2</th>\n",
       "      <th>Total Goals</th>\n",
       "      <th>FH Goals</th>\n",
       "      <th>Winner</th>\n",
       "      <th>HT Winner</th>\n",
       "    </tr>\n",
       "  </thead>\n",
       "  <tbody>\n",
       "    <tr>\n",
       "      <th>0</th>\n",
       "      <td>Eng1</td>\n",
       "      <td>20</td>\n",
       "      <td>Liverpool</td>\n",
       "      <td>Norwich</td>\n",
       "      <td>4</td>\n",
       "      <td>1</td>\n",
       "      <td>4</td>\n",
       "      <td>0</td>\n",
       "      <td>1140.0</td>\n",
       "      <td>10430.0</td>\n",
       "      <td>19630.0</td>\n",
       "      <td>1340</td>\n",
       "      <td>3440</td>\n",
       "      <td>1002</td>\n",
       "      <td>1011</td>\n",
       "      <td>5</td>\n",
       "      <td>4</td>\n",
       "      <td>H</td>\n",
       "      <td>H</td>\n",
       "    </tr>\n",
       "    <tr>\n",
       "      <th>1</th>\n",
       "      <td>Eng1</td>\n",
       "      <td>20</td>\n",
       "      <td>Tottenham</td>\n",
       "      <td>Aston Villa</td>\n",
       "      <td>3</td>\n",
       "      <td>1</td>\n",
       "      <td>0</td>\n",
       "      <td>1</td>\n",
       "      <td>1390.0</td>\n",
       "      <td>5350.0</td>\n",
       "      <td>8420.0</td>\n",
       "      <td>1580</td>\n",
       "      <td>2520</td>\n",
       "      <td>1001</td>\n",
       "      <td>1003</td>\n",
       "      <td>4</td>\n",
       "      <td>1</td>\n",
       "      <td>H</td>\n",
       "      <td>A</td>\n",
       "    </tr>\n",
       "    <tr>\n",
       "      <th>2</th>\n",
       "      <td>Eng1</td>\n",
       "      <td>20</td>\n",
       "      <td>C Palace</td>\n",
       "      <td>Everton</td>\n",
       "      <td>0</td>\n",
       "      <td>0</td>\n",
       "      <td>0</td>\n",
       "      <td>0</td>\n",
       "      <td>3370.0</td>\n",
       "      <td>3450.0</td>\n",
       "      <td>2270.0</td>\n",
       "      <td>2220</td>\n",
       "      <td>1740</td>\n",
       "      <td>1012</td>\n",
       "      <td>1017</td>\n",
       "      <td>0</td>\n",
       "      <td>0</td>\n",
       "      <td>D</td>\n",
       "      <td>D</td>\n",
       "    </tr>\n",
       "    <tr>\n",
       "      <th>3</th>\n",
       "      <td>Eng1</td>\n",
       "      <td>20</td>\n",
       "      <td>West Ham</td>\n",
       "      <td>Man City</td>\n",
       "      <td>0</td>\n",
       "      <td>5</td>\n",
       "      <td>0</td>\n",
       "      <td>1</td>\n",
       "      <td>11110.0</td>\n",
       "      <td>6680.0</td>\n",
       "      <td>1270.0</td>\n",
       "      <td>1430</td>\n",
       "      <td>3030</td>\n",
       "      <td>1022</td>\n",
       "      <td>1009</td>\n",
       "      <td>5</td>\n",
       "      <td>1</td>\n",
       "      <td>A</td>\n",
       "      <td>A</td>\n",
       "    </tr>\n",
       "    <tr>\n",
       "      <th>4</th>\n",
       "      <td>Eng1</td>\n",
       "      <td>20</td>\n",
       "      <td>Watford</td>\n",
       "      <td>Brighton</td>\n",
       "      <td>0</td>\n",
       "      <td>3</td>\n",
       "      <td>0</td>\n",
       "      <td>1</td>\n",
       "      <td>2050.0</td>\n",
       "      <td>3380.0</td>\n",
       "      <td>4120.0</td>\n",
       "      <td>2160</td>\n",
       "      <td>1780</td>\n",
       "      <td>1025</td>\n",
       "      <td>1036</td>\n",
       "      <td>3</td>\n",
       "      <td>1</td>\n",
       "      <td>A</td>\n",
       "      <td>A</td>\n",
       "    </tr>\n",
       "  </tbody>\n",
       "</table>\n",
       "</div>"
      ],
      "text/plain": [
       "  League  Season  Home Team    Away Team  Home Goals  Away Goals  Home FH  \\\n",
       "0   Eng1      20  Liverpool      Norwich           4           1        4   \n",
       "1   Eng1      20  Tottenham  Aston Villa           3           1        0   \n",
       "2   Eng1      20   C Palace      Everton           0           0        0   \n",
       "3   Eng1      20   West Ham     Man City           0           5        0   \n",
       "4   Eng1      20    Watford     Brighton           0           3        0   \n",
       "\n",
       "   Away FH  Home Win     Draw  Away Win  Over 2,5  Under 2,5  Code 1  Code 2  \\\n",
       "0        0    1140.0  10430.0   19630.0      1340       3440    1002    1011   \n",
       "1        1    1390.0   5350.0    8420.0      1580       2520    1001    1003   \n",
       "2        0    3370.0   3450.0    2270.0      2220       1740    1012    1017   \n",
       "3        1   11110.0   6680.0    1270.0      1430       3030    1022    1009   \n",
       "4        1    2050.0   3380.0    4120.0      2160       1780    1025    1036   \n",
       "\n",
       "   Total Goals  FH Goals Winner HT Winner  \n",
       "0            5         4      H         H  \n",
       "1            4         1      H         A  \n",
       "2            0         0      D         D  \n",
       "3            5         1      A         A  \n",
       "4            3         1      A         A  "
      ]
     },
     "execution_count": 3,
     "metadata": {},
     "output_type": "execute_result"
    }
   ],
   "source": [
    "df = pd.read_excel('/kaggle/input/70-football-leagues-data-2019-2023/ALLLEAGUESDATA.xlsx')\n",
    "df.head()"
   ]
  },
  {
   "cell_type": "code",
   "execution_count": null,
   "id": "3ea02f3e",
   "metadata": {
    "papermill": {
     "duration": 0.008006,
     "end_time": "2023-07-06T10:22:05.170839",
     "exception": false,
     "start_time": "2023-07-06T10:22:05.162833",
     "status": "completed"
    },
    "tags": []
   },
   "outputs": [],
   "source": [
    "    "
   ]
  },
  {
   "cell_type": "code",
   "execution_count": 4,
   "id": "5cf0dea5",
   "metadata": {
    "execution": {
     "iopub.execute_input": "2023-07-06T10:22:05.191494Z",
     "iopub.status.busy": "2023-07-06T10:22:05.190654Z",
     "iopub.status.idle": "2023-07-06T10:22:05.200103Z",
     "shell.execute_reply": "2023-07-06T10:22:05.198707Z"
    },
    "papermill": {
     "duration": 0.023541,
     "end_time": "2023-07-06T10:22:05.202580",
     "exception": false,
     "start_time": "2023-07-06T10:22:05.179039",
     "status": "completed"
    },
    "tags": []
   },
   "outputs": [
    {
     "data": {
      "text/plain": [
       "(63189, 19)"
      ]
     },
     "execution_count": 4,
     "metadata": {},
     "output_type": "execute_result"
    }
   ],
   "source": [
    "df.shape"
   ]
  },
  {
   "cell_type": "code",
   "execution_count": 5,
   "id": "18eed08c",
   "metadata": {
    "execution": {
     "iopub.execute_input": "2023-07-06T10:22:05.221658Z",
     "iopub.status.busy": "2023-07-06T10:22:05.221124Z",
     "iopub.status.idle": "2023-07-06T10:22:05.322671Z",
     "shell.execute_reply": "2023-07-06T10:22:05.321215Z"
    },
    "papermill": {
     "duration": 0.114647,
     "end_time": "2023-07-06T10:22:05.325633",
     "exception": false,
     "start_time": "2023-07-06T10:22:05.210986",
     "status": "completed"
    },
    "tags": []
   },
   "outputs": [
    {
     "data": {
      "text/html": [
       "<div>\n",
       "<style scoped>\n",
       "    .dataframe tbody tr th:only-of-type {\n",
       "        vertical-align: middle;\n",
       "    }\n",
       "\n",
       "    .dataframe tbody tr th {\n",
       "        vertical-align: top;\n",
       "    }\n",
       "\n",
       "    .dataframe thead th {\n",
       "        text-align: right;\n",
       "    }\n",
       "</style>\n",
       "<table border=\"1\" class=\"dataframe\">\n",
       "  <thead>\n",
       "    <tr style=\"text-align: right;\">\n",
       "      <th></th>\n",
       "      <th>Season</th>\n",
       "      <th>Home Goals</th>\n",
       "      <th>Away Goals</th>\n",
       "      <th>Home FH</th>\n",
       "      <th>Away FH</th>\n",
       "      <th>Home Win</th>\n",
       "      <th>Draw</th>\n",
       "      <th>Away Win</th>\n",
       "      <th>Over 2,5</th>\n",
       "      <th>Under 2,5</th>\n",
       "      <th>Code 1</th>\n",
       "      <th>Code 2</th>\n",
       "      <th>Total Goals</th>\n",
       "      <th>FH Goals</th>\n",
       "    </tr>\n",
       "  </thead>\n",
       "  <tbody>\n",
       "    <tr>\n",
       "      <th>count</th>\n",
       "      <td>63189.000000</td>\n",
       "      <td>63189.000000</td>\n",
       "      <td>63189.000000</td>\n",
       "      <td>63189.000000</td>\n",
       "      <td>63189.000000</td>\n",
       "      <td>63189.000000</td>\n",
       "      <td>63189.000000</td>\n",
       "      <td>63189.000000</td>\n",
       "      <td>63189.000000</td>\n",
       "      <td>63189.000000</td>\n",
       "      <td>63189.000000</td>\n",
       "      <td>63189.000000</td>\n",
       "      <td>63189.000000</td>\n",
       "      <td>63189.000000</td>\n",
       "    </tr>\n",
       "    <tr>\n",
       "      <th>mean</th>\n",
       "      <td>21.562693</td>\n",
       "      <td>1.462517</td>\n",
       "      <td>1.197012</td>\n",
       "      <td>0.652408</td>\n",
       "      <td>0.529396</td>\n",
       "      <td>2723.550655</td>\n",
       "      <td>3813.055904</td>\n",
       "      <td>4080.404955</td>\n",
       "      <td>1980.246562</td>\n",
       "      <td>1978.342433</td>\n",
       "      <td>14555.952856</td>\n",
       "      <td>14555.944231</td>\n",
       "      <td>2.659529</td>\n",
       "      <td>1.181804</td>\n",
       "    </tr>\n",
       "    <tr>\n",
       "      <th>std</th>\n",
       "      <td>1.108266</td>\n",
       "      <td>1.263394</td>\n",
       "      <td>1.141881</td>\n",
       "      <td>0.818801</td>\n",
       "      <td>0.739860</td>\n",
       "      <td>1800.138466</td>\n",
       "      <td>998.734819</td>\n",
       "      <td>3131.574746</td>\n",
       "      <td>387.432481</td>\n",
       "      <td>442.517940</td>\n",
       "      <td>11877.290462</td>\n",
       "      <td>11877.281687</td>\n",
       "      <td>1.652328</td>\n",
       "      <td>1.082685</td>\n",
       "    </tr>\n",
       "    <tr>\n",
       "      <th>min</th>\n",
       "      <td>20.000000</td>\n",
       "      <td>0.000000</td>\n",
       "      <td>0.000000</td>\n",
       "      <td>0.000000</td>\n",
       "      <td>0.000000</td>\n",
       "      <td>0.000000</td>\n",
       "      <td>0.000000</td>\n",
       "      <td>0.000000</td>\n",
       "      <td>0.000000</td>\n",
       "      <td>0.000000</td>\n",
       "      <td>1001.000000</td>\n",
       "      <td>1001.000000</td>\n",
       "      <td>0.000000</td>\n",
       "      <td>0.000000</td>\n",
       "    </tr>\n",
       "    <tr>\n",
       "      <th>25%</th>\n",
       "      <td>21.000000</td>\n",
       "      <td>1.000000</td>\n",
       "      <td>0.000000</td>\n",
       "      <td>0.000000</td>\n",
       "      <td>0.000000</td>\n",
       "      <td>1810.000000</td>\n",
       "      <td>3300.000000</td>\n",
       "      <td>2450.000000</td>\n",
       "      <td>1720.000000</td>\n",
       "      <td>1690.000000</td>\n",
       "      <td>3065.000000</td>\n",
       "      <td>3065.000000</td>\n",
       "      <td>1.000000</td>\n",
       "      <td>0.000000</td>\n",
       "    </tr>\n",
       "    <tr>\n",
       "      <th>50%</th>\n",
       "      <td>22.000000</td>\n",
       "      <td>1.000000</td>\n",
       "      <td>1.000000</td>\n",
       "      <td>0.000000</td>\n",
       "      <td>0.000000</td>\n",
       "      <td>2310.000000</td>\n",
       "      <td>3570.000000</td>\n",
       "      <td>3290.000000</td>\n",
       "      <td>1950.000000</td>\n",
       "      <td>1900.000000</td>\n",
       "      <td>13019.000000</td>\n",
       "      <td>13019.000000</td>\n",
       "      <td>2.000000</td>\n",
       "      <td>1.000000</td>\n",
       "    </tr>\n",
       "    <tr>\n",
       "      <th>75%</th>\n",
       "      <td>23.000000</td>\n",
       "      <td>2.000000</td>\n",
       "      <td>2.000000</td>\n",
       "      <td>1.000000</td>\n",
       "      <td>1.000000</td>\n",
       "      <td>3020.000000</td>\n",
       "      <td>3990.000000</td>\n",
       "      <td>4580.000000</td>\n",
       "      <td>2210.000000</td>\n",
       "      <td>2180.000000</td>\n",
       "      <td>24022.000000</td>\n",
       "      <td>24022.000000</td>\n",
       "      <td>4.000000</td>\n",
       "      <td>2.000000</td>\n",
       "    </tr>\n",
       "    <tr>\n",
       "      <th>max</th>\n",
       "      <td>23.000000</td>\n",
       "      <td>13.000000</td>\n",
       "      <td>13.000000</td>\n",
       "      <td>7.000000</td>\n",
       "      <td>7.000000</td>\n",
       "      <td>47370.000000</td>\n",
       "      <td>17980.000000</td>\n",
       "      <td>76000.000000</td>\n",
       "      <td>4500.000000</td>\n",
       "      <td>8000.000000</td>\n",
       "      <td>41021.000000</td>\n",
       "      <td>41021.000000</td>\n",
       "      <td>13.000000</td>\n",
       "      <td>7.000000</td>\n",
       "    </tr>\n",
       "  </tbody>\n",
       "</table>\n",
       "</div>"
      ],
      "text/plain": [
       "             Season    Home Goals    Away Goals       Home FH       Away FH  \\\n",
       "count  63189.000000  63189.000000  63189.000000  63189.000000  63189.000000   \n",
       "mean      21.562693      1.462517      1.197012      0.652408      0.529396   \n",
       "std        1.108266      1.263394      1.141881      0.818801      0.739860   \n",
       "min       20.000000      0.000000      0.000000      0.000000      0.000000   \n",
       "25%       21.000000      1.000000      0.000000      0.000000      0.000000   \n",
       "50%       22.000000      1.000000      1.000000      0.000000      0.000000   \n",
       "75%       23.000000      2.000000      2.000000      1.000000      1.000000   \n",
       "max       23.000000     13.000000     13.000000      7.000000      7.000000   \n",
       "\n",
       "           Home Win          Draw      Away Win      Over 2,5     Under 2,5  \\\n",
       "count  63189.000000  63189.000000  63189.000000  63189.000000  63189.000000   \n",
       "mean    2723.550655   3813.055904   4080.404955   1980.246562   1978.342433   \n",
       "std     1800.138466    998.734819   3131.574746    387.432481    442.517940   \n",
       "min        0.000000      0.000000      0.000000      0.000000      0.000000   \n",
       "25%     1810.000000   3300.000000   2450.000000   1720.000000   1690.000000   \n",
       "50%     2310.000000   3570.000000   3290.000000   1950.000000   1900.000000   \n",
       "75%     3020.000000   3990.000000   4580.000000   2210.000000   2180.000000   \n",
       "max    47370.000000  17980.000000  76000.000000   4500.000000   8000.000000   \n",
       "\n",
       "             Code 1        Code 2   Total Goals      FH Goals  \n",
       "count  63189.000000  63189.000000  63189.000000  63189.000000  \n",
       "mean   14555.952856  14555.944231      2.659529      1.181804  \n",
       "std    11877.290462  11877.281687      1.652328      1.082685  \n",
       "min     1001.000000   1001.000000      0.000000      0.000000  \n",
       "25%     3065.000000   3065.000000      1.000000      0.000000  \n",
       "50%    13019.000000  13019.000000      2.000000      1.000000  \n",
       "75%    24022.000000  24022.000000      4.000000      2.000000  \n",
       "max    41021.000000  41021.000000     13.000000      7.000000  "
      ]
     },
     "execution_count": 5,
     "metadata": {},
     "output_type": "execute_result"
    }
   ],
   "source": [
    "df.describe()"
   ]
  },
  {
   "cell_type": "code",
   "execution_count": 6,
   "id": "18b761d0",
   "metadata": {
    "execution": {
     "iopub.execute_input": "2023-07-06T10:22:05.347208Z",
     "iopub.status.busy": "2023-07-06T10:22:05.346729Z",
     "iopub.status.idle": "2023-07-06T10:22:05.476874Z",
     "shell.execute_reply": "2023-07-06T10:22:05.475222Z"
    },
    "papermill": {
     "duration": 0.144316,
     "end_time": "2023-07-06T10:22:05.479806",
     "exception": false,
     "start_time": "2023-07-06T10:22:05.335490",
     "status": "completed"
    },
    "tags": []
   },
   "outputs": [
    {
     "name": "stdout",
     "output_type": "stream",
     "text": [
      "<class 'pandas.core.frame.DataFrame'>\n",
      "RangeIndex: 63189 entries, 0 to 63188\n",
      "Data columns (total 19 columns):\n",
      " #   Column       Non-Null Count  Dtype  \n",
      "---  ------       --------------  -----  \n",
      " 0   League       63189 non-null  object \n",
      " 1   Season       63189 non-null  int64  \n",
      " 2   Home Team    63189 non-null  object \n",
      " 3   Away Team    63189 non-null  object \n",
      " 4   Home Goals   63189 non-null  int64  \n",
      " 5   Away Goals   63189 non-null  int64  \n",
      " 6   Home FH      63189 non-null  int64  \n",
      " 7   Away FH      63189 non-null  int64  \n",
      " 8   Home Win     63189 non-null  float64\n",
      " 9   Draw         63189 non-null  float64\n",
      " 10  Away Win     63189 non-null  float64\n",
      " 11  Over 2,5     63189 non-null  int64  \n",
      " 12  Under 2,5    63189 non-null  int64  \n",
      " 13  Code 1       63189 non-null  int64  \n",
      " 14  Code 2       63189 non-null  int64  \n",
      " 15  Total Goals  63189 non-null  int64  \n",
      " 16  FH Goals     63189 non-null  int64  \n",
      " 17  Winner       63189 non-null  object \n",
      " 18  HT Winner    63189 non-null  object \n",
      "dtypes: float64(3), int64(11), object(5)\n",
      "memory usage: 9.2+ MB\n"
     ]
    }
   ],
   "source": [
    "df.info()"
   ]
  },
  {
   "cell_type": "code",
   "execution_count": 7,
   "id": "b077f2f2",
   "metadata": {
    "execution": {
     "iopub.execute_input": "2023-07-06T10:22:05.500929Z",
     "iopub.status.busy": "2023-07-06T10:22:05.500491Z",
     "iopub.status.idle": "2023-07-06T10:22:05.511918Z",
     "shell.execute_reply": "2023-07-06T10:22:05.510449Z"
    },
    "papermill": {
     "duration": 0.026518,
     "end_time": "2023-07-06T10:22:05.515483",
     "exception": false,
     "start_time": "2023-07-06T10:22:05.488965",
     "status": "completed"
    },
    "tags": []
   },
   "outputs": [
    {
     "data": {
      "text/plain": [
       "League          object\n",
       "Season           int64\n",
       "Home Team       object\n",
       "Away Team       object\n",
       "Home Goals       int64\n",
       "Away Goals       int64\n",
       "Home FH          int64\n",
       "Away FH          int64\n",
       "Home Win       float64\n",
       "Draw           float64\n",
       "Away Win       float64\n",
       "Over 2,5         int64\n",
       "Under 2,5        int64\n",
       "Code 1           int64\n",
       "Code 2           int64\n",
       "Total Goals      int64\n",
       "FH Goals         int64\n",
       "Winner          object\n",
       "HT Winner       object\n",
       "dtype: object"
      ]
     },
     "execution_count": 7,
     "metadata": {},
     "output_type": "execute_result"
    }
   ],
   "source": [
    "df.dtypes"
   ]
  },
  {
   "cell_type": "code",
   "execution_count": 8,
   "id": "3c6a9eb2",
   "metadata": {
    "execution": {
     "iopub.execute_input": "2023-07-06T10:22:05.538994Z",
     "iopub.status.busy": "2023-07-06T10:22:05.538528Z",
     "iopub.status.idle": "2023-07-06T10:22:05.651450Z",
     "shell.execute_reply": "2023-07-06T10:22:05.649880Z"
    },
    "papermill": {
     "duration": 0.129595,
     "end_time": "2023-07-06T10:22:05.654966",
     "exception": false,
     "start_time": "2023-07-06T10:22:05.525371",
     "status": "completed"
    },
    "tags": []
   },
   "outputs": [
    {
     "data": {
      "text/plain": [
       "League         0\n",
       "Season         0\n",
       "Home Team      0\n",
       "Away Team      0\n",
       "Home Goals     0\n",
       "Away Goals     0\n",
       "Home FH        0\n",
       "Away FH        0\n",
       "Home Win       0\n",
       "Draw           0\n",
       "Away Win       0\n",
       "Over 2,5       0\n",
       "Under 2,5      0\n",
       "Code 1         0\n",
       "Code 2         0\n",
       "Total Goals    0\n",
       "FH Goals       0\n",
       "Winner         0\n",
       "HT Winner      0\n",
       "dtype: int64"
      ]
     },
     "execution_count": 8,
     "metadata": {},
     "output_type": "execute_result"
    }
   ],
   "source": [
    "df.isnull().sum()"
   ]
  },
  {
   "cell_type": "code",
   "execution_count": 9,
   "id": "024b2224",
   "metadata": {
    "execution": {
     "iopub.execute_input": "2023-07-06T10:22:05.684261Z",
     "iopub.status.busy": "2023-07-06T10:22:05.683814Z",
     "iopub.status.idle": "2023-07-06T10:22:05.753962Z",
     "shell.execute_reply": "2023-07-06T10:22:05.752637Z"
    },
    "papermill": {
     "duration": 0.088461,
     "end_time": "2023-07-06T10:22:05.756984",
     "exception": false,
     "start_time": "2023-07-06T10:22:05.668523",
     "status": "completed"
    },
    "tags": []
   },
   "outputs": [
    {
     "data": {
      "text/plain": [
       "0"
      ]
     },
     "execution_count": 9,
     "metadata": {},
     "output_type": "execute_result"
    }
   ],
   "source": [
    "df.duplicated().sum()"
   ]
  },
  {
   "cell_type": "markdown",
   "id": "566a21ac",
   "metadata": {
    "papermill": {
     "duration": 0.009601,
     "end_time": "2023-07-06T10:22:05.776609",
     "exception": false,
     "start_time": "2023-07-06T10:22:05.767008",
     "status": "completed"
    },
    "tags": []
   },
   "source": [
    "# Value Counts"
   ]
  },
  {
   "cell_type": "code",
   "execution_count": 10,
   "id": "8e034ed3",
   "metadata": {
    "execution": {
     "iopub.execute_input": "2023-07-06T10:22:05.799794Z",
     "iopub.status.busy": "2023-07-06T10:22:05.799321Z",
     "iopub.status.idle": "2023-07-06T10:22:05.805578Z",
     "shell.execute_reply": "2023-07-06T10:22:05.804065Z"
    },
    "papermill": {
     "duration": 0.021255,
     "end_time": "2023-07-06T10:22:05.808782",
     "exception": false,
     "start_time": "2023-07-06T10:22:05.787527",
     "status": "completed"
    },
    "tags": []
   },
   "outputs": [],
   "source": [
    "bold = \"\\033[1m\"\n",
    "reset = \"\\033[0m\""
   ]
  },
  {
   "cell_type": "code",
   "execution_count": 11,
   "id": "efb97e7c",
   "metadata": {
    "execution": {
     "iopub.execute_input": "2023-07-06T10:22:05.831097Z",
     "iopub.status.busy": "2023-07-06T10:22:05.830645Z",
     "iopub.status.idle": "2023-07-06T10:22:05.917080Z",
     "shell.execute_reply": "2023-07-06T10:22:05.916188Z"
    },
    "papermill": {
     "duration": 0.103055,
     "end_time": "2023-07-06T10:22:05.922001",
     "exception": false,
     "start_time": "2023-07-06T10:22:05.818946",
     "status": "completed"
    },
    "tags": []
   },
   "outputs": [
    {
     "name": "stdout",
     "output_type": "stream",
     "text": [
      "\u001b[1mValue Counts of League\u001b[0m\n",
      "\u001b[1mColumn: League\u001b[0m\n",
      "Eng2    2208\n",
      "Eng4    2096\n",
      "Eng3    2056\n",
      "Eng5    1971\n",
      "Spa2    1848\n",
      "        ... \n",
      "Ser2     240\n",
      "Rom2     190\n",
      "Chi2     170\n",
      "Bel2     132\n",
      "Cro2     132\n",
      "Name: League, Length: 71, dtype: int64\n",
      "\n",
      "\n",
      "\u001b[1mValue Counts of Season\u001b[0m\n",
      "\u001b[1mColumn: Season\u001b[0m\n",
      "23    16747\n",
      "22    16346\n",
      "21    15812\n",
      "20    14284\n",
      "Name: Season, dtype: int64\n",
      "\n",
      "\n",
      "\u001b[1mValue Counts of Home Team\u001b[0m\n",
      "\u001b[1mColumn: Home Team\u001b[0m\n",
      "Newcastle                   126\n",
      "Gorica                      108\n",
      "Everton                      99\n",
      "Arsenal                      97\n",
      "Millwall                     92\n",
      "                           ... \n",
      "Yanbian                       5\n",
      "Shanghai Jiading Huilong      4\n",
      "Qingdao Youth Island          4\n",
      "Jinan Xingzhou                4\n",
      "Heilongjiang Ice City         3\n",
      "Name: Home Team, Length: 1379, dtype: int64\n",
      "\n",
      "\n",
      "\u001b[1mValue Counts of Away Team\u001b[0m\n",
      "\u001b[1mColumn: Away Team\u001b[0m\n",
      "Newcastle              127\n",
      "Gorica                 108\n",
      "Arsenal                101\n",
      "Everton                 98\n",
      "Reading                 92\n",
      "                      ... \n",
      "Dongguan Guanlian        4\n",
      "Shijiazhuang Gongfu      4\n",
      "Nanjing City             4\n",
      "ziantep                  1\n",
      "Nagoia                   1\n",
      "Name: Away Team, Length: 1381, dtype: int64\n",
      "\n",
      "\n",
      "\u001b[1mValue Counts of Home Goals\u001b[0m\n",
      "\u001b[1mColumn: Home Goals\u001b[0m\n",
      "1     21198\n",
      "0     15353\n",
      "2     15064\n",
      "3      7271\n",
      "4      2836\n",
      "5      1039\n",
      "6       309\n",
      "7        88\n",
      "8        20\n",
      "9         7\n",
      "10        2\n",
      "13        1\n",
      "11        1\n",
      "Name: Home Goals, dtype: int64\n",
      "\n",
      "\n",
      "\u001b[1mValue Counts of Away Goals\u001b[0m\n",
      "\u001b[1mColumn: Away Goals\u001b[0m\n",
      "1     22473\n",
      "0     19833\n",
      "2     13034\n",
      "3      5295\n",
      "4      1841\n",
      "5       507\n",
      "6       157\n",
      "7        35\n",
      "8         8\n",
      "9         3\n",
      "13        1\n",
      "10        1\n",
      "12        1\n",
      "Name: Away Goals, dtype: int64\n",
      "\n",
      "\n",
      "\u001b[1mValue Counts of Home FH\u001b[0m\n",
      "\u001b[1mColumn: Home FH\u001b[0m\n",
      "0    33146\n",
      "1    21207\n",
      "2     6909\n",
      "3     1568\n",
      "4      307\n",
      "5       46\n",
      "6        4\n",
      "7        2\n",
      "Name: Home FH, dtype: int64\n",
      "\n",
      "\n",
      "\u001b[1mValue Counts of Away FH\u001b[0m\n",
      "\u001b[1mColumn: Away FH\u001b[0m\n",
      "0    37481\n",
      "1    19379\n",
      "2     5139\n",
      "3      998\n",
      "4      164\n",
      "5       24\n",
      "6        3\n",
      "7        1\n",
      "Name: Away FH, dtype: int64\n",
      "\n",
      "\n",
      "\u001b[1mValue Counts of Home Win\u001b[0m\n",
      "\u001b[1mColumn: Home Win\u001b[0m\n",
      "1930.0     584\n",
      "1880.0     486\n",
      "1850.0     434\n",
      "2000.0     428\n",
      "1680.0     409\n",
      "          ... \n",
      "12700.0      1\n",
      "17710.0      1\n",
      "20100.0      1\n",
      "14160.0      1\n",
      "15480.0      1\n",
      "Name: Home Win, Length: 1319, dtype: int64\n",
      "\n",
      "\n",
      "\u001b[1mValue Counts of Draw\u001b[0m\n",
      "\u001b[1mColumn: Draw\u001b[0m\n",
      "3400.0     857\n",
      "3500.0     824\n",
      "3300.0     748\n",
      "3600.0     734\n",
      "3200.0     671\n",
      "          ... \n",
      "8110.0       1\n",
      "13840.0      1\n",
      "9370.0       1\n",
      "2260.0       1\n",
      "9510.0       1\n",
      "Name: Draw, Length: 899, dtype: int64\n",
      "\n",
      "\n",
      "\u001b[1mValue Counts of Away Win\u001b[0m\n",
      "\u001b[1mColumn: Away Win\u001b[0m\n",
      "3000.00     291\n",
      "2800.00     252\n",
      "2300.00     248\n",
      "2750.00     239\n",
      "2450.00     237\n",
      "           ... \n",
      "28790.00      1\n",
      "0.48          1\n",
      "23760.00      1\n",
      "21420.00      1\n",
      "0.51          1\n",
      "Name: Away Win, Length: 2049, dtype: int64\n",
      "\n",
      "\n",
      "\u001b[1mValue Counts of Over 2,5\u001b[0m\n",
      "\u001b[1mColumn: Over 2,5\u001b[0m\n",
      "1930    1198\n",
      "1880     989\n",
      "1850     988\n",
      "1680     886\n",
      "1650     829\n",
      "        ... \n",
      "4300       1\n",
      "3590       1\n",
      "3670       1\n",
      "3420       1\n",
      "4500       1\n",
      "Name: Over 2,5, Length: 260, dtype: int64\n",
      "\n",
      "\n",
      "\u001b[1mValue Counts of Under 2,5\u001b[0m\n",
      "\u001b[1mColumn: Under 2,5\u001b[0m\n",
      "1930    1223\n",
      "1850    1194\n",
      "1680    1085\n",
      "1880    1070\n",
      "1650    1022\n",
      "        ... \n",
      "5500       1\n",
      "5690       1\n",
      "4390       1\n",
      "5170       1\n",
      "1170       1\n",
      "Name: Under 2,5, Length: 378, dtype: int64\n",
      "\n",
      "\n",
      "\u001b[1mValue Counts of Code 1\u001b[0m\n",
      "\u001b[1mColumn: Code 1\u001b[0m\n",
      "1049     92\n",
      "1029     92\n",
      "1023     92\n",
      "1005     92\n",
      "1048     92\n",
      "         ..\n",
      "39005     5\n",
      "35058     4\n",
      "35056     4\n",
      "35054     4\n",
      "35062     3\n",
      "Name: Code 1, Length: 1358, dtype: int64\n",
      "\n",
      "\n",
      "\u001b[1mValue Counts of Code 2\u001b[0m\n",
      "\u001b[1mColumn: Code 2\u001b[0m\n",
      "1028     92\n",
      "1015     92\n",
      "1039     92\n",
      "1049     92\n",
      "1033     92\n",
      "         ..\n",
      "35061     4\n",
      "35060     4\n",
      "35055     4\n",
      "35057     4\n",
      "35059     4\n",
      "Name: Code 2, Length: 1358, dtype: int64\n",
      "\n",
      "\n",
      "\u001b[1mValue Counts of Total Goals\u001b[0m\n",
      "\u001b[1mColumn: Total Goals\u001b[0m\n",
      "2     15407\n",
      "3     13871\n",
      "1     11514\n",
      "4      9095\n",
      "5      5009\n",
      "0      4819\n",
      "6      2202\n",
      "7       885\n",
      "8       264\n",
      "9        87\n",
      "10       21\n",
      "11        8\n",
      "12        4\n",
      "13        3\n",
      "Name: Total Goals, dtype: int64\n",
      "\n",
      "\n",
      "\u001b[1mValue Counts of FH Goals\u001b[0m\n",
      "\u001b[1mColumn: FH Goals\u001b[0m\n",
      "1    22869\n",
      "0    19356\n",
      "2    13564\n",
      "3     5434\n",
      "4     1542\n",
      "5      349\n",
      "6       60\n",
      "7       15\n",
      "Name: FH Goals, dtype: int64\n",
      "\n",
      "\n",
      "\u001b[1mValue Counts of Winner\u001b[0m\n",
      "\u001b[1mColumn: Winner\u001b[0m\n",
      "H    27121\n",
      "A    19551\n",
      "D    16517\n",
      "Name: Winner, dtype: int64\n",
      "\n",
      "\n",
      "\u001b[1mValue Counts of HT Winner\u001b[0m\n",
      "\u001b[1mColumn: HT Winner\u001b[0m\n",
      "D    26467\n",
      "H    20816\n",
      "A    15906\n",
      "Name: HT Winner, dtype: int64\n",
      "\n",
      "\n"
     ]
    }
   ],
   "source": [
    " for col in df.columns:\n",
    "        print(f\"{bold}Value Counts of {col}{reset}\")\n",
    "        print(f\"{bold}Column: {col}{reset}\")\n",
    "        print(df[col].value_counts())\n",
    "        print(\"\\n\")"
   ]
  },
  {
   "cell_type": "code",
   "execution_count": 12,
   "id": "ad41705a",
   "metadata": {
    "execution": {
     "iopub.execute_input": "2023-07-06T10:22:05.947046Z",
     "iopub.status.busy": "2023-07-06T10:22:05.946432Z",
     "iopub.status.idle": "2023-07-06T10:22:05.974231Z",
     "shell.execute_reply": "2023-07-06T10:22:05.972563Z"
    },
    "papermill": {
     "duration": 0.044286,
     "end_time": "2023-07-06T10:22:05.977626",
     "exception": false,
     "start_time": "2023-07-06T10:22:05.933340",
     "status": "completed"
    },
    "tags": []
   },
   "outputs": [
    {
     "data": {
      "text/html": [
       "<div>\n",
       "<style scoped>\n",
       "    .dataframe tbody tr th:only-of-type {\n",
       "        vertical-align: middle;\n",
       "    }\n",
       "\n",
       "    .dataframe tbody tr th {\n",
       "        vertical-align: top;\n",
       "    }\n",
       "\n",
       "    .dataframe thead th {\n",
       "        text-align: right;\n",
       "    }\n",
       "</style>\n",
       "<table border=\"1\" class=\"dataframe\">\n",
       "  <thead>\n",
       "    <tr style=\"text-align: right;\">\n",
       "      <th></th>\n",
       "      <th>League</th>\n",
       "      <th>Season</th>\n",
       "      <th>Home Team</th>\n",
       "      <th>Away Team</th>\n",
       "      <th>Home Goals</th>\n",
       "      <th>Away Goals</th>\n",
       "      <th>Home FH</th>\n",
       "      <th>Away FH</th>\n",
       "      <th>Home Win</th>\n",
       "      <th>Draw</th>\n",
       "      <th>Away Win</th>\n",
       "      <th>Over 2,5</th>\n",
       "      <th>Under 2,5</th>\n",
       "      <th>Code 1</th>\n",
       "      <th>Code 2</th>\n",
       "      <th>Total Goals</th>\n",
       "      <th>FH Goals</th>\n",
       "      <th>Winner</th>\n",
       "      <th>HT Winner</th>\n",
       "    </tr>\n",
       "  </thead>\n",
       "  <tbody>\n",
       "    <tr>\n",
       "      <th>0</th>\n",
       "      <td>Eng1</td>\n",
       "      <td>20</td>\n",
       "      <td>Liverpool</td>\n",
       "      <td>Norwich</td>\n",
       "      <td>4</td>\n",
       "      <td>1</td>\n",
       "      <td>4</td>\n",
       "      <td>0</td>\n",
       "      <td>1140.0</td>\n",
       "      <td>10430.0</td>\n",
       "      <td>19630.0</td>\n",
       "      <td>1340</td>\n",
       "      <td>3440</td>\n",
       "      <td>1002</td>\n",
       "      <td>1011</td>\n",
       "      <td>5</td>\n",
       "      <td>4</td>\n",
       "      <td>H</td>\n",
       "      <td>H</td>\n",
       "    </tr>\n",
       "    <tr>\n",
       "      <th>1</th>\n",
       "      <td>Eng1</td>\n",
       "      <td>20</td>\n",
       "      <td>Tottenham</td>\n",
       "      <td>Aston Villa</td>\n",
       "      <td>3</td>\n",
       "      <td>1</td>\n",
       "      <td>0</td>\n",
       "      <td>1</td>\n",
       "      <td>1390.0</td>\n",
       "      <td>5350.0</td>\n",
       "      <td>8420.0</td>\n",
       "      <td>1580</td>\n",
       "      <td>2520</td>\n",
       "      <td>1001</td>\n",
       "      <td>1003</td>\n",
       "      <td>4</td>\n",
       "      <td>1</td>\n",
       "      <td>H</td>\n",
       "      <td>A</td>\n",
       "    </tr>\n",
       "    <tr>\n",
       "      <th>2</th>\n",
       "      <td>Eng1</td>\n",
       "      <td>20</td>\n",
       "      <td>C Palace</td>\n",
       "      <td>Everton</td>\n",
       "      <td>0</td>\n",
       "      <td>0</td>\n",
       "      <td>0</td>\n",
       "      <td>0</td>\n",
       "      <td>3370.0</td>\n",
       "      <td>3450.0</td>\n",
       "      <td>2270.0</td>\n",
       "      <td>2220</td>\n",
       "      <td>1740</td>\n",
       "      <td>1012</td>\n",
       "      <td>1017</td>\n",
       "      <td>0</td>\n",
       "      <td>0</td>\n",
       "      <td>D</td>\n",
       "      <td>D</td>\n",
       "    </tr>\n",
       "    <tr>\n",
       "      <th>3</th>\n",
       "      <td>Eng1</td>\n",
       "      <td>20</td>\n",
       "      <td>West Ham</td>\n",
       "      <td>Man City</td>\n",
       "      <td>0</td>\n",
       "      <td>5</td>\n",
       "      <td>0</td>\n",
       "      <td>1</td>\n",
       "      <td>11110.0</td>\n",
       "      <td>6680.0</td>\n",
       "      <td>1270.0</td>\n",
       "      <td>1430</td>\n",
       "      <td>3030</td>\n",
       "      <td>1022</td>\n",
       "      <td>1009</td>\n",
       "      <td>5</td>\n",
       "      <td>1</td>\n",
       "      <td>A</td>\n",
       "      <td>A</td>\n",
       "    </tr>\n",
       "    <tr>\n",
       "      <th>4</th>\n",
       "      <td>Eng1</td>\n",
       "      <td>20</td>\n",
       "      <td>Watford</td>\n",
       "      <td>Brighton</td>\n",
       "      <td>0</td>\n",
       "      <td>3</td>\n",
       "      <td>0</td>\n",
       "      <td>1</td>\n",
       "      <td>2050.0</td>\n",
       "      <td>3380.0</td>\n",
       "      <td>4120.0</td>\n",
       "      <td>2160</td>\n",
       "      <td>1780</td>\n",
       "      <td>1025</td>\n",
       "      <td>1036</td>\n",
       "      <td>3</td>\n",
       "      <td>1</td>\n",
       "      <td>A</td>\n",
       "      <td>A</td>\n",
       "    </tr>\n",
       "  </tbody>\n",
       "</table>\n",
       "</div>"
      ],
      "text/plain": [
       "  League  Season  Home Team    Away Team  Home Goals  Away Goals  Home FH  \\\n",
       "0   Eng1      20  Liverpool      Norwich           4           1        4   \n",
       "1   Eng1      20  Tottenham  Aston Villa           3           1        0   \n",
       "2   Eng1      20   C Palace      Everton           0           0        0   \n",
       "3   Eng1      20   West Ham     Man City           0           5        0   \n",
       "4   Eng1      20    Watford     Brighton           0           3        0   \n",
       "\n",
       "   Away FH  Home Win     Draw  Away Win  Over 2,5  Under 2,5  Code 1  Code 2  \\\n",
       "0        0    1140.0  10430.0   19630.0      1340       3440    1002    1011   \n",
       "1        1    1390.0   5350.0    8420.0      1580       2520    1001    1003   \n",
       "2        0    3370.0   3450.0    2270.0      2220       1740    1012    1017   \n",
       "3        1   11110.0   6680.0    1270.0      1430       3030    1022    1009   \n",
       "4        1    2050.0   3380.0    4120.0      2160       1780    1025    1036   \n",
       "\n",
       "   Total Goals  FH Goals Winner HT Winner  \n",
       "0            5         4      H         H  \n",
       "1            4         1      H         A  \n",
       "2            0         0      D         D  \n",
       "3            5         1      A         A  \n",
       "4            3         1      A         A  "
      ]
     },
     "execution_count": 12,
     "metadata": {},
     "output_type": "execute_result"
    }
   ],
   "source": [
    "df.head()"
   ]
  },
  {
   "cell_type": "markdown",
   "id": "317e7b1e",
   "metadata": {
    "papermill": {
     "duration": 0.010951,
     "end_time": "2023-07-06T10:22:05.999650",
     "exception": false,
     "start_time": "2023-07-06T10:22:05.988699",
     "status": "completed"
    },
    "tags": []
   },
   "source": [
    "# Creating new columns "
   ]
  },
  {
   "cell_type": "code",
   "execution_count": 13,
   "id": "9e57a938",
   "metadata": {
    "execution": {
     "iopub.execute_input": "2023-07-06T10:22:06.036575Z",
     "iopub.status.busy": "2023-07-06T10:22:06.035390Z",
     "iopub.status.idle": "2023-07-06T10:22:06.044186Z",
     "shell.execute_reply": "2023-07-06T10:22:06.042606Z"
    },
    "papermill": {
     "duration": 0.0258,
     "end_time": "2023-07-06T10:22:06.047180",
     "exception": false,
     "start_time": "2023-07-06T10:22:06.021380",
     "status": "completed"
    },
    "tags": []
   },
   "outputs": [],
   "source": [
    "df['Winner Team'] = ''"
   ]
  },
  {
   "cell_type": "code",
   "execution_count": 14,
   "id": "18725295",
   "metadata": {
    "execution": {
     "iopub.execute_input": "2023-07-06T10:22:06.071361Z",
     "iopub.status.busy": "2023-07-06T10:22:06.070248Z",
     "iopub.status.idle": "2023-07-06T10:22:06.124093Z",
     "shell.execute_reply": "2023-07-06T10:22:06.122500Z"
    },
    "papermill": {
     "duration": 0.06971,
     "end_time": "2023-07-06T10:22:06.127350",
     "exception": false,
     "start_time": "2023-07-06T10:22:06.057640",
     "status": "completed"
    },
    "tags": []
   },
   "outputs": [],
   "source": [
    "df.loc[df['Winner'] == 'H', 'Winner Team'] = df['Home Team']\n",
    "df.loc[df['Winner'] == 'A', 'Winner Team'] = df['Away Team']\n",
    "df.loc[df['Winner'] == 'D', 'Winner Team'] = 'Draw'"
   ]
  },
  {
   "cell_type": "code",
   "execution_count": 15,
   "id": "28abcd9d",
   "metadata": {
    "execution": {
     "iopub.execute_input": "2023-07-06T10:22:06.150245Z",
     "iopub.status.busy": "2023-07-06T10:22:06.149731Z",
     "iopub.status.idle": "2023-07-06T10:22:06.202927Z",
     "shell.execute_reply": "2023-07-06T10:22:06.201460Z"
    },
    "papermill": {
     "duration": 0.068331,
     "end_time": "2023-07-06T10:22:06.205935",
     "exception": false,
     "start_time": "2023-07-06T10:22:06.137604",
     "status": "completed"
    },
    "tags": []
   },
   "outputs": [],
   "source": [
    "df['Halftime Winner'] = ''\n",
    "df.loc[df['HT Winner'] == 'H', 'Halftime Winner'] = df['Home Team']\n",
    "df.loc[df['HT Winner'] == 'A', 'Halftime Winner'] = df['Away Team']\n",
    "df.loc[df['HT Winner'] == 'D', 'Halftime Winner'] = 'Draw'"
   ]
  },
  {
   "cell_type": "markdown",
   "id": "803b3dec",
   "metadata": {
    "papermill": {
     "duration": 0.010178,
     "end_time": "2023-07-06T10:22:06.226871",
     "exception": false,
     "start_time": "2023-07-06T10:22:06.216693",
     "status": "completed"
    },
    "tags": []
   },
   "source": [
    "# Pie charts"
   ]
  },
  {
   "cell_type": "code",
   "execution_count": 16,
   "id": "adb01972",
   "metadata": {
    "execution": {
     "iopub.execute_input": "2023-07-06T10:22:06.252587Z",
     "iopub.status.busy": "2023-07-06T10:22:06.250879Z",
     "iopub.status.idle": "2023-07-06T10:22:08.418300Z",
     "shell.execute_reply": "2023-07-06T10:22:08.417367Z"
    },
    "papermill": {
     "duration": 2.183923,
     "end_time": "2023-07-06T10:22:08.421702",
     "exception": false,
     "start_time": "2023-07-06T10:22:06.237779",
     "status": "completed"
    },
    "tags": []
   },
   "outputs": [
    {
     "data": {
      "text/plain": [
       "Text(0.5, 1.0, 'Winner of match is Home/Away team at HalfTime')"
      ]
     },
     "execution_count": 16,
     "metadata": {},
     "output_type": "execute_result"
    },
    {
     "data": {
      "image/png": "[encoded data removed]",
      "text/plain": [
       "<Figure size 1200x800 with 2 Axes>"
      ]
     },
     "metadata": {},
     "output_type": "display_data"
    }
   ],
   "source": [
    "import matplotlib.pyplot as plt\n",
    "import seaborn as sns\n",
    "plt.figure(figsize=(12,8))\n",
    "plt.subplot(1,2,1)\n",
    "df['Winner'].value_counts().plot.pie(autopct='%1.2f%%')\n",
    "plt.title('Winner of match is Home/Away team ')\n",
    "plt.subplot(1,2,2)\n",
    "df['HT Winner'].value_counts().plot.pie(autopct='%1.2f%%')\n",
    "plt.title('Winner of match is Home/Away team at HalfTime')"
   ]
  },
  {
   "cell_type": "code",
   "execution_count": 17,
   "id": "728f12aa",
   "metadata": {
    "execution": {
     "iopub.execute_input": "2023-07-06T10:22:08.450131Z",
     "iopub.status.busy": "2023-07-06T10:22:08.448896Z",
     "iopub.status.idle": "2023-07-06T10:22:08.975002Z",
     "shell.execute_reply": "2023-07-06T10:22:08.973633Z"
    },
    "papermill": {
     "duration": 0.544859,
     "end_time": "2023-07-06T10:22:08.978729",
     "exception": false,
     "start_time": "2023-07-06T10:22:08.433870",
     "status": "completed"
    },
    "tags": []
   },
   "outputs": [
    {
     "data": {
      "text/plain": [
       "Text(0.5, 1.0, 'Total Goals of Home/Away team at HalfTime')"
      ]
     },
     "execution_count": 17,
     "metadata": {},
     "output_type": "execute_result"
    },
    {
     "data": {
      "image/png": "[encoded data removed]",
      "text/plain": [
       "<Figure size 1200x800 with 2 Axes>"
      ]
     },
     "metadata": {},
     "output_type": "display_data"
    }
   ],
   "source": [
    "plt.figure(figsize=(12,8))\n",
    "plt.subplot(1,2,1)\n",
    "df['Total Goals'].value_counts().plot.pie(autopct='%1.2f%%')\n",
    "plt.title('Total Goals of Home/Away team ')\n",
    "plt.subplot(1,2,2)\n",
    "df['FH Goals'].value_counts().plot.pie(autopct='%1.2f%%')\n",
    "plt.title('Total Goals of Home/Away team at HalfTime')"
   ]
  },
  {
   "cell_type": "code",
   "execution_count": 18,
   "id": "c3ced2f9",
   "metadata": {
    "execution": {
     "iopub.execute_input": "2023-07-06T10:22:09.013905Z",
     "iopub.status.busy": "2023-07-06T10:22:09.013295Z",
     "iopub.status.idle": "2023-07-06T10:22:09.448910Z",
     "shell.execute_reply": "2023-07-06T10:22:09.447727Z"
    },
    "papermill": {
     "duration": 0.459177,
     "end_time": "2023-07-06T10:22:09.451696",
     "exception": false,
     "start_time": "2023-07-06T10:22:08.992519",
     "status": "completed"
    },
    "tags": []
   },
   "outputs": [
    {
     "data": {
      "image/png": "[encoded data removed]",
      "text/plain": [
       "<Figure size 2000x800 with 1 Axes>"
      ]
     },
     "metadata": {},
     "output_type": "display_data"
    }
   ],
   "source": [
    "winner_counts = df['Winner Team'].value_counts().head(11)\n",
    "winner = winner_counts[1:]\n",
    "# Plotting the bar graph\n",
    "plt.figure(figsize=(20,8))\n",
    "winner.plot(kind='bar')\n",
    "plt.title('Top 10 Winner teams')\n",
    "plt.xlabel('Winner')\n",
    "plt.ylabel('Count')\n",
    "plt.xticks(rotation=90)\n",
    "plt.show()\n"
   ]
  },
  {
   "cell_type": "code",
   "execution_count": 19,
   "id": "9667ea6f",
   "metadata": {
    "execution": {
     "iopub.execute_input": "2023-07-06T10:22:09.481331Z",
     "iopub.status.busy": "2023-07-06T10:22:09.480873Z",
     "iopub.status.idle": "2023-07-06T10:22:09.881046Z",
     "shell.execute_reply": "2023-07-06T10:22:09.879662Z"
    },
    "papermill": {
     "duration": 0.418467,
     "end_time": "2023-07-06T10:22:09.884038",
     "exception": false,
     "start_time": "2023-07-06T10:22:09.465571",
     "status": "completed"
    },
    "tags": []
   },
   "outputs": [
    {
     "data": {
      "image/png": "[encoded data removed]",
      "text/plain": [
       "<Figure size 2000x800 with 1 Axes>"
      ]
     },
     "metadata": {},
     "output_type": "display_data"
    }
   ],
   "source": [
    "winner_counts = df['Halftime Winner'].value_counts().head(11)\n",
    "winner = winner_counts[1:]\n",
    "plt.figure(figsize=(20,8))\n",
    "winner.plot(kind='bar')\n",
    "plt.title('Top 10 Half time Winner teams')\n",
    "plt.xlabel('Winner')\n",
    "plt.ylabel('Count')\n",
    "plt.xticks(rotation=90)\n",
    "plt.show()"
   ]
  },
  {
   "cell_type": "code",
   "execution_count": null,
   "id": "70882788",
   "metadata": {
    "papermill": {
     "duration": 0.014525,
     "end_time": "2023-07-06T10:22:09.914082",
     "exception": false,
     "start_time": "2023-07-06T10:22:09.899557",
     "status": "completed"
    },
    "tags": []
   },
   "outputs": [],
   "source": []
  }
 ],
 "metadata": {
  "kernelspec": {
   "display_name": "Python 3",
   "language": "python",
   "name": "python3"
  },
  "language_info": {
   "codemirror_mode": {
    "name": "ipython",
    "version": 3
   },
   "file_extension": ".py",
   "mimetype": "text/x-python",
   "name": "python",
   "nbconvert_exporter": "python",
   "pygments_lexer": "ipython3",
   "version": "3.10.10"
  },
  "papermill": {
   "default_parameters": {},
   "duration": 49.558812,
   "end_time": "2023-07-06T10:22:11.154038",
   "environment_variables": {},
   "exception": null,
   "input_path": "__notebook__.ipynb",
   "output_path": "__notebook__.ipynb",
   "parameters": {},
   "start_time": "2023-07-06T10:21:21.595226",
   "version": "2.4.0"
  }
 },
 "nbformat": 4,
 "nbformat_minor": 5
}
