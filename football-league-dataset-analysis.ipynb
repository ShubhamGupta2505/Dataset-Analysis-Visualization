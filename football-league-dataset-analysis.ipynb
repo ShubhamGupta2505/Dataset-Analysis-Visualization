{
 "cells": [
  {
   "cell_type": "code",
   "execution_count": 1,
   "id": "6f03e1df",
   "metadata": {
    "_cell_guid": "b1076dfc-b9ad-4769-8c92-a6c4dae69d19",
    "_uuid": "8f2839f25d086af736a60e9eeb907d3b93b6e0e5",
    "execution": {
     "iopub.execute_input": "2023-07-05T06:54:21.197956Z",
     "iopub.status.busy": "2023-07-05T06:54:21.197349Z",
     "iopub.status.idle": "2023-07-05T06:54:21.230532Z",
     "shell.execute_reply": "2023-07-05T06:54:21.229397Z"
    },
    "papermill": {
     "duration": 0.042627,
     "end_time": "2023-07-05T06:54:21.232751",
     "exception": false,
     "start_time": "2023-07-05T06:54:21.190124",
     "status": "completed"
    },
    "tags": []
   },
   "outputs": [
    {
     "name": "stdout",
     "output_type": "stream",
     "text": [
      "/kaggle/input/70-football-leagues-data-2019-2023/ALLLEAGUESDATA.xlsx\n"
     ]
    }
   ],
   "source": [
    "# This Python 3 environment comes with many helpful analytics libraries installed\n",
    "# It is defined by the kaggle/python Docker image: https://github.com/kaggle/docker-python\n",
    "# For example, here's several helpful packages to load\n",
    "\n",
    "import numpy as np # linear algebra\n",
    "import pandas as pd # data processing, CSV file I/O (e.g. pd.read_csv)\n",
    "\n",
    "# Input data files are available in the read-only \"../input/\" directory\n",
    "# For example, running this (by clicking run or pressing Shift+Enter) will list all files under the input directory\n",
    "\n",
    "import os\n",
    "for dirname, _, filenames in os.walk('/kaggle/input'):\n",
    "    for filename in filenames:\n",
    "        print(os.path.join(dirname, filename))\n",
    "\n",
    "# You can write up to 20GB to the current directory (/kaggle/working/) that gets preserved as output when you create a version using \"Save & Run All\" \n",
    "# You can also write temporary files to /kaggle/temp/, but they won't be saved outside of the current session"
   ]
  },
  {
   "cell_type": "code",
   "execution_count": 2,
   "id": "c064aece",
   "metadata": {
    "execution": {
     "iopub.execute_input": "2023-07-05T06:54:21.244961Z",
     "iopub.status.busy": "2023-07-05T06:54:21.244348Z",
     "iopub.status.idle": "2023-07-05T06:54:21.248254Z",
     "shell.execute_reply": "2023-07-05T06:54:21.247489Z"
    },
    "papermill": {
     "duration": 0.01259,
     "end_time": "2023-07-05T06:54:21.250497",
     "exception": false,
     "start_time": "2023-07-05T06:54:21.237907",
     "status": "completed"
    },
    "tags": []
   },
   "outputs": [],
   "source": [
    "pd.set_option('display.max_columns', None)"
   ]
  },
  {
   "cell_type": "code",
   "execution_count": 3,
   "id": "3bfacda3",
   "metadata": {
    "execution": {
     "iopub.execute_input": "2023-07-05T06:54:21.262104Z",
     "iopub.status.busy": "2023-07-05T06:54:21.261709Z",
     "iopub.status.idle": "2023-07-05T06:54:39.718440Z",
     "shell.execute_reply": "2023-07-05T06:54:39.717313Z"
    },
    "papermill": {
     "duration": 18.465587,
     "end_time": "2023-07-05T06:54:39.721112",
     "exception": false,
     "start_time": "2023-07-05T06:54:21.255525",
     "status": "completed"
    },
    "tags": []
   },
   "outputs": [
    {
     "data": {
      "text/html": [
       "<div>\n",
       "<style scoped>\n",
       "    .dataframe tbody tr th:only-of-type {\n",
       "        vertical-align: middle;\n",
       "    }\n",
       "\n",
       "    .dataframe tbody tr th {\n",
       "        vertical-align: top;\n",
       "    }\n",
       "\n",
       "    .dataframe thead th {\n",
       "        text-align: right;\n",
       "    }\n",
       "</style>\n",
       "<table border=\"1\" class=\"dataframe\">\n",
       "  <thead>\n",
       "    <tr style=\"text-align: right;\">\n",
       "      <th></th>\n",
       "      <th>League</th>\n",
       "      <th>Season</th>\n",
       "      <th>Home Team</th>\n",
       "      <th>Away Team</th>\n",
       "      <th>Home Goals</th>\n",
       "      <th>Away Goals</th>\n",
       "      <th>Home FH</th>\n",
       "      <th>Away FH</th>\n",
       "      <th>Home Win</th>\n",
       "      <th>Draw</th>\n",
       "      <th>Away Win</th>\n",
       "      <th>Over 2,5</th>\n",
       "      <th>Under 2,5</th>\n",
       "      <th>Code 1</th>\n",
       "      <th>Code 2</th>\n",
       "      <th>Total Goals</th>\n",
       "      <th>FH Goals</th>\n",
       "      <th>Winner</th>\n",
       "      <th>HT Winner</th>\n",
       "    </tr>\n",
       "  </thead>\n",
       "  <tbody>\n",
       "    <tr>\n",
       "      <th>0</th>\n",
       "      <td>Eng1</td>\n",
       "      <td>20</td>\n",
       "      <td>Liverpool</td>\n",
       "      <td>Norwich</td>\n",
       "      <td>4</td>\n",
       "      <td>1</td>\n",
       "      <td>4</td>\n",
       "      <td>0</td>\n",
       "      <td>1140.0</td>\n",
       "      <td>10430.0</td>\n",
       "      <td>19630.0</td>\n",
       "      <td>1340</td>\n",
       "      <td>3440</td>\n",
       "      <td>1002</td>\n",
       "      <td>1011</td>\n",
       "      <td>5</td>\n",
       "      <td>4</td>\n",
       "      <td>H</td>\n",
       "      <td>H</td>\n",
       "    </tr>\n",
       "    <tr>\n",
       "      <th>1</th>\n",
       "      <td>Eng1</td>\n",
       "      <td>20</td>\n",
       "      <td>Tottenham</td>\n",
       "      <td>Aston Villa</td>\n",
       "      <td>3</td>\n",
       "      <td>1</td>\n",
       "      <td>0</td>\n",
       "      <td>1</td>\n",
       "      <td>1390.0</td>\n",
       "      <td>5350.0</td>\n",
       "      <td>8420.0</td>\n",
       "      <td>1580</td>\n",
       "      <td>2520</td>\n",
       "      <td>1001</td>\n",
       "      <td>1003</td>\n",
       "      <td>4</td>\n",
       "      <td>1</td>\n",
       "      <td>H</td>\n",
       "      <td>A</td>\n",
       "    </tr>\n",
       "    <tr>\n",
       "      <th>2</th>\n",
       "      <td>Eng1</td>\n",
       "      <td>20</td>\n",
       "      <td>C Palace</td>\n",
       "      <td>Everton</td>\n",
       "      <td>0</td>\n",
       "      <td>0</td>\n",
       "      <td>0</td>\n",
       "      <td>0</td>\n",
       "      <td>3370.0</td>\n",
       "      <td>3450.0</td>\n",
       "      <td>2270.0</td>\n",
       "      <td>2220</td>\n",
       "      <td>1740</td>\n",
       "      <td>1012</td>\n",
       "      <td>1017</td>\n",
       "      <td>0</td>\n",
       "      <td>0</td>\n",
       "      <td>D</td>\n",
       "      <td>D</td>\n",
       "    </tr>\n",
       "    <tr>\n",
       "      <th>3</th>\n",
       "      <td>Eng1</td>\n",
       "      <td>20</td>\n",
       "      <td>West Ham</td>\n",
       "      <td>Man City</td>\n",
       "      <td>0</td>\n",
       "      <td>5</td>\n",
       "      <td>0</td>\n",
       "      <td>1</td>\n",
       "      <td>11110.0</td>\n",
       "      <td>6680.0</td>\n",
       "      <td>1270.0</td>\n",
       "      <td>1430</td>\n",
       "      <td>3030</td>\n",
       "      <td>1022</td>\n",
       "      <td>1009</td>\n",
       "      <td>5</td>\n",
       "      <td>1</td>\n",
       "      <td>A</td>\n",
       "      <td>A</td>\n",
       "    </tr>\n",
       "    <tr>\n",
       "      <th>4</th>\n",
       "      <td>Eng1</td>\n",
       "      <td>20</td>\n",
       "      <td>Watford</td>\n",
       "      <td>Brighton</td>\n",
       "      <td>0</td>\n",
       "      <td>3</td>\n",
       "      <td>0</td>\n",
       "      <td>1</td>\n",
       "      <td>2050.0</td>\n",
       "      <td>3380.0</td>\n",
       "      <td>4120.0</td>\n",
       "      <td>2160</td>\n",
       "      <td>1780</td>\n",
       "      <td>1025</td>\n",
       "      <td>1036</td>\n",
       "      <td>3</td>\n",
       "      <td>1</td>\n",
       "      <td>A</td>\n",
       "      <td>A</td>\n",
       "    </tr>\n",
       "  </tbody>\n",
       "</table>\n",
       "</div>"
      ],
      "text/plain": [
       "  League  Season  Home Team    Away Team  Home Goals  Away Goals  Home FH  \\\n",
       "0   Eng1      20  Liverpool      Norwich           4           1        4   \n",
       "1   Eng1      20  Tottenham  Aston Villa           3           1        0   \n",
       "2   Eng1      20   C Palace      Everton           0           0        0   \n",
       "3   Eng1      20   West Ham     Man City           0           5        0   \n",
       "4   Eng1      20    Watford     Brighton           0           3        0   \n",
       "\n",
       "   Away FH  Home Win     Draw  Away Win  Over 2,5  Under 2,5  Code 1  Code 2  \\\n",
       "0        0    1140.0  10430.0   19630.0      1340       3440    1002    1011   \n",
       "1        1    1390.0   5350.0    8420.0      1580       2520    1001    1003   \n",
       "2        0    3370.0   3450.0    2270.0      2220       1740    1012    1017   \n",
       "3        1   11110.0   6680.0    1270.0      1430       3030    1022    1009   \n",
       "4        1    2050.0   3380.0    4120.0      2160       1780    1025    1036   \n",
       "\n",
       "   Total Goals  FH Goals Winner HT Winner  \n",
       "0            5         4      H         H  \n",
       "1            4         1      H         A  \n",
       "2            0         0      D         D  \n",
       "3            5         1      A         A  \n",
       "4            3         1      A         A  "
      ]
     },
     "execution_count": 3,
     "metadata": {},
     "output_type": "execute_result"
    }
   ],
   "source": [
    "df = pd.read_excel('/kaggle/input/70-football-leagues-data-2019-2023/ALLLEAGUESDATA.xlsx')\n",
    "df.head()"
   ]
  },
  {
   "cell_type": "code",
   "execution_count": null,
   "id": "06aac80a",
   "metadata": {
    "papermill": {
     "duration": 0.007817,
     "end_time": "2023-07-05T06:54:39.737351",
     "exception": false,
     "start_time": "2023-07-05T06:54:39.729534",
     "status": "completed"
    },
    "tags": []
   },
   "outputs": [],
   "source": [
    "    "
   ]
  },
  {
   "cell_type": "code",
   "execution_count": 4,
   "id": "96426c22",
   "metadata": {
    "execution": {
     "iopub.execute_input": "2023-07-05T06:54:39.757493Z",
     "iopub.status.busy": "2023-07-05T06:54:39.756907Z",
     "iopub.status.idle": "2023-07-05T06:54:39.763310Z",
     "shell.execute_reply": "2023-07-05T06:54:39.762395Z"
    },
    "papermill": {
     "duration": 0.020218,
     "end_time": "2023-07-05T06:54:39.765769",
     "exception": false,
     "start_time": "2023-07-05T06:54:39.745551",
     "status": "completed"
    },
    "tags": []
   },
   "outputs": [
    {
     "data": {
      "text/plain": [
       "(63189, 19)"
      ]
     },
     "execution_count": 4,
     "metadata": {},
     "output_type": "execute_result"
    }
   ],
   "source": [
    "df.shape"
   ]
  },
  {
   "cell_type": "code",
   "execution_count": 5,
   "id": "e408b352",
   "metadata": {
    "execution": {
     "iopub.execute_input": "2023-07-05T06:54:39.784375Z",
     "iopub.status.busy": "2023-07-05T06:54:39.783878Z",
     "iopub.status.idle": "2023-07-05T06:54:39.863326Z",
     "shell.execute_reply": "2023-07-05T06:54:39.862184Z"
    },
    "papermill": {
     "duration": 0.091662,
     "end_time": "2023-07-05T06:54:39.865839",
     "exception": false,
     "start_time": "2023-07-05T06:54:39.774177",
     "status": "completed"
    },
    "tags": []
   },
   "outputs": [
    {
     "data": {
      "text/html": [
       "<div>\n",
       "<style scoped>\n",
       "    .dataframe tbody tr th:only-of-type {\n",
       "        vertical-align: middle;\n",
       "    }\n",
       "\n",
       "    .dataframe tbody tr th {\n",
       "        vertical-align: top;\n",
       "    }\n",
       "\n",
       "    .dataframe thead th {\n",
       "        text-align: right;\n",
       "    }\n",
       "</style>\n",
       "<table border=\"1\" class=\"dataframe\">\n",
       "  <thead>\n",
       "    <tr style=\"text-align: right;\">\n",
       "      <th></th>\n",
       "      <th>Season</th>\n",
       "      <th>Home Goals</th>\n",
       "      <th>Away Goals</th>\n",
       "      <th>Home FH</th>\n",
       "      <th>Away FH</th>\n",
       "      <th>Home Win</th>\n",
       "      <th>Draw</th>\n",
       "      <th>Away Win</th>\n",
       "      <th>Over 2,5</th>\n",
       "      <th>Under 2,5</th>\n",
       "      <th>Code 1</th>\n",
       "      <th>Code 2</th>\n",
       "      <th>Total Goals</th>\n",
       "      <th>FH Goals</th>\n",
       "    </tr>\n",
       "  </thead>\n",
       "  <tbody>\n",
       "    <tr>\n",
       "      <th>count</th>\n",
       "      <td>63189.000000</td>\n",
       "      <td>63189.000000</td>\n",
       "      <td>63189.000000</td>\n",
       "      <td>63189.000000</td>\n",
       "      <td>63189.000000</td>\n",
       "      <td>63189.000000</td>\n",
       "      <td>63189.000000</td>\n",
       "      <td>63189.000000</td>\n",
       "      <td>63189.000000</td>\n",
       "      <td>63189.000000</td>\n",
       "      <td>63189.000000</td>\n",
       "      <td>63189.000000</td>\n",
       "      <td>63189.000000</td>\n",
       "      <td>63189.000000</td>\n",
       "    </tr>\n",
       "    <tr>\n",
       "      <th>mean</th>\n",
       "      <td>21.562693</td>\n",
       "      <td>1.462517</td>\n",
       "      <td>1.197012</td>\n",
       "      <td>0.652408</td>\n",
       "      <td>0.529396</td>\n",
       "      <td>2723.550655</td>\n",
       "      <td>3813.055904</td>\n",
       "      <td>4080.404955</td>\n",
       "      <td>1980.246562</td>\n",
       "      <td>1978.342433</td>\n",
       "      <td>14555.952856</td>\n",
       "      <td>14555.944231</td>\n",
       "      <td>2.659529</td>\n",
       "      <td>1.181804</td>\n",
       "    </tr>\n",
       "    <tr>\n",
       "      <th>std</th>\n",
       "      <td>1.108266</td>\n",
       "      <td>1.263394</td>\n",
       "      <td>1.141881</td>\n",
       "      <td>0.818801</td>\n",
       "      <td>0.739860</td>\n",
       "      <td>1800.138466</td>\n",
       "      <td>998.734819</td>\n",
       "      <td>3131.574746</td>\n",
       "      <td>387.432481</td>\n",
       "      <td>442.517940</td>\n",
       "      <td>11877.290462</td>\n",
       "      <td>11877.281687</td>\n",
       "      <td>1.652328</td>\n",
       "      <td>1.082685</td>\n",
       "    </tr>\n",
       "    <tr>\n",
       "      <th>min</th>\n",
       "      <td>20.000000</td>\n",
       "      <td>0.000000</td>\n",
       "      <td>0.000000</td>\n",
       "      <td>0.000000</td>\n",
       "      <td>0.000000</td>\n",
       "      <td>0.000000</td>\n",
       "      <td>0.000000</td>\n",
       "      <td>0.000000</td>\n",
       "      <td>0.000000</td>\n",
       "      <td>0.000000</td>\n",
       "      <td>1001.000000</td>\n",
       "      <td>1001.000000</td>\n",
       "      <td>0.000000</td>\n",
       "      <td>0.000000</td>\n",
       "    </tr>\n",
       "    <tr>\n",
       "      <th>25%</th>\n",
       "      <td>21.000000</td>\n",
       "      <td>1.000000</td>\n",
       "      <td>0.000000</td>\n",
       "      <td>0.000000</td>\n",
       "      <td>0.000000</td>\n",
       "      <td>1810.000000</td>\n",
       "      <td>3300.000000</td>\n",
       "      <td>2450.000000</td>\n",
       "      <td>1720.000000</td>\n",
       "      <td>1690.000000</td>\n",
       "      <td>3065.000000</td>\n",
       "      <td>3065.000000</td>\n",
       "      <td>1.000000</td>\n",
       "      <td>0.000000</td>\n",
       "    </tr>\n",
       "    <tr>\n",
       "      <th>50%</th>\n",
       "      <td>22.000000</td>\n",
       "      <td>1.000000</td>\n",
       "      <td>1.000000</td>\n",
       "      <td>0.000000</td>\n",
       "      <td>0.000000</td>\n",
       "      <td>2310.000000</td>\n",
       "      <td>3570.000000</td>\n",
       "      <td>3290.000000</td>\n",
       "      <td>1950.000000</td>\n",
       "      <td>1900.000000</td>\n",
       "      <td>13019.000000</td>\n",
       "      <td>13019.000000</td>\n",
       "      <td>2.000000</td>\n",
       "      <td>1.000000</td>\n",
       "    </tr>\n",
       "    <tr>\n",
       "      <th>75%</th>\n",
       "      <td>23.000000</td>\n",
       "      <td>2.000000</td>\n",
       "      <td>2.000000</td>\n",
       "      <td>1.000000</td>\n",
       "      <td>1.000000</td>\n",
       "      <td>3020.000000</td>\n",
       "      <td>3990.000000</td>\n",
       "      <td>4580.000000</td>\n",
       "      <td>2210.000000</td>\n",
       "      <td>2180.000000</td>\n",
       "      <td>24022.000000</td>\n",
       "      <td>24022.000000</td>\n",
       "      <td>4.000000</td>\n",
       "      <td>2.000000</td>\n",
       "    </tr>\n",
       "    <tr>\n",
       "      <th>max</th>\n",
       "      <td>23.000000</td>\n",
       "      <td>13.000000</td>\n",
       "      <td>13.000000</td>\n",
       "      <td>7.000000</td>\n",
       "      <td>7.000000</td>\n",
       "      <td>47370.000000</td>\n",
       "      <td>17980.000000</td>\n",
       "      <td>76000.000000</td>\n",
       "      <td>4500.000000</td>\n",
       "      <td>8000.000000</td>\n",
       "      <td>41021.000000</td>\n",
       "      <td>41021.000000</td>\n",
       "      <td>13.000000</td>\n",
       "      <td>7.000000</td>\n",
       "    </tr>\n",
       "  </tbody>\n",
       "</table>\n",
       "</div>"
      ],
      "text/plain": [
       "             Season    Home Goals    Away Goals       Home FH       Away FH  \\\n",
       "count  63189.000000  63189.000000  63189.000000  63189.000000  63189.000000   \n",
       "mean      21.562693      1.462517      1.197012      0.652408      0.529396   \n",
       "std        1.108266      1.263394      1.141881      0.818801      0.739860   \n",
       "min       20.000000      0.000000      0.000000      0.000000      0.000000   \n",
       "25%       21.000000      1.000000      0.000000      0.000000      0.000000   \n",
       "50%       22.000000      1.000000      1.000000      0.000000      0.000000   \n",
       "75%       23.000000      2.000000      2.000000      1.000000      1.000000   \n",
       "max       23.000000     13.000000     13.000000      7.000000      7.000000   \n",
       "\n",
       "           Home Win          Draw      Away Win      Over 2,5     Under 2,5  \\\n",
       "count  63189.000000  63189.000000  63189.000000  63189.000000  63189.000000   \n",
       "mean    2723.550655   3813.055904   4080.404955   1980.246562   1978.342433   \n",
       "std     1800.138466    998.734819   3131.574746    387.432481    442.517940   \n",
       "min        0.000000      0.000000      0.000000      0.000000      0.000000   \n",
       "25%     1810.000000   3300.000000   2450.000000   1720.000000   1690.000000   \n",
       "50%     2310.000000   3570.000000   3290.000000   1950.000000   1900.000000   \n",
       "75%     3020.000000   3990.000000   4580.000000   2210.000000   2180.000000   \n",
       "max    47370.000000  17980.000000  76000.000000   4500.000000   8000.000000   \n",
       "\n",
       "             Code 1        Code 2   Total Goals      FH Goals  \n",
       "count  63189.000000  63189.000000  63189.000000  63189.000000  \n",
       "mean   14555.952856  14555.944231      2.659529      1.181804  \n",
       "std    11877.290462  11877.281687      1.652328      1.082685  \n",
       "min     1001.000000   1001.000000      0.000000      0.000000  \n",
       "25%     3065.000000   3065.000000      1.000000      0.000000  \n",
       "50%    13019.000000  13019.000000      2.000000      1.000000  \n",
       "75%    24022.000000  24022.000000      4.000000      2.000000  \n",
       "max    41021.000000  41021.000000     13.000000      7.000000  "
      ]
     },
     "execution_count": 5,
     "metadata": {},
     "output_type": "execute_result"
    }
   ],
   "source": [
    "df.describe()"
   ]
  },
  {
   "cell_type": "code",
   "execution_count": 6,
   "id": "2e67a67a",
   "metadata": {
    "execution": {
     "iopub.execute_input": "2023-07-05T06:54:39.879248Z",
     "iopub.status.busy": "2023-07-05T06:54:39.878875Z",
     "iopub.status.idle": "2023-07-05T06:54:39.957804Z",
     "shell.execute_reply": "2023-07-05T06:54:39.956580Z"
    },
    "papermill": {
     "duration": 0.088322,
     "end_time": "2023-07-05T06:54:39.960230",
     "exception": false,
     "start_time": "2023-07-05T06:54:39.871908",
     "status": "completed"
    },
    "tags": []
   },
   "outputs": [
    {
     "name": "stdout",
     "output_type": "stream",
     "text": [
      "<class 'pandas.core.frame.DataFrame'>\n",
      "RangeIndex: 63189 entries, 0 to 63188\n",
      "Data columns (total 19 columns):\n",
      " #   Column       Non-Null Count  Dtype  \n",
      "---  ------       --------------  -----  \n",
      " 0   League       63189 non-null  object \n",
      " 1   Season       63189 non-null  int64  \n",
      " 2   Home Team    63189 non-null  object \n",
      " 3   Away Team    63189 non-null  object \n",
      " 4   Home Goals   63189 non-null  int64  \n",
      " 5   Away Goals   63189 non-null  int64  \n",
      " 6   Home FH      63189 non-null  int64  \n",
      " 7   Away FH      63189 non-null  int64  \n",
      " 8   Home Win     63189 non-null  float64\n",
      " 9   Draw         63189 non-null  float64\n",
      " 10  Away Win     63189 non-null  float64\n",
      " 11  Over 2,5     63189 non-null  int64  \n",
      " 12  Under 2,5    63189 non-null  int64  \n",
      " 13  Code 1       63189 non-null  int64  \n",
      " 14  Code 2       63189 non-null  int64  \n",
      " 15  Total Goals  63189 non-null  int64  \n",
      " 16  FH Goals     63189 non-null  int64  \n",
      " 17  Winner       63189 non-null  object \n",
      " 18  HT Winner    63189 non-null  object \n",
      "dtypes: float64(3), int64(11), object(5)\n",
      "memory usage: 9.2+ MB\n"
     ]
    }
   ],
   "source": [
    "df.info()"
   ]
  },
  {
   "cell_type": "code",
   "execution_count": 7,
   "id": "1dec2d9b",
   "metadata": {
    "execution": {
     "iopub.execute_input": "2023-07-05T06:54:39.974116Z",
     "iopub.status.busy": "2023-07-05T06:54:39.973747Z",
     "iopub.status.idle": "2023-07-05T06:54:39.981172Z",
     "shell.execute_reply": "2023-07-05T06:54:39.980123Z"
    },
    "papermill": {
     "duration": 0.016999,
     "end_time": "2023-07-05T06:54:39.983424",
     "exception": false,
     "start_time": "2023-07-05T06:54:39.966425",
     "status": "completed"
    },
    "tags": []
   },
   "outputs": [
    {
     "data": {
      "text/plain": [
       "League          object\n",
       "Season           int64\n",
       "Home Team       object\n",
       "Away Team       object\n",
       "Home Goals       int64\n",
       "Away Goals       int64\n",
       "Home FH          int64\n",
       "Away FH          int64\n",
       "Home Win       float64\n",
       "Draw           float64\n",
       "Away Win       float64\n",
       "Over 2,5         int64\n",
       "Under 2,5        int64\n",
       "Code 1           int64\n",
       "Code 2           int64\n",
       "Total Goals      int64\n",
       "FH Goals         int64\n",
       "Winner          object\n",
       "HT Winner       object\n",
       "dtype: object"
      ]
     },
     "execution_count": 7,
     "metadata": {},
     "output_type": "execute_result"
    }
   ],
   "source": [
    "df.dtypes"
   ]
  },
  {
   "cell_type": "code",
   "execution_count": 8,
   "id": "71bd0258",
   "metadata": {
    "execution": {
     "iopub.execute_input": "2023-07-05T06:54:39.997445Z",
     "iopub.status.busy": "2023-07-05T06:54:39.996418Z",
     "iopub.status.idle": "2023-07-05T06:54:40.051824Z",
     "shell.execute_reply": "2023-07-05T06:54:40.050660Z"
    },
    "papermill": {
     "duration": 0.065492,
     "end_time": "2023-07-05T06:54:40.054776",
     "exception": false,
     "start_time": "2023-07-05T06:54:39.989284",
     "status": "completed"
    },
    "tags": []
   },
   "outputs": [
    {
     "data": {
      "text/plain": [
       "League         0\n",
       "Season         0\n",
       "Home Team      0\n",
       "Away Team      0\n",
       "Home Goals     0\n",
       "Away Goals     0\n",
       "Home FH        0\n",
       "Away FH        0\n",
       "Home Win       0\n",
       "Draw           0\n",
       "Away Win       0\n",
       "Over 2,5       0\n",
       "Under 2,5      0\n",
       "Code 1         0\n",
       "Code 2         0\n",
       "Total Goals    0\n",
       "FH Goals       0\n",
       "Winner         0\n",
       "HT Winner      0\n",
       "dtype: int64"
      ]
     },
     "execution_count": 8,
     "metadata": {},
     "output_type": "execute_result"
    }
   ],
   "source": [
    "df.isnull().sum()"
   ]
  },
  {
   "cell_type": "code",
   "execution_count": 9,
   "id": "fc9f8fc5",
   "metadata": {
    "execution": {
     "iopub.execute_input": "2023-07-05T06:54:40.068590Z",
     "iopub.status.busy": "2023-07-05T06:54:40.068204Z",
     "iopub.status.idle": "2023-07-05T06:54:40.121364Z",
     "shell.execute_reply": "2023-07-05T06:54:40.120066Z"
    },
    "papermill": {
     "duration": 0.063286,
     "end_time": "2023-07-05T06:54:40.124185",
     "exception": false,
     "start_time": "2023-07-05T06:54:40.060899",
     "status": "completed"
    },
    "tags": []
   },
   "outputs": [
    {
     "data": {
      "text/plain": [
       "0"
      ]
     },
     "execution_count": 9,
     "metadata": {},
     "output_type": "execute_result"
    }
   ],
   "source": [
    "df.duplicated().sum()"
   ]
  },
  {
   "cell_type": "markdown",
   "id": "65906ce3",
   "metadata": {
    "papermill": {
     "duration": 0.005999,
     "end_time": "2023-07-05T06:54:40.136556",
     "exception": false,
     "start_time": "2023-07-05T06:54:40.130557",
     "status": "completed"
    },
    "tags": []
   },
   "source": [
    "# Value Counts"
   ]
  },
  {
   "cell_type": "code",
   "execution_count": 10,
   "id": "f5c67496",
   "metadata": {
    "execution": {
     "iopub.execute_input": "2023-07-05T06:54:40.150746Z",
     "iopub.status.busy": "2023-07-05T06:54:40.149985Z",
     "iopub.status.idle": "2023-07-05T06:54:40.154921Z",
     "shell.execute_reply": "2023-07-05T06:54:40.154165Z"
    },
    "papermill": {
     "duration": 0.014309,
     "end_time": "2023-07-05T06:54:40.157004",
     "exception": false,
     "start_time": "2023-07-05T06:54:40.142695",
     "status": "completed"
    },
    "tags": []
   },
   "outputs": [],
   "source": [
    "bold = \"\\033[1m\"\n",
    "reset = \"\\033[0m\""
   ]
  },
  {
   "cell_type": "code",
   "execution_count": 11,
   "id": "824c439b",
   "metadata": {
    "execution": {
     "iopub.execute_input": "2023-07-05T06:54:40.171476Z",
     "iopub.status.busy": "2023-07-05T06:54:40.170750Z",
     "iopub.status.idle": "2023-07-05T06:54:40.225246Z",
     "shell.execute_reply": "2023-07-05T06:54:40.224195Z"
    },
    "papermill": {
     "duration": 0.065136,
     "end_time": "2023-07-05T06:54:40.228322",
     "exception": false,
     "start_time": "2023-07-05T06:54:40.163186",
     "status": "completed"
    },
    "tags": []
   },
   "outputs": [
    {
     "name": "stdout",
     "output_type": "stream",
     "text": [
      "\u001b[1mValue Counts of League\u001b[0m\n",
      "\u001b[1mColumn: League\u001b[0m\n",
      "Eng2    2208\n",
      "Eng4    2096\n",
      "Eng3    2056\n",
      "Eng5    1971\n",
      "Spa2    1848\n",
      "        ... \n",
      "Ser2     240\n",
      "Rom2     190\n",
      "Chi2     170\n",
      "Bel2     132\n",
      "Cro2     132\n",
      "Name: League, Length: 71, dtype: int64\n",
      "\n",
      "\n",
      "\u001b[1mValue Counts of Season\u001b[0m\n",
      "\u001b[1mColumn: Season\u001b[0m\n",
      "23    16747\n",
      "22    16346\n",
      "21    15812\n",
      "20    14284\n",
      "Name: Season, dtype: int64\n",
      "\n",
      "\n",
      "\u001b[1mValue Counts of Home Team\u001b[0m\n",
      "\u001b[1mColumn: Home Team\u001b[0m\n",
      "Newcastle                   126\n",
      "Gorica                      108\n",
      "Everton                      99\n",
      "Arsenal                      97\n",
      "Millwall                     92\n",
      "                           ... \n",
      "Yanbian                       5\n",
      "Shanghai Jiading Huilong      4\n",
      "Qingdao Youth Island          4\n",
      "Jinan Xingzhou                4\n",
      "Heilongjiang Ice City         3\n",
      "Name: Home Team, Length: 1379, dtype: int64\n",
      "\n",
      "\n",
      "\u001b[1mValue Counts of Away Team\u001b[0m\n",
      "\u001b[1mColumn: Away Team\u001b[0m\n",
      "Newcastle              127\n",
      "Gorica                 108\n",
      "Arsenal                101\n",
      "Everton                 98\n",
      "Reading                 92\n",
      "                      ... \n",
      "Dongguan Guanlian        4\n",
      "Shijiazhuang Gongfu      4\n",
      "Nanjing City             4\n",
      "ziantep                  1\n",
      "Nagoia                   1\n",
      "Name: Away Team, Length: 1381, dtype: int64\n",
      "\n",
      "\n",
      "\u001b[1mValue Counts of Home Goals\u001b[0m\n",
      "\u001b[1mColumn: Home Goals\u001b[0m\n",
      "1     21198\n",
      "0     15353\n",
      "2     15064\n",
      "3      7271\n",
      "4      2836\n",
      "5      1039\n",
      "6       309\n",
      "7        88\n",
      "8        20\n",
      "9         7\n",
      "10        2\n",
      "13        1\n",
      "11        1\n",
      "Name: Home Goals, dtype: int64\n",
      "\n",
      "\n",
      "\u001b[1mValue Counts of Away Goals\u001b[0m\n",
      "\u001b[1mColumn: Away Goals\u001b[0m\n",
      "1     22473\n",
      "0     19833\n",
      "2     13034\n",
      "3      5295\n",
      "4      1841\n",
      "5       507\n",
      "6       157\n",
      "7        35\n",
      "8         8\n",
      "9         3\n",
      "13        1\n",
      "10        1\n",
      "12        1\n",
      "Name: Away Goals, dtype: int64\n",
      "\n",
      "\n",
      "\u001b[1mValue Counts of Home FH\u001b[0m\n",
      "\u001b[1mColumn: Home FH\u001b[0m\n",
      "0    33146\n",
      "1    21207\n",
      "2     6909\n",
      "3     1568\n",
      "4      307\n",
      "5       46\n",
      "6        4\n",
      "7        2\n",
      "Name: Home FH, dtype: int64\n",
      "\n",
      "\n",
      "\u001b[1mValue Counts of Away FH\u001b[0m\n",
      "\u001b[1mColumn: Away FH\u001b[0m\n",
      "0    37481\n",
      "1    19379\n",
      "2     5139\n",
      "3      998\n",
      "4      164\n",
      "5       24\n",
      "6        3\n",
      "7        1\n",
      "Name: Away FH, dtype: int64\n",
      "\n",
      "\n",
      "\u001b[1mValue Counts of Home Win\u001b[0m\n",
      "\u001b[1mColumn: Home Win\u001b[0m\n",
      "1930.0     584\n",
      "1880.0     486\n",
      "1850.0     434\n",
      "2000.0     428\n",
      "1680.0     409\n",
      "          ... \n",
      "12700.0      1\n",
      "17710.0      1\n",
      "20100.0      1\n",
      "14160.0      1\n",
      "15480.0      1\n",
      "Name: Home Win, Length: 1319, dtype: int64\n",
      "\n",
      "\n",
      "\u001b[1mValue Counts of Draw\u001b[0m\n",
      "\u001b[1mColumn: Draw\u001b[0m\n",
      "3400.0     857\n",
      "3500.0     824\n",
      "3300.0     748\n",
      "3600.0     734\n",
      "3200.0     671\n",
      "          ... \n",
      "8110.0       1\n",
      "13840.0      1\n",
      "9370.0       1\n",
      "2260.0       1\n",
      "9510.0       1\n",
      "Name: Draw, Length: 899, dtype: int64\n",
      "\n",
      "\n",
      "\u001b[1mValue Counts of Away Win\u001b[0m\n",
      "\u001b[1mColumn: Away Win\u001b[0m\n",
      "3000.00     291\n",
      "2800.00     252\n",
      "2300.00     248\n",
      "2750.00     239\n",
      "2450.00     237\n",
      "           ... \n",
      "28790.00      1\n",
      "0.48          1\n",
      "23760.00      1\n",
      "21420.00      1\n",
      "0.51          1\n",
      "Name: Away Win, Length: 2049, dtype: int64\n",
      "\n",
      "\n",
      "\u001b[1mValue Counts of Over 2,5\u001b[0m\n",
      "\u001b[1mColumn: Over 2,5\u001b[0m\n",
      "1930    1198\n",
      "1880     989\n",
      "1850     988\n",
      "1680     886\n",
      "1650     829\n",
      "        ... \n",
      "4300       1\n",
      "3590       1\n",
      "3670       1\n",
      "3420       1\n",
      "4500       1\n",
      "Name: Over 2,5, Length: 260, dtype: int64\n",
      "\n",
      "\n",
      "\u001b[1mValue Counts of Under 2,5\u001b[0m\n",
      "\u001b[1mColumn: Under 2,5\u001b[0m\n",
      "1930    1223\n",
      "1850    1194\n",
      "1680    1085\n",
      "1880    1070\n",
      "1650    1022\n",
      "        ... \n",
      "5500       1\n",
      "5690       1\n",
      "4390       1\n",
      "5170       1\n",
      "1170       1\n",
      "Name: Under 2,5, Length: 378, dtype: int64\n",
      "\n",
      "\n",
      "\u001b[1mValue Counts of Code 1\u001b[0m\n",
      "\u001b[1mColumn: Code 1\u001b[0m\n",
      "1049     92\n",
      "1029     92\n",
      "1023     92\n",
      "1005     92\n",
      "1048     92\n",
      "         ..\n",
      "39005     5\n",
      "35058     4\n",
      "35056     4\n",
      "35054     4\n",
      "35062     3\n",
      "Name: Code 1, Length: 1358, dtype: int64\n",
      "\n",
      "\n",
      "\u001b[1mValue Counts of Code 2\u001b[0m\n",
      "\u001b[1mColumn: Code 2\u001b[0m\n",
      "1028     92\n",
      "1015     92\n",
      "1039     92\n",
      "1049     92\n",
      "1033     92\n",
      "         ..\n",
      "35061     4\n",
      "35060     4\n",
      "35055     4\n",
      "35057     4\n",
      "35059     4\n",
      "Name: Code 2, Length: 1358, dtype: int64\n",
      "\n",
      "\n",
      "\u001b[1mValue Counts of Total Goals\u001b[0m\n",
      "\u001b[1mColumn: Total Goals\u001b[0m\n",
      "2     15407\n",
      "3     13871\n",
      "1     11514\n",
      "4      9095\n",
      "5      5009\n",
      "0      4819\n",
      "6      2202\n",
      "7       885\n",
      "8       264\n",
      "9        87\n",
      "10       21\n",
      "11        8\n",
      "12        4\n",
      "13        3\n",
      "Name: Total Goals, dtype: int64\n",
      "\n",
      "\n",
      "\u001b[1mValue Counts of FH Goals\u001b[0m\n",
      "\u001b[1mColumn: FH Goals\u001b[0m\n",
      "1    22869\n",
      "0    19356\n",
      "2    13564\n",
      "3     5434\n",
      "4     1542\n",
      "5      349\n",
      "6       60\n",
      "7       15\n",
      "Name: FH Goals, dtype: int64\n",
      "\n",
      "\n",
      "\u001b[1mValue Counts of Winner\u001b[0m\n",
      "\u001b[1mColumn: Winner\u001b[0m\n",
      "H    27121\n",
      "A    19551\n",
      "D    16517\n",
      "Name: Winner, dtype: int64\n",
      "\n",
      "\n",
      "\u001b[1mValue Counts of HT Winner\u001b[0m\n",
      "\u001b[1mColumn: HT Winner\u001b[0m\n",
      "D    26467\n",
      "H    20816\n",
      "A    15906\n",
      "Name: HT Winner, dtype: int64\n",
      "\n",
      "\n"
     ]
    }
   ],
   "source": [
    " for col in df.columns:\n",
    "        print(f\"{bold}Value Counts of {col}{reset}\")\n",
    "        print(f\"{bold}Column: {col}{reset}\")\n",
    "        print(df[col].value_counts())\n",
    "        print(\"\\n\")"
   ]
  },
  {
   "cell_type": "code",
   "execution_count": 12,
   "id": "5086b734",
   "metadata": {
    "execution": {
     "iopub.execute_input": "2023-07-05T06:54:40.243433Z",
     "iopub.status.busy": "2023-07-05T06:54:40.242872Z",
     "iopub.status.idle": "2023-07-05T06:54:40.259652Z",
     "shell.execute_reply": "2023-07-05T06:54:40.258762Z"
    },
    "papermill": {
     "duration": 0.026604,
     "end_time": "2023-07-05T06:54:40.261670",
     "exception": false,
     "start_time": "2023-07-05T06:54:40.235066",
     "status": "completed"
    },
    "tags": []
   },
   "outputs": [
    {
     "data": {
      "text/html": [
       "<div>\n",
       "<style scoped>\n",
       "    .dataframe tbody tr th:only-of-type {\n",
       "        vertical-align: middle;\n",
       "    }\n",
       "\n",
       "    .dataframe tbody tr th {\n",
       "        vertical-align: top;\n",
       "    }\n",
       "\n",
       "    .dataframe thead th {\n",
       "        text-align: right;\n",
       "    }\n",
       "</style>\n",
       "<table border=\"1\" class=\"dataframe\">\n",
       "  <thead>\n",
       "    <tr style=\"text-align: right;\">\n",
       "      <th></th>\n",
       "      <th>League</th>\n",
       "      <th>Season</th>\n",
       "      <th>Home Team</th>\n",
       "      <th>Away Team</th>\n",
       "      <th>Home Goals</th>\n",
       "      <th>Away Goals</th>\n",
       "      <th>Home FH</th>\n",
       "      <th>Away FH</th>\n",
       "      <th>Home Win</th>\n",
       "      <th>Draw</th>\n",
       "      <th>Away Win</th>\n",
       "      <th>Over 2,5</th>\n",
       "      <th>Under 2,5</th>\n",
       "      <th>Code 1</th>\n",
       "      <th>Code 2</th>\n",
       "      <th>Total Goals</th>\n",
       "      <th>FH Goals</th>\n",
       "      <th>Winner</th>\n",
       "      <th>HT Winner</th>\n",
       "    </tr>\n",
       "  </thead>\n",
       "  <tbody>\n",
       "    <tr>\n",
       "      <th>0</th>\n",
       "      <td>Eng1</td>\n",
       "      <td>20</td>\n",
       "      <td>Liverpool</td>\n",
       "      <td>Norwich</td>\n",
       "      <td>4</td>\n",
       "      <td>1</td>\n",
       "      <td>4</td>\n",
       "      <td>0</td>\n",
       "      <td>1140.0</td>\n",
       "      <td>10430.0</td>\n",
       "      <td>19630.0</td>\n",
       "      <td>1340</td>\n",
       "      <td>3440</td>\n",
       "      <td>1002</td>\n",
       "      <td>1011</td>\n",
       "      <td>5</td>\n",
       "      <td>4</td>\n",
       "      <td>H</td>\n",
       "      <td>H</td>\n",
       "    </tr>\n",
       "    <tr>\n",
       "      <th>1</th>\n",
       "      <td>Eng1</td>\n",
       "      <td>20</td>\n",
       "      <td>Tottenham</td>\n",
       "      <td>Aston Villa</td>\n",
       "      <td>3</td>\n",
       "      <td>1</td>\n",
       "      <td>0</td>\n",
       "      <td>1</td>\n",
       "      <td>1390.0</td>\n",
       "      <td>5350.0</td>\n",
       "      <td>8420.0</td>\n",
       "      <td>1580</td>\n",
       "      <td>2520</td>\n",
       "      <td>1001</td>\n",
       "      <td>1003</td>\n",
       "      <td>4</td>\n",
       "      <td>1</td>\n",
       "      <td>H</td>\n",
       "      <td>A</td>\n",
       "    </tr>\n",
       "    <tr>\n",
       "      <th>2</th>\n",
       "      <td>Eng1</td>\n",
       "      <td>20</td>\n",
       "      <td>C Palace</td>\n",
       "      <td>Everton</td>\n",
       "      <td>0</td>\n",
       "      <td>0</td>\n",
       "      <td>0</td>\n",
       "      <td>0</td>\n",
       "      <td>3370.0</td>\n",
       "      <td>3450.0</td>\n",
       "      <td>2270.0</td>\n",
       "      <td>2220</td>\n",
       "      <td>1740</td>\n",
       "      <td>1012</td>\n",
       "      <td>1017</td>\n",
       "      <td>0</td>\n",
       "      <td>0</td>\n",
       "      <td>D</td>\n",
       "      <td>D</td>\n",
       "    </tr>\n",
       "    <tr>\n",
       "      <th>3</th>\n",
       "      <td>Eng1</td>\n",
       "      <td>20</td>\n",
       "      <td>West Ham</td>\n",
       "      <td>Man City</td>\n",
       "      <td>0</td>\n",
       "      <td>5</td>\n",
       "      <td>0</td>\n",
       "      <td>1</td>\n",
       "      <td>11110.0</td>\n",
       "      <td>6680.0</td>\n",
       "      <td>1270.0</td>\n",
       "      <td>1430</td>\n",
       "      <td>3030</td>\n",
       "      <td>1022</td>\n",
       "      <td>1009</td>\n",
       "      <td>5</td>\n",
       "      <td>1</td>\n",
       "      <td>A</td>\n",
       "      <td>A</td>\n",
       "    </tr>\n",
       "    <tr>\n",
       "      <th>4</th>\n",
       "      <td>Eng1</td>\n",
       "      <td>20</td>\n",
       "      <td>Watford</td>\n",
       "      <td>Brighton</td>\n",
       "      <td>0</td>\n",
       "      <td>3</td>\n",
       "      <td>0</td>\n",
       "      <td>1</td>\n",
       "      <td>2050.0</td>\n",
       "      <td>3380.0</td>\n",
       "      <td>4120.0</td>\n",
       "      <td>2160</td>\n",
       "      <td>1780</td>\n",
       "      <td>1025</td>\n",
       "      <td>1036</td>\n",
       "      <td>3</td>\n",
       "      <td>1</td>\n",
       "      <td>A</td>\n",
       "      <td>A</td>\n",
       "    </tr>\n",
       "  </tbody>\n",
       "</table>\n",
       "</div>"
      ],
      "text/plain": [
       "  League  Season  Home Team    Away Team  Home Goals  Away Goals  Home FH  \\\n",
       "0   Eng1      20  Liverpool      Norwich           4           1        4   \n",
       "1   Eng1      20  Tottenham  Aston Villa           3           1        0   \n",
       "2   Eng1      20   C Palace      Everton           0           0        0   \n",
       "3   Eng1      20   West Ham     Man City           0           5        0   \n",
       "4   Eng1      20    Watford     Brighton           0           3        0   \n",
       "\n",
       "   Away FH  Home Win     Draw  Away Win  Over 2,5  Under 2,5  Code 1  Code 2  \\\n",
       "0        0    1140.0  10430.0   19630.0      1340       3440    1002    1011   \n",
       "1        1    1390.0   5350.0    8420.0      1580       2520    1001    1003   \n",
       "2        0    3370.0   3450.0    2270.0      2220       1740    1012    1017   \n",
       "3        1   11110.0   6680.0    1270.0      1430       3030    1022    1009   \n",
       "4        1    2050.0   3380.0    4120.0      2160       1780    1025    1036   \n",
       "\n",
       "   Total Goals  FH Goals Winner HT Winner  \n",
       "0            5         4      H         H  \n",
       "1            4         1      H         A  \n",
       "2            0         0      D         D  \n",
       "3            5         1      A         A  \n",
       "4            3         1      A         A  "
      ]
     },
     "execution_count": 12,
     "metadata": {},
     "output_type": "execute_result"
    }
   ],
   "source": [
    "df.head()"
   ]
  },
  {
   "cell_type": "markdown",
   "id": "6be4c8a8",
   "metadata": {
    "papermill": {
     "duration": 0.006826,
     "end_time": "2023-07-05T06:54:40.275409",
     "exception": false,
     "start_time": "2023-07-05T06:54:40.268583",
     "status": "completed"
    },
    "tags": []
   },
   "source": [
    "# Creating new columns "
   ]
  },
  {
   "cell_type": "code",
   "execution_count": 13,
   "id": "673fb1b7",
   "metadata": {
    "execution": {
     "iopub.execute_input": "2023-07-05T06:54:40.291059Z",
     "iopub.status.busy": "2023-07-05T06:54:40.290345Z",
     "iopub.status.idle": "2023-07-05T06:54:40.295994Z",
     "shell.execute_reply": "2023-07-05T06:54:40.294946Z"
    },
    "papermill": {
     "duration": 0.01592,
     "end_time": "2023-07-05T06:54:40.298105",
     "exception": false,
     "start_time": "2023-07-05T06:54:40.282185",
     "status": "completed"
    },
    "tags": []
   },
   "outputs": [],
   "source": [
    "df['Winner Team'] = ''"
   ]
  },
  {
   "cell_type": "code",
   "execution_count": 14,
   "id": "67da4e25",
   "metadata": {
    "execution": {
     "iopub.execute_input": "2023-07-05T06:54:40.313304Z",
     "iopub.status.busy": "2023-07-05T06:54:40.312884Z",
     "iopub.status.idle": "2023-07-05T06:54:40.342678Z",
     "shell.execute_reply": "2023-07-05T06:54:40.341782Z"
    },
    "papermill": {
     "duration": 0.040099,
     "end_time": "2023-07-05T06:54:40.344997",
     "exception": false,
     "start_time": "2023-07-05T06:54:40.304898",
     "status": "completed"
    },
    "tags": []
   },
   "outputs": [],
   "source": [
    "df.loc[df['Winner'] == 'H', 'Winner Team'] = df['Home Team']\n",
    "df.loc[df['Winner'] == 'A', 'Winner Team'] = df['Away Team']\n",
    "df.loc[df['Winner'] == 'D', 'Winner Team'] = 'Draw'"
   ]
  },
  {
   "cell_type": "code",
   "execution_count": 15,
   "id": "dbd37736",
   "metadata": {
    "execution": {
     "iopub.execute_input": "2023-07-05T06:54:40.361131Z",
     "iopub.status.busy": "2023-07-05T06:54:40.360263Z",
     "iopub.status.idle": "2023-07-05T06:54:40.389587Z",
     "shell.execute_reply": "2023-07-05T06:54:40.388605Z"
    },
    "papermill": {
     "duration": 0.040168,
     "end_time": "2023-07-05T06:54:40.392078",
     "exception": false,
     "start_time": "2023-07-05T06:54:40.351910",
     "status": "completed"
    },
    "tags": []
   },
   "outputs": [],
   "source": [
    "df['Halftime Winner'] = ''\n",
    "df.loc[df['HT Winner'] == 'H', 'Halftime Winner'] = df['Home Team']\n",
    "df.loc[df['HT Winner'] == 'A', 'Halftime Winner'] = df['Away Team']\n",
    "df.loc[df['HT Winner'] == 'D', 'Halftime Winner'] = 'Draw'"
   ]
  },
  {
   "cell_type": "markdown",
   "id": "cfe2176c",
   "metadata": {
    "papermill": {
     "duration": 0.006589,
     "end_time": "2023-07-05T06:54:40.405695",
     "exception": false,
     "start_time": "2023-07-05T06:54:40.399106",
     "status": "completed"
    },
    "tags": []
   },
   "source": [
    "# Pie charts"
   ]
  },
  {
   "cell_type": "code",
   "execution_count": 16,
   "id": "29e8113d",
   "metadata": {
    "execution": {
     "iopub.execute_input": "2023-07-05T06:54:40.420948Z",
     "iopub.status.busy": "2023-07-05T06:54:40.420567Z",
     "iopub.status.idle": "2023-07-05T06:54:42.138260Z",
     "shell.execute_reply": "2023-07-05T06:54:42.137149Z"
    },
    "papermill": {
     "duration": 1.728312,
     "end_time": "2023-07-05T06:54:42.140762",
     "exception": false,
     "start_time": "2023-07-05T06:54:40.412450",
     "status": "completed"
    },
    "tags": []
   },
   "outputs": [
    {
     "data": {
      "text/plain": [
       "Text(0.5, 1.0, 'Winner of match is Home/Away team at HalfTime')"
      ]
     },
     "execution_count": 16,
     "metadata": {},
     "output_type": "execute_result"
    },
    {
     "data": {
      "image/png": "[encoded data removed]",
      "text/plain": [
       "<Figure size 1200x800 with 2 Axes>"
      ]
     },
     "metadata": {},
     "output_type": "display_data"
    }
   ],
   "source": [
    "import matplotlib.pyplot as plt\n",
    "import seaborn as sns\n",
    "plt.figure(figsize=(12,8))\n",
    "plt.subplot(1,2,1)\n",
    "df['Winner'].value_counts().plot.pie(autopct='%1.2f%%')\n",
    "plt.title('Winner of match is Home/Away team ')\n",
    "plt.subplot(1,2,2)\n",
    "df['HT Winner'].value_counts().plot.pie(autopct='%1.2f%%')\n",
    "plt.title('Winner of match is Home/Away team at HalfTime')"
   ]
  },
  {
   "cell_type": "code",
   "execution_count": 17,
   "id": "dce57f42",
   "metadata": {
    "execution": {
     "iopub.execute_input": "2023-07-05T06:54:42.157955Z",
     "iopub.status.busy": "2023-07-05T06:54:42.157596Z",
     "iopub.status.idle": "2023-07-05T06:54:42.612594Z",
     "shell.execute_reply": "2023-07-05T06:54:42.611804Z"
    },
    "papermill": {
     "duration": 0.466301,
     "end_time": "2023-07-05T06:54:42.614725",
     "exception": false,
     "start_time": "2023-07-05T06:54:42.148424",
     "status": "completed"
    },
    "tags": []
   },
   "outputs": [
    {
     "data": {
      "text/plain": [
       "Text(0.5, 1.0, 'Total Goals of Home/Away team at HalfTime')"
      ]
     },
     "execution_count": 17,
     "metadata": {},
     "output_type": "execute_result"
    },
    {
     "data": {
      "image/png": "[encoded data removed]",
      "text/plain": [
       "<Figure size 1200x800 with 2 Axes>"
      ]
     },
     "metadata": {},
     "output_type": "display_data"
    }
   ],
   "source": [
    "plt.figure(figsize=(12,8))\n",
    "plt.subplot(1,2,1)\n",
    "df['Total Goals'].value_counts().plot.pie(autopct='%1.2f%%')\n",
    "plt.title('Total Goals of Home/Away team ')\n",
    "plt.subplot(1,2,2)\n",
    "df['FH Goals'].value_counts().plot.pie(autopct='%1.2f%%')\n",
    "plt.title('Total Goals of Home/Away team at HalfTime')"
   ]
  }
 ],
 "metadata": {
  "kernelspec": {
   "display_name": "Python 3",
   "language": "python",
   "name": "python3"
  },
  "language_info": {
   "codemirror_mode": {
    "name": "ipython",
    "version": 3
   },
   "file_extension": ".py",
   "mimetype": "text/x-python",
   "name": "python",
   "nbconvert_exporter": "python",
   "pygments_lexer": "ipython3",
   "version": "3.10.10"
  },
  "papermill": {
   "default_parameters": {},
   "duration": 32.390796,
   "end_time": "2023-07-05T06:54:43.645878",
   "environment_variables": {},
   "exception": null,
   "input_path": "__notebook__.ipynb",
   "output_path": "__notebook__.ipynb",
   "parameters": {},
   "start_time": "2023-07-05T06:54:11.255082",
   "version": "2.4.0"
  }
 },
 "nbformat": 4,
 "nbformat_minor": 5
}
