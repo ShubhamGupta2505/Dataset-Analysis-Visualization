{
 "cells": [
  {
   "cell_type": "code",
   "execution_count": 1,
   "id": "5feea940",
   "metadata": {
    "_cell_guid": "b1076dfc-b9ad-4769-8c92-a6c4dae69d19",
    "_uuid": "8f2839f25d086af736a60e9eeb907d3b93b6e0e5",
    "execution": {
     "iopub.execute_input": "2023-07-24T11:43:35.237293Z",
     "iopub.status.busy": "2023-07-24T11:43:35.236897Z",
     "iopub.status.idle": "2023-07-24T11:43:35.250975Z",
     "shell.execute_reply": "2023-07-24T11:43:35.250321Z"
    },
    "papermill": {
     "duration": 0.022801,
     "end_time": "2023-07-24T11:43:35.253047",
     "exception": false,
     "start_time": "2023-07-24T11:43:35.230246",
     "status": "completed"
    },
    "tags": []
   },
   "outputs": [
    {
     "name": "stdout",
     "output_type": "stream",
     "text": [
      "/kaggle/input/online-retail-store/Online Retail.xlsx\n"
     ]
    }
   ],
   "source": [
    "# This Python 3 environment comes with many helpful analytics libraries installed\n",
    "# It is defined by the kaggle/python Docker image: https://github.com/kaggle/docker-python\n",
    "# For example, here's several helpful packages to load\n",
    "\n",
    "import numpy as np # linear algebra\n",
    "import pandas as pd # data processing, CSV file I/O (e.g. pd.read_csv)\n",
    "\n",
    "# Input data files are available in the read-only \"../input/\" directory\n",
    "# For example, running this (by clicking run or pressing Shift+Enter) will list all files under the input directory\n",
    "\n",
    "import os\n",
    "for dirname, _, filenames in os.walk('/kaggle/input'):\n",
    "    for filename in filenames:\n",
    "        print(os.path.join(dirname, filename))\n",
    "\n",
    "# You can write up to 20GB to the current directory (/kaggle/working/) that gets preserved as output when you create a version using \"Save & Run All\" \n",
    "# You can also write temporary files to /kaggle/temp/, but they won't be saved outside of the current session"
   ]
  },
  {
   "cell_type": "code",
   "execution_count": 2,
   "id": "6dd4b771",
   "metadata": {
    "execution": {
     "iopub.execute_input": "2023-07-24T11:43:35.265397Z",
     "iopub.status.busy": "2023-07-24T11:43:35.264740Z",
     "iopub.status.idle": "2023-07-24T11:44:39.392277Z",
     "shell.execute_reply": "2023-07-24T11:44:39.390454Z"
    },
    "papermill": {
     "duration": 64.138896,
     "end_time": "2023-07-24T11:44:39.397245",
     "exception": false,
     "start_time": "2023-07-24T11:43:35.258349",
     "status": "completed"
    },
    "tags": []
   },
   "outputs": [
    {
     "data": {
      "text/html": [
       "<div>\n",
       "<style scoped>\n",
       "    .dataframe tbody tr th:only-of-type {\n",
       "        vertical-align: middle;\n",
       "    }\n",
       "\n",
       "    .dataframe tbody tr th {\n",
       "        vertical-align: top;\n",
       "    }\n",
       "\n",
       "    .dataframe thead th {\n",
       "        text-align: right;\n",
       "    }\n",
       "</style>\n",
       "<table border=\"1\" class=\"dataframe\">\n",
       "  <thead>\n",
       "    <tr style=\"text-align: right;\">\n",
       "      <th></th>\n",
       "      <th>InvoiceNo</th>\n",
       "      <th>StockCode</th>\n",
       "      <th>Description</th>\n",
       "      <th>Quantity</th>\n",
       "      <th>InvoiceDate</th>\n",
       "      <th>UnitPrice</th>\n",
       "      <th>CustomerID</th>\n",
       "      <th>Country</th>\n",
       "    </tr>\n",
       "  </thead>\n",
       "  <tbody>\n",
       "    <tr>\n",
       "      <th>0</th>\n",
       "      <td>536365</td>\n",
       "      <td>85123A</td>\n",
       "      <td>WHITE HANGING HEART T-LIGHT HOLDER</td>\n",
       "      <td>6</td>\n",
       "      <td>2010-12-01 08:26:00</td>\n",
       "      <td>2.55</td>\n",
       "      <td>17850.0</td>\n",
       "      <td>United Kingdom</td>\n",
       "    </tr>\n",
       "    <tr>\n",
       "      <th>1</th>\n",
       "      <td>536365</td>\n",
       "      <td>71053</td>\n",
       "      <td>WHITE METAL LANTERN</td>\n",
       "      <td>6</td>\n",
       "      <td>2010-12-01 08:26:00</td>\n",
       "      <td>3.39</td>\n",
       "      <td>17850.0</td>\n",
       "      <td>United Kingdom</td>\n",
       "    </tr>\n",
       "    <tr>\n",
       "      <th>2</th>\n",
       "      <td>536365</td>\n",
       "      <td>84406B</td>\n",
       "      <td>CREAM CUPID HEARTS COAT HANGER</td>\n",
       "      <td>8</td>\n",
       "      <td>2010-12-01 08:26:00</td>\n",
       "      <td>2.75</td>\n",
       "      <td>17850.0</td>\n",
       "      <td>United Kingdom</td>\n",
       "    </tr>\n",
       "    <tr>\n",
       "      <th>3</th>\n",
       "      <td>536365</td>\n",
       "      <td>84029G</td>\n",
       "      <td>KNITTED UNION FLAG HOT WATER BOTTLE</td>\n",
       "      <td>6</td>\n",
       "      <td>2010-12-01 08:26:00</td>\n",
       "      <td>3.39</td>\n",
       "      <td>17850.0</td>\n",
       "      <td>United Kingdom</td>\n",
       "    </tr>\n",
       "    <tr>\n",
       "      <th>4</th>\n",
       "      <td>536365</td>\n",
       "      <td>84029E</td>\n",
       "      <td>RED WOOLLY HOTTIE WHITE HEART.</td>\n",
       "      <td>6</td>\n",
       "      <td>2010-12-01 08:26:00</td>\n",
       "      <td>3.39</td>\n",
       "      <td>17850.0</td>\n",
       "      <td>United Kingdom</td>\n",
       "    </tr>\n",
       "  </tbody>\n",
       "</table>\n",
       "</div>"
      ],
      "text/plain": [
       "  InvoiceNo StockCode                          Description  Quantity  \\\n",
       "0    536365    85123A   WHITE HANGING HEART T-LIGHT HOLDER         6   \n",
       "1    536365     71053                  WHITE METAL LANTERN         6   \n",
       "2    536365    84406B       CREAM CUPID HEARTS COAT HANGER         8   \n",
       "3    536365    84029G  KNITTED UNION FLAG HOT WATER BOTTLE         6   \n",
       "4    536365    84029E       RED WOOLLY HOTTIE WHITE HEART.         6   \n",
       "\n",
       "          InvoiceDate  UnitPrice  CustomerID         Country  \n",
       "0 2010-12-01 08:26:00       2.55     17850.0  United Kingdom  \n",
       "1 2010-12-01 08:26:00       3.39     17850.0  United Kingdom  \n",
       "2 2010-12-01 08:26:00       2.75     17850.0  United Kingdom  \n",
       "3 2010-12-01 08:26:00       3.39     17850.0  United Kingdom  \n",
       "4 2010-12-01 08:26:00       3.39     17850.0  United Kingdom  "
      ]
     },
     "execution_count": 2,
     "metadata": {},
     "output_type": "execute_result"
    }
   ],
   "source": [
    "df = pd.read_excel('/kaggle/input/online-retail-store/Online Retail.xlsx')\n",
    "df.head()"
   ]
  },
  {
   "cell_type": "code",
   "execution_count": 3,
   "id": "cab7d323",
   "metadata": {
    "execution": {
     "iopub.execute_input": "2023-07-24T11:44:39.408730Z",
     "iopub.status.busy": "2023-07-24T11:44:39.408079Z",
     "iopub.status.idle": "2023-07-24T11:44:39.417903Z",
     "shell.execute_reply": "2023-07-24T11:44:39.416321Z"
    },
    "papermill": {
     "duration": 0.018469,
     "end_time": "2023-07-24T11:44:39.420480",
     "exception": false,
     "start_time": "2023-07-24T11:44:39.402011",
     "status": "completed"
    },
    "tags": []
   },
   "outputs": [
    {
     "data": {
      "text/plain": [
       "(541909, 8)"
      ]
     },
     "execution_count": 3,
     "metadata": {},
     "output_type": "execute_result"
    }
   ],
   "source": [
    "df.shape"
   ]
  },
  {
   "cell_type": "code",
   "execution_count": 4,
   "id": "eecbbd8b",
   "metadata": {
    "execution": {
     "iopub.execute_input": "2023-07-24T11:44:39.433304Z",
     "iopub.status.busy": "2023-07-24T11:44:39.432896Z",
     "iopub.status.idle": "2023-07-24T11:44:39.721224Z",
     "shell.execute_reply": "2023-07-24T11:44:39.719753Z"
    },
    "papermill": {
     "duration": 0.297936,
     "end_time": "2023-07-24T11:44:39.724135",
     "exception": false,
     "start_time": "2023-07-24T11:44:39.426199",
     "status": "completed"
    },
    "tags": []
   },
   "outputs": [
    {
     "data": {
      "text/plain": [
       "InvoiceNo           0\n",
       "StockCode           0\n",
       "Description      1454\n",
       "Quantity            0\n",
       "InvoiceDate         0\n",
       "UnitPrice           0\n",
       "CustomerID     135080\n",
       "Country             0\n",
       "dtype: int64"
      ]
     },
     "execution_count": 4,
     "metadata": {},
     "output_type": "execute_result"
    }
   ],
   "source": [
    "df.isnull().sum()"
   ]
  },
  {
   "cell_type": "code",
   "execution_count": 5,
   "id": "0f67ac91",
   "metadata": {
    "execution": {
     "iopub.execute_input": "2023-07-24T11:44:39.737201Z",
     "iopub.status.busy": "2023-07-24T11:44:39.736826Z",
     "iopub.status.idle": "2023-07-24T11:44:39.745659Z",
     "shell.execute_reply": "2023-07-24T11:44:39.744167Z"
    },
    "papermill": {
     "duration": 0.017973,
     "end_time": "2023-07-24T11:44:39.747870",
     "exception": false,
     "start_time": "2023-07-24T11:44:39.729897",
     "status": "completed"
    },
    "tags": []
   },
   "outputs": [
    {
     "data": {
      "text/plain": [
       "InvoiceNo              object\n",
       "StockCode              object\n",
       "Description            object\n",
       "Quantity                int64\n",
       "InvoiceDate    datetime64[ns]\n",
       "UnitPrice             float64\n",
       "CustomerID            float64\n",
       "Country                object\n",
       "dtype: object"
      ]
     },
     "execution_count": 5,
     "metadata": {},
     "output_type": "execute_result"
    }
   ],
   "source": [
    "df.dtypes"
   ]
  },
  {
   "cell_type": "code",
   "execution_count": 6,
   "id": "8011033b",
   "metadata": {
    "execution": {
     "iopub.execute_input": "2023-07-24T11:44:39.761311Z",
     "iopub.status.busy": "2023-07-24T11:44:39.760937Z",
     "iopub.status.idle": "2023-07-24T11:44:39.827680Z",
     "shell.execute_reply": "2023-07-24T11:44:39.826569Z"
    },
    "papermill": {
     "duration": 0.076087,
     "end_time": "2023-07-24T11:44:39.829873",
     "exception": false,
     "start_time": "2023-07-24T11:44:39.753786",
     "status": "completed"
    },
    "tags": []
   },
   "outputs": [
    {
     "data": {
      "text/html": [
       "<div>\n",
       "<style scoped>\n",
       "    .dataframe tbody tr th:only-of-type {\n",
       "        vertical-align: middle;\n",
       "    }\n",
       "\n",
       "    .dataframe tbody tr th {\n",
       "        vertical-align: top;\n",
       "    }\n",
       "\n",
       "    .dataframe thead th {\n",
       "        text-align: right;\n",
       "    }\n",
       "</style>\n",
       "<table border=\"1\" class=\"dataframe\">\n",
       "  <thead>\n",
       "    <tr style=\"text-align: right;\">\n",
       "      <th></th>\n",
       "      <th>Quantity</th>\n",
       "      <th>UnitPrice</th>\n",
       "      <th>CustomerID</th>\n",
       "    </tr>\n",
       "  </thead>\n",
       "  <tbody>\n",
       "    <tr>\n",
       "      <th>count</th>\n",
       "      <td>541909.000000</td>\n",
       "      <td>541909.000000</td>\n",
       "      <td>406829.000000</td>\n",
       "    </tr>\n",
       "    <tr>\n",
       "      <th>mean</th>\n",
       "      <td>9.552250</td>\n",
       "      <td>4.611114</td>\n",
       "      <td>15287.690570</td>\n",
       "    </tr>\n",
       "    <tr>\n",
       "      <th>std</th>\n",
       "      <td>218.081158</td>\n",
       "      <td>96.759853</td>\n",
       "      <td>1713.600303</td>\n",
       "    </tr>\n",
       "    <tr>\n",
       "      <th>min</th>\n",
       "      <td>-80995.000000</td>\n",
       "      <td>-11062.060000</td>\n",
       "      <td>12346.000000</td>\n",
       "    </tr>\n",
       "    <tr>\n",
       "      <th>25%</th>\n",
       "      <td>1.000000</td>\n",
       "      <td>1.250000</td>\n",
       "      <td>13953.000000</td>\n",
       "    </tr>\n",
       "    <tr>\n",
       "      <th>50%</th>\n",
       "      <td>3.000000</td>\n",
       "      <td>2.080000</td>\n",
       "      <td>15152.000000</td>\n",
       "    </tr>\n",
       "    <tr>\n",
       "      <th>75%</th>\n",
       "      <td>10.000000</td>\n",
       "      <td>4.130000</td>\n",
       "      <td>16791.000000</td>\n",
       "    </tr>\n",
       "    <tr>\n",
       "      <th>max</th>\n",
       "      <td>80995.000000</td>\n",
       "      <td>38970.000000</td>\n",
       "      <td>18287.000000</td>\n",
       "    </tr>\n",
       "  </tbody>\n",
       "</table>\n",
       "</div>"
      ],
      "text/plain": [
       "            Quantity      UnitPrice     CustomerID\n",
       "count  541909.000000  541909.000000  406829.000000\n",
       "mean        9.552250       4.611114   15287.690570\n",
       "std       218.081158      96.759853    1713.600303\n",
       "min    -80995.000000  -11062.060000   12346.000000\n",
       "25%         1.000000       1.250000   13953.000000\n",
       "50%         3.000000       2.080000   15152.000000\n",
       "75%        10.000000       4.130000   16791.000000\n",
       "max     80995.000000   38970.000000   18287.000000"
      ]
     },
     "execution_count": 6,
     "metadata": {},
     "output_type": "execute_result"
    }
   ],
   "source": [
    "df.describe()"
   ]
  },
  {
   "cell_type": "code",
   "execution_count": null,
   "id": "9f6bc602",
   "metadata": {
    "papermill": {
     "duration": 0.005188,
     "end_time": "2023-07-24T11:44:39.842346",
     "exception": false,
     "start_time": "2023-07-24T11:44:39.837158",
     "status": "completed"
    },
    "tags": []
   },
   "outputs": [],
   "source": []
  },
  {
   "cell_type": "code",
   "execution_count": 7,
   "id": "4228bd78",
   "metadata": {
    "execution": {
     "iopub.execute_input": "2023-07-24T11:44:39.854599Z",
     "iopub.status.busy": "2023-07-24T11:44:39.854209Z",
     "iopub.status.idle": "2023-07-24T11:44:39.885887Z",
     "shell.execute_reply": "2023-07-24T11:44:39.884145Z"
    },
    "papermill": {
     "duration": 0.040712,
     "end_time": "2023-07-24T11:44:39.888304",
     "exception": false,
     "start_time": "2023-07-24T11:44:39.847592",
     "status": "completed"
    },
    "tags": []
   },
   "outputs": [
    {
     "data": {
      "text/plain": [
       "United Kingdom          495478\n",
       "Germany                   9495\n",
       "France                    8557\n",
       "EIRE                      8196\n",
       "Spain                     2533\n",
       "Netherlands               2371\n",
       "Belgium                   2069\n",
       "Switzerland               2002\n",
       "Portugal                  1519\n",
       "Australia                 1259\n",
       "Norway                    1086\n",
       "Italy                      803\n",
       "Channel Islands            758\n",
       "Finland                    695\n",
       "Cyprus                     622\n",
       "Sweden                     462\n",
       "Unspecified                446\n",
       "Austria                    401\n",
       "Denmark                    389\n",
       "Japan                      358\n",
       "Poland                     341\n",
       "Israel                     297\n",
       "USA                        291\n",
       "Hong Kong                  288\n",
       "Singapore                  229\n",
       "Iceland                    182\n",
       "Canada                     151\n",
       "Greece                     146\n",
       "Malta                      127\n",
       "United Arab Emirates        68\n",
       "European Community          61\n",
       "RSA                         58\n",
       "Lebanon                     45\n",
       "Lithuania                   35\n",
       "Brazil                      32\n",
       "Czech Republic              30\n",
       "Bahrain                     19\n",
       "Saudi Arabia                10\n",
       "Name: Country, dtype: int64"
      ]
     },
     "execution_count": 7,
     "metadata": {},
     "output_type": "execute_result"
    }
   ],
   "source": [
    "df['Country'].value_counts()"
   ]
  },
  {
   "cell_type": "code",
   "execution_count": 8,
   "id": "0937ae78",
   "metadata": {
    "execution": {
     "iopub.execute_input": "2023-07-24T11:44:39.901608Z",
     "iopub.status.busy": "2023-07-24T11:44:39.901245Z",
     "iopub.status.idle": "2023-07-24T11:44:39.915761Z",
     "shell.execute_reply": "2023-07-24T11:44:39.914228Z"
    },
    "papermill": {
     "duration": 0.024273,
     "end_time": "2023-07-24T11:44:39.918463",
     "exception": false,
     "start_time": "2023-07-24T11:44:39.894190",
     "status": "completed"
    },
    "tags": []
   },
   "outputs": [
    {
     "data": {
      "text/plain": [
       " 1        148227\n",
       " 2         81829\n",
       " 12        61063\n",
       " 6         40868\n",
       " 4         38484\n",
       "           ...  \n",
       "-472           1\n",
       "-161           1\n",
       "-1206          1\n",
       "-272           1\n",
       "-80995         1\n",
       "Name: Quantity, Length: 722, dtype: int64"
      ]
     },
     "execution_count": 8,
     "metadata": {},
     "output_type": "execute_result"
    }
   ],
   "source": [
    "df['Quantity'].value_counts()"
   ]
  },
  {
   "cell_type": "code",
   "execution_count": 9,
   "id": "685835d7",
   "metadata": {
    "execution": {
     "iopub.execute_input": "2023-07-24T11:44:39.933059Z",
     "iopub.status.busy": "2023-07-24T11:44:39.932276Z",
     "iopub.status.idle": "2023-07-24T11:44:39.949863Z",
     "shell.execute_reply": "2023-07-24T11:44:39.948630Z"
    },
    "papermill": {
     "duration": 0.027779,
     "end_time": "2023-07-24T11:44:39.952411",
     "exception": false,
     "start_time": "2023-07-24T11:44:39.924632",
     "status": "completed"
    },
    "tags": []
   },
   "outputs": [
    {
     "data": {
      "text/plain": [
       "17841.0    7983\n",
       "14911.0    5903\n",
       "14096.0    5128\n",
       "12748.0    4642\n",
       "14606.0    2782\n",
       "           ... \n",
       "15070.0       1\n",
       "15753.0       1\n",
       "17065.0       1\n",
       "16881.0       1\n",
       "16995.0       1\n",
       "Name: CustomerID, Length: 4372, dtype: int64"
      ]
     },
     "execution_count": 9,
     "metadata": {},
     "output_type": "execute_result"
    }
   ],
   "source": [
    "df['CustomerID'].value_counts()"
   ]
  },
  {
   "cell_type": "code",
   "execution_count": 10,
   "id": "f9526f1b",
   "metadata": {
    "execution": {
     "iopub.execute_input": "2023-07-24T11:44:39.966112Z",
     "iopub.status.busy": "2023-07-24T11:44:39.965739Z",
     "iopub.status.idle": "2023-07-24T11:44:39.983518Z",
     "shell.execute_reply": "2023-07-24T11:44:39.982027Z"
    },
    "papermill": {
     "duration": 0.027283,
     "end_time": "2023-07-24T11:44:39.985892",
     "exception": false,
     "start_time": "2023-07-24T11:44:39.958609",
     "status": "completed"
    },
    "tags": []
   },
   "outputs": [
    {
     "data": {
      "text/plain": [
       "1.25      50496\n",
       "1.65      38181\n",
       "0.85      28497\n",
       "2.95      27768\n",
       "0.42      24533\n",
       "          ...  \n",
       "84.21         1\n",
       "46.86         1\n",
       "28.66         1\n",
       "156.45        1\n",
       "224.69        1\n",
       "Name: UnitPrice, Length: 1630, dtype: int64"
      ]
     },
     "execution_count": 10,
     "metadata": {},
     "output_type": "execute_result"
    }
   ],
   "source": [
    "df['UnitPrice'].value_counts()"
   ]
  },
  {
   "cell_type": "code",
   "execution_count": 11,
   "id": "e7c399cf",
   "metadata": {
    "execution": {
     "iopub.execute_input": "2023-07-24T11:44:39.999982Z",
     "iopub.status.busy": "2023-07-24T11:44:39.999632Z",
     "iopub.status.idle": "2023-07-24T11:44:40.018406Z",
     "shell.execute_reply": "2023-07-24T11:44:40.017578Z"
    },
    "papermill": {
     "duration": 0.028591,
     "end_time": "2023-07-24T11:44:40.020776",
     "exception": false,
     "start_time": "2023-07-24T11:44:39.992185",
     "status": "completed"
    },
    "tags": []
   },
   "outputs": [
    {
     "data": {
      "text/plain": [
       "2011-10-31 14:41:00    1114\n",
       "2011-12-08 09:28:00     749\n",
       "2011-12-09 10:03:00     731\n",
       "2011-12-05 17:24:00     721\n",
       "2011-06-29 15:58:00     705\n",
       "                       ... \n",
       "2011-09-28 09:57:00       1\n",
       "2011-09-28 09:45:00       1\n",
       "2011-03-16 12:13:00       1\n",
       "2011-03-16 12:22:00       1\n",
       "2011-03-16 15:58:00       1\n",
       "Name: InvoiceDate, Length: 23260, dtype: int64"
      ]
     },
     "execution_count": 11,
     "metadata": {},
     "output_type": "execute_result"
    }
   ],
   "source": [
    "df['InvoiceDate'].value_counts()"
   ]
  },
  {
   "cell_type": "code",
   "execution_count": 12,
   "id": "7eb5a086",
   "metadata": {
    "execution": {
     "iopub.execute_input": "2023-07-24T11:44:40.035083Z",
     "iopub.status.busy": "2023-07-24T11:44:40.034774Z",
     "iopub.status.idle": "2023-07-24T11:44:40.067314Z",
     "shell.execute_reply": "2023-07-24T11:44:40.065842Z"
    },
    "papermill": {
     "duration": 0.042394,
     "end_time": "2023-07-24T11:44:40.069538",
     "exception": false,
     "start_time": "2023-07-24T11:44:40.027144",
     "status": "completed"
    },
    "tags": []
   },
   "outputs": [
    {
     "data": {
      "text/plain": [
       "85123A    2313\n",
       "22423     2203\n",
       "85099B    2159\n",
       "47566     1727\n",
       "20725     1639\n",
       "          ... \n",
       "21431        1\n",
       "22275        1\n",
       "17001        1\n",
       "90187A       1\n",
       "72759        1\n",
       "Name: StockCode, Length: 4070, dtype: int64"
      ]
     },
     "execution_count": 12,
     "metadata": {},
     "output_type": "execute_result"
    }
   ],
   "source": [
    "df['StockCode'].value_counts()"
   ]
  },
  {
   "cell_type": "code",
   "execution_count": 13,
   "id": "db1b302a",
   "metadata": {
    "execution": {
     "iopub.execute_input": "2023-07-24T11:44:40.084650Z",
     "iopub.status.busy": "2023-07-24T11:44:40.084219Z",
     "iopub.status.idle": "2023-07-24T11:44:40.128103Z",
     "shell.execute_reply": "2023-07-24T11:44:40.126726Z"
    },
    "papermill": {
     "duration": 0.054266,
     "end_time": "2023-07-24T11:44:40.130308",
     "exception": false,
     "start_time": "2023-07-24T11:44:40.076042",
     "status": "completed"
    },
    "tags": []
   },
   "outputs": [
    {
     "data": {
      "text/plain": [
       "573585     1114\n",
       "581219      749\n",
       "581492      731\n",
       "580729      721\n",
       "558475      705\n",
       "           ... \n",
       "554023        1\n",
       "554022        1\n",
       "554021        1\n",
       "554020        1\n",
       "C558901       1\n",
       "Name: InvoiceNo, Length: 25900, dtype: int64"
      ]
     },
     "execution_count": 13,
     "metadata": {},
     "output_type": "execute_result"
    }
   ],
   "source": [
    "df['InvoiceNo'].value_counts()"
   ]
  },
  {
   "cell_type": "code",
   "execution_count": 14,
   "id": "e13561f6",
   "metadata": {
    "execution": {
     "iopub.execute_input": "2023-07-24T11:44:40.146129Z",
     "iopub.status.busy": "2023-07-24T11:44:40.145555Z",
     "iopub.status.idle": "2023-07-24T11:44:40.152529Z",
     "shell.execute_reply": "2023-07-24T11:44:40.151552Z"
    },
    "papermill": {
     "duration": 0.017886,
     "end_time": "2023-07-24T11:44:40.154702",
     "exception": false,
     "start_time": "2023-07-24T11:44:40.136816",
     "status": "completed"
    },
    "tags": []
   },
   "outputs": [],
   "source": [
    "df['TotalPrice'] = df['Quantity']*df['UnitPrice']"
   ]
  },
  {
   "cell_type": "code",
   "execution_count": 15,
   "id": "c2817b23",
   "metadata": {
    "execution": {
     "iopub.execute_input": "2023-07-24T11:44:40.169223Z",
     "iopub.status.busy": "2023-07-24T11:44:40.168835Z",
     "iopub.status.idle": "2023-07-24T11:44:40.182758Z",
     "shell.execute_reply": "2023-07-24T11:44:40.181183Z"
    },
    "papermill": {
     "duration": 0.024647,
     "end_time": "2023-07-24T11:44:40.185845",
     "exception": false,
     "start_time": "2023-07-24T11:44:40.161198",
     "status": "completed"
    },
    "tags": []
   },
   "outputs": [
    {
     "data": {
      "text/html": [
       "<div>\n",
       "<style scoped>\n",
       "    .dataframe tbody tr th:only-of-type {\n",
       "        vertical-align: middle;\n",
       "    }\n",
       "\n",
       "    .dataframe tbody tr th {\n",
       "        vertical-align: top;\n",
       "    }\n",
       "\n",
       "    .dataframe thead th {\n",
       "        text-align: right;\n",
       "    }\n",
       "</style>\n",
       "<table border=\"1\" class=\"dataframe\">\n",
       "  <thead>\n",
       "    <tr style=\"text-align: right;\">\n",
       "      <th></th>\n",
       "      <th>InvoiceNo</th>\n",
       "      <th>StockCode</th>\n",
       "      <th>Description</th>\n",
       "      <th>Quantity</th>\n",
       "      <th>InvoiceDate</th>\n",
       "      <th>UnitPrice</th>\n",
       "      <th>CustomerID</th>\n",
       "      <th>Country</th>\n",
       "      <th>TotalPrice</th>\n",
       "    </tr>\n",
       "  </thead>\n",
       "  <tbody>\n",
       "    <tr>\n",
       "      <th>0</th>\n",
       "      <td>536365</td>\n",
       "      <td>85123A</td>\n",
       "      <td>WHITE HANGING HEART T-LIGHT HOLDER</td>\n",
       "      <td>6</td>\n",
       "      <td>2010-12-01 08:26:00</td>\n",
       "      <td>2.55</td>\n",
       "      <td>17850.0</td>\n",
       "      <td>United Kingdom</td>\n",
       "      <td>15.30</td>\n",
       "    </tr>\n",
       "    <tr>\n",
       "      <th>1</th>\n",
       "      <td>536365</td>\n",
       "      <td>71053</td>\n",
       "      <td>WHITE METAL LANTERN</td>\n",
       "      <td>6</td>\n",
       "      <td>2010-12-01 08:26:00</td>\n",
       "      <td>3.39</td>\n",
       "      <td>17850.0</td>\n",
       "      <td>United Kingdom</td>\n",
       "      <td>20.34</td>\n",
       "    </tr>\n",
       "    <tr>\n",
       "      <th>2</th>\n",
       "      <td>536365</td>\n",
       "      <td>84406B</td>\n",
       "      <td>CREAM CUPID HEARTS COAT HANGER</td>\n",
       "      <td>8</td>\n",
       "      <td>2010-12-01 08:26:00</td>\n",
       "      <td>2.75</td>\n",
       "      <td>17850.0</td>\n",
       "      <td>United Kingdom</td>\n",
       "      <td>22.00</td>\n",
       "    </tr>\n",
       "    <tr>\n",
       "      <th>3</th>\n",
       "      <td>536365</td>\n",
       "      <td>84029G</td>\n",
       "      <td>KNITTED UNION FLAG HOT WATER BOTTLE</td>\n",
       "      <td>6</td>\n",
       "      <td>2010-12-01 08:26:00</td>\n",
       "      <td>3.39</td>\n",
       "      <td>17850.0</td>\n",
       "      <td>United Kingdom</td>\n",
       "      <td>20.34</td>\n",
       "    </tr>\n",
       "    <tr>\n",
       "      <th>4</th>\n",
       "      <td>536365</td>\n",
       "      <td>84029E</td>\n",
       "      <td>RED WOOLLY HOTTIE WHITE HEART.</td>\n",
       "      <td>6</td>\n",
       "      <td>2010-12-01 08:26:00</td>\n",
       "      <td>3.39</td>\n",
       "      <td>17850.0</td>\n",
       "      <td>United Kingdom</td>\n",
       "      <td>20.34</td>\n",
       "    </tr>\n",
       "  </tbody>\n",
       "</table>\n",
       "</div>"
      ],
      "text/plain": [
       "  InvoiceNo StockCode                          Description  Quantity  \\\n",
       "0    536365    85123A   WHITE HANGING HEART T-LIGHT HOLDER         6   \n",
       "1    536365     71053                  WHITE METAL LANTERN         6   \n",
       "2    536365    84406B       CREAM CUPID HEARTS COAT HANGER         8   \n",
       "3    536365    84029G  KNITTED UNION FLAG HOT WATER BOTTLE         6   \n",
       "4    536365    84029E       RED WOOLLY HOTTIE WHITE HEART.         6   \n",
       "\n",
       "          InvoiceDate  UnitPrice  CustomerID         Country  TotalPrice  \n",
       "0 2010-12-01 08:26:00       2.55     17850.0  United Kingdom       15.30  \n",
       "1 2010-12-01 08:26:00       3.39     17850.0  United Kingdom       20.34  \n",
       "2 2010-12-01 08:26:00       2.75     17850.0  United Kingdom       22.00  \n",
       "3 2010-12-01 08:26:00       3.39     17850.0  United Kingdom       20.34  \n",
       "4 2010-12-01 08:26:00       3.39     17850.0  United Kingdom       20.34  "
      ]
     },
     "execution_count": 15,
     "metadata": {},
     "output_type": "execute_result"
    }
   ],
   "source": [
    "df.head()"
   ]
  },
  {
   "cell_type": "code",
   "execution_count": null,
   "id": "1480fb39",
   "metadata": {
    "papermill": {
     "duration": 0.006207,
     "end_time": "2023-07-24T11:44:40.198784",
     "exception": false,
     "start_time": "2023-07-24T11:44:40.192577",
     "status": "completed"
    },
    "tags": []
   },
   "outputs": [],
   "source": []
  },
  {
   "cell_type": "code",
   "execution_count": 16,
   "id": "045e06d4",
   "metadata": {
    "execution": {
     "iopub.execute_input": "2023-07-24T11:44:40.213935Z",
     "iopub.status.busy": "2023-07-24T11:44:40.213133Z",
     "iopub.status.idle": "2023-07-24T11:44:40.270247Z",
     "shell.execute_reply": "2023-07-24T11:44:40.269313Z"
    },
    "papermill": {
     "duration": 0.067104,
     "end_time": "2023-07-24T11:44:40.272446",
     "exception": false,
     "start_time": "2023-07-24T11:44:40.205342",
     "status": "completed"
    },
    "tags": []
   },
   "outputs": [
    {
     "data": {
      "text/html": [
       "<div>\n",
       "<style scoped>\n",
       "    .dataframe tbody tr th:only-of-type {\n",
       "        vertical-align: middle;\n",
       "    }\n",
       "\n",
       "    .dataframe tbody tr th {\n",
       "        vertical-align: top;\n",
       "    }\n",
       "\n",
       "    .dataframe thead th {\n",
       "        text-align: right;\n",
       "    }\n",
       "</style>\n",
       "<table border=\"1\" class=\"dataframe\">\n",
       "  <thead>\n",
       "    <tr style=\"text-align: right;\">\n",
       "      <th></th>\n",
       "      <th>InvoiceNo</th>\n",
       "      <th>StockCode</th>\n",
       "      <th>Description</th>\n",
       "      <th>Quantity</th>\n",
       "      <th>InvoiceDate</th>\n",
       "      <th>UnitPrice</th>\n",
       "      <th>CustomerID</th>\n",
       "      <th>Country</th>\n",
       "      <th>TotalPrice</th>\n",
       "    </tr>\n",
       "  </thead>\n",
       "  <tbody>\n",
       "    <tr>\n",
       "      <th>430237</th>\n",
       "      <td>573585</td>\n",
       "      <td>11001</td>\n",
       "      <td>ASSTD DESIGN RACING CAR PEN</td>\n",
       "      <td>2</td>\n",
       "      <td>2011-10-31 14:41:00</td>\n",
       "      <td>3.29</td>\n",
       "      <td>NaN</td>\n",
       "      <td>United Kingdom</td>\n",
       "      <td>6.58</td>\n",
       "    </tr>\n",
       "    <tr>\n",
       "      <th>430238</th>\n",
       "      <td>573585</td>\n",
       "      <td>15036</td>\n",
       "      <td>ASSORTED COLOURS SILK FAN</td>\n",
       "      <td>15</td>\n",
       "      <td>2011-10-31 14:41:00</td>\n",
       "      <td>1.63</td>\n",
       "      <td>NaN</td>\n",
       "      <td>United Kingdom</td>\n",
       "      <td>24.45</td>\n",
       "    </tr>\n",
       "    <tr>\n",
       "      <th>430239</th>\n",
       "      <td>573585</td>\n",
       "      <td>15039</td>\n",
       "      <td>SANDALWOOD FAN</td>\n",
       "      <td>15</td>\n",
       "      <td>2011-10-31 14:41:00</td>\n",
       "      <td>1.63</td>\n",
       "      <td>NaN</td>\n",
       "      <td>United Kingdom</td>\n",
       "      <td>24.45</td>\n",
       "    </tr>\n",
       "    <tr>\n",
       "      <th>430240</th>\n",
       "      <td>573585</td>\n",
       "      <td>15056BL</td>\n",
       "      <td>EDWARDIAN PARASOL BLACK</td>\n",
       "      <td>1</td>\n",
       "      <td>2011-10-31 14:41:00</td>\n",
       "      <td>12.46</td>\n",
       "      <td>NaN</td>\n",
       "      <td>United Kingdom</td>\n",
       "      <td>12.46</td>\n",
       "    </tr>\n",
       "    <tr>\n",
       "      <th>430241</th>\n",
       "      <td>573585</td>\n",
       "      <td>15056N</td>\n",
       "      <td>EDWARDIAN PARASOL NATURAL</td>\n",
       "      <td>1</td>\n",
       "      <td>2011-10-31 14:41:00</td>\n",
       "      <td>12.46</td>\n",
       "      <td>NaN</td>\n",
       "      <td>United Kingdom</td>\n",
       "      <td>12.46</td>\n",
       "    </tr>\n",
       "    <tr>\n",
       "      <th>430242</th>\n",
       "      <td>573585</td>\n",
       "      <td>15058C</td>\n",
       "      <td>ICE CREAM DESIGN GARDEN PARASOL</td>\n",
       "      <td>1</td>\n",
       "      <td>2011-10-31 14:41:00</td>\n",
       "      <td>10.79</td>\n",
       "      <td>NaN</td>\n",
       "      <td>United Kingdom</td>\n",
       "      <td>10.79</td>\n",
       "    </tr>\n",
       "    <tr>\n",
       "      <th>430243</th>\n",
       "      <td>573585</td>\n",
       "      <td>16168M</td>\n",
       "      <td>FUNKY MONKEY GIFT BAG MEDIUM</td>\n",
       "      <td>2</td>\n",
       "      <td>2011-10-31 14:41:00</td>\n",
       "      <td>0.83</td>\n",
       "      <td>NaN</td>\n",
       "      <td>United Kingdom</td>\n",
       "      <td>1.66</td>\n",
       "    </tr>\n",
       "    <tr>\n",
       "      <th>430244</th>\n",
       "      <td>573585</td>\n",
       "      <td>16219</td>\n",
       "      <td>HOUSE SHAPE PENCIL SHARPENER</td>\n",
       "      <td>2</td>\n",
       "      <td>2011-10-31 14:41:00</td>\n",
       "      <td>0.83</td>\n",
       "      <td>NaN</td>\n",
       "      <td>United Kingdom</td>\n",
       "      <td>1.66</td>\n",
       "    </tr>\n",
       "    <tr>\n",
       "      <th>430245</th>\n",
       "      <td>573585</td>\n",
       "      <td>16235</td>\n",
       "      <td>RECYCLED PENCIL WITH RABBIT ERASER</td>\n",
       "      <td>2</td>\n",
       "      <td>2011-10-31 14:41:00</td>\n",
       "      <td>0.42</td>\n",
       "      <td>NaN</td>\n",
       "      <td>United Kingdom</td>\n",
       "      <td>0.84</td>\n",
       "    </tr>\n",
       "    <tr>\n",
       "      <th>430246</th>\n",
       "      <td>573585</td>\n",
       "      <td>16236</td>\n",
       "      <td>KITTY PENCIL ERASERS</td>\n",
       "      <td>1</td>\n",
       "      <td>2011-10-31 14:41:00</td>\n",
       "      <td>0.42</td>\n",
       "      <td>NaN</td>\n",
       "      <td>United Kingdom</td>\n",
       "      <td>0.42</td>\n",
       "    </tr>\n",
       "    <tr>\n",
       "      <th>430247</th>\n",
       "      <td>573585</td>\n",
       "      <td>16237</td>\n",
       "      <td>SLEEPING CAT ERASERS</td>\n",
       "      <td>10</td>\n",
       "      <td>2011-10-31 14:41:00</td>\n",
       "      <td>0.42</td>\n",
       "      <td>NaN</td>\n",
       "      <td>United Kingdom</td>\n",
       "      <td>4.20</td>\n",
       "    </tr>\n",
       "    <tr>\n",
       "      <th>430248</th>\n",
       "      <td>573585</td>\n",
       "      <td>16238</td>\n",
       "      <td>PARTY TIME PENCIL ERASERS</td>\n",
       "      <td>5</td>\n",
       "      <td>2011-10-31 14:41:00</td>\n",
       "      <td>0.42</td>\n",
       "      <td>NaN</td>\n",
       "      <td>United Kingdom</td>\n",
       "      <td>2.10</td>\n",
       "    </tr>\n",
       "    <tr>\n",
       "      <th>430249</th>\n",
       "      <td>573585</td>\n",
       "      <td>17003</td>\n",
       "      <td>BROCADE RING PURSE</td>\n",
       "      <td>1</td>\n",
       "      <td>2011-10-31 14:41:00</td>\n",
       "      <td>0.83</td>\n",
       "      <td>NaN</td>\n",
       "      <td>United Kingdom</td>\n",
       "      <td>0.83</td>\n",
       "    </tr>\n",
       "    <tr>\n",
       "      <th>430250</th>\n",
       "      <td>573585</td>\n",
       "      <td>17012B</td>\n",
       "      <td>ORIGAMI JASMINE INCENSE/CANDLE SET</td>\n",
       "      <td>5</td>\n",
       "      <td>2011-10-31 14:41:00</td>\n",
       "      <td>2.46</td>\n",
       "      <td>NaN</td>\n",
       "      <td>United Kingdom</td>\n",
       "      <td>12.30</td>\n",
       "    </tr>\n",
       "    <tr>\n",
       "      <th>430251</th>\n",
       "      <td>573585</td>\n",
       "      <td>17012C</td>\n",
       "      <td>ORIGAMI LAVENDER INCENSE/CANDL SET</td>\n",
       "      <td>5</td>\n",
       "      <td>2011-10-31 14:41:00</td>\n",
       "      <td>2.46</td>\n",
       "      <td>NaN</td>\n",
       "      <td>United Kingdom</td>\n",
       "      <td>12.30</td>\n",
       "    </tr>\n",
       "    <tr>\n",
       "      <th>430252</th>\n",
       "      <td>573585</td>\n",
       "      <td>17012F</td>\n",
       "      <td>ORIGAMI SANDLEWOOD INCENSE/CAND SET</td>\n",
       "      <td>1</td>\n",
       "      <td>2011-10-31 14:41:00</td>\n",
       "      <td>2.46</td>\n",
       "      <td>NaN</td>\n",
       "      <td>United Kingdom</td>\n",
       "      <td>2.46</td>\n",
       "    </tr>\n",
       "    <tr>\n",
       "      <th>430253</th>\n",
       "      <td>573585</td>\n",
       "      <td>17129F</td>\n",
       "      <td>BLUE GLASS GEMS IN BAG</td>\n",
       "      <td>1</td>\n",
       "      <td>2011-10-31 14:41:00</td>\n",
       "      <td>1.63</td>\n",
       "      <td>NaN</td>\n",
       "      <td>United Kingdom</td>\n",
       "      <td>1.63</td>\n",
       "    </tr>\n",
       "    <tr>\n",
       "      <th>430254</th>\n",
       "      <td>573585</td>\n",
       "      <td>18097C</td>\n",
       "      <td>WHITE TALL PORCELAIN T-LIGHT HOLDER</td>\n",
       "      <td>1</td>\n",
       "      <td>2011-10-31 14:41:00</td>\n",
       "      <td>4.96</td>\n",
       "      <td>NaN</td>\n",
       "      <td>United Kingdom</td>\n",
       "      <td>4.96</td>\n",
       "    </tr>\n",
       "    <tr>\n",
       "      <th>430255</th>\n",
       "      <td>573585</td>\n",
       "      <td>20615</td>\n",
       "      <td>BLUE POLKADOT PASSPORT COVER</td>\n",
       "      <td>1</td>\n",
       "      <td>2011-10-31 14:41:00</td>\n",
       "      <td>4.13</td>\n",
       "      <td>NaN</td>\n",
       "      <td>United Kingdom</td>\n",
       "      <td>4.13</td>\n",
       "    </tr>\n",
       "    <tr>\n",
       "      <th>430256</th>\n",
       "      <td>573585</td>\n",
       "      <td>20616</td>\n",
       "      <td>CHERRY BLOSSOM PASSPORT COVER</td>\n",
       "      <td>1</td>\n",
       "      <td>2011-10-31 14:41:00</td>\n",
       "      <td>4.13</td>\n",
       "      <td>NaN</td>\n",
       "      <td>United Kingdom</td>\n",
       "      <td>4.13</td>\n",
       "    </tr>\n",
       "  </tbody>\n",
       "</table>\n",
       "</div>"
      ],
      "text/plain": [
       "       InvoiceNo StockCode                          Description  Quantity  \\\n",
       "430237    573585     11001          ASSTD DESIGN RACING CAR PEN         2   \n",
       "430238    573585     15036            ASSORTED COLOURS SILK FAN        15   \n",
       "430239    573585     15039                       SANDALWOOD FAN        15   \n",
       "430240    573585   15056BL              EDWARDIAN PARASOL BLACK         1   \n",
       "430241    573585    15056N            EDWARDIAN PARASOL NATURAL         1   \n",
       "430242    573585    15058C      ICE CREAM DESIGN GARDEN PARASOL         1   \n",
       "430243    573585    16168M         FUNKY MONKEY GIFT BAG MEDIUM         2   \n",
       "430244    573585     16219         HOUSE SHAPE PENCIL SHARPENER         2   \n",
       "430245    573585     16235   RECYCLED PENCIL WITH RABBIT ERASER         2   \n",
       "430246    573585     16236                 KITTY PENCIL ERASERS         1   \n",
       "430247    573585     16237                 SLEEPING CAT ERASERS        10   \n",
       "430248    573585     16238            PARTY TIME PENCIL ERASERS         5   \n",
       "430249    573585     17003                  BROCADE RING PURSE          1   \n",
       "430250    573585    17012B   ORIGAMI JASMINE INCENSE/CANDLE SET         5   \n",
       "430251    573585    17012C  ORIGAMI LAVENDER INCENSE/CANDL SET          5   \n",
       "430252    573585    17012F  ORIGAMI SANDLEWOOD INCENSE/CAND SET         1   \n",
       "430253    573585    17129F               BLUE GLASS GEMS IN BAG         1   \n",
       "430254    573585    18097C  WHITE TALL PORCELAIN T-LIGHT HOLDER         1   \n",
       "430255    573585     20615         BLUE POLKADOT PASSPORT COVER         1   \n",
       "430256    573585     20616        CHERRY BLOSSOM PASSPORT COVER         1   \n",
       "\n",
       "               InvoiceDate  UnitPrice  CustomerID         Country  TotalPrice  \n",
       "430237 2011-10-31 14:41:00       3.29         NaN  United Kingdom        6.58  \n",
       "430238 2011-10-31 14:41:00       1.63         NaN  United Kingdom       24.45  \n",
       "430239 2011-10-31 14:41:00       1.63         NaN  United Kingdom       24.45  \n",
       "430240 2011-10-31 14:41:00      12.46         NaN  United Kingdom       12.46  \n",
       "430241 2011-10-31 14:41:00      12.46         NaN  United Kingdom       12.46  \n",
       "430242 2011-10-31 14:41:00      10.79         NaN  United Kingdom       10.79  \n",
       "430243 2011-10-31 14:41:00       0.83         NaN  United Kingdom        1.66  \n",
       "430244 2011-10-31 14:41:00       0.83         NaN  United Kingdom        1.66  \n",
       "430245 2011-10-31 14:41:00       0.42         NaN  United Kingdom        0.84  \n",
       "430246 2011-10-31 14:41:00       0.42         NaN  United Kingdom        0.42  \n",
       "430247 2011-10-31 14:41:00       0.42         NaN  United Kingdom        4.20  \n",
       "430248 2011-10-31 14:41:00       0.42         NaN  United Kingdom        2.10  \n",
       "430249 2011-10-31 14:41:00       0.83         NaN  United Kingdom        0.83  \n",
       "430250 2011-10-31 14:41:00       2.46         NaN  United Kingdom       12.30  \n",
       "430251 2011-10-31 14:41:00       2.46         NaN  United Kingdom       12.30  \n",
       "430252 2011-10-31 14:41:00       2.46         NaN  United Kingdom        2.46  \n",
       "430253 2011-10-31 14:41:00       1.63         NaN  United Kingdom        1.63  \n",
       "430254 2011-10-31 14:41:00       4.96         NaN  United Kingdom        4.96  \n",
       "430255 2011-10-31 14:41:00       4.13         NaN  United Kingdom        4.13  \n",
       "430256 2011-10-31 14:41:00       4.13         NaN  United Kingdom        4.13  "
      ]
     },
     "execution_count": 16,
     "metadata": {},
     "output_type": "execute_result"
    }
   ],
   "source": [
    "df1 = df[df['InvoiceNo'] == 573585]\n",
    "df1.head(20)"
   ]
  },
  {
   "cell_type": "code",
   "execution_count": 17,
   "id": "6bf8191e",
   "metadata": {
    "execution": {
     "iopub.execute_input": "2023-07-24T11:44:40.287956Z",
     "iopub.status.busy": "2023-07-24T11:44:40.287619Z",
     "iopub.status.idle": "2023-07-24T11:44:40.295239Z",
     "shell.execute_reply": "2023-07-24T11:44:40.294310Z"
    },
    "papermill": {
     "duration": 0.017597,
     "end_time": "2023-07-24T11:44:40.297171",
     "exception": false,
     "start_time": "2023-07-24T11:44:40.279574",
     "status": "completed"
    },
    "tags": []
   },
   "outputs": [
    {
     "data": {
      "text/plain": [
       "United Kingdom    1114\n",
       "Name: Country, dtype: int64"
      ]
     },
     "execution_count": 17,
     "metadata": {},
     "output_type": "execute_result"
    }
   ],
   "source": [
    "df1['Country'].value_counts()"
   ]
  },
  {
   "cell_type": "code",
   "execution_count": 18,
   "id": "4db4e249",
   "metadata": {
    "execution": {
     "iopub.execute_input": "2023-07-24T11:44:40.313772Z",
     "iopub.status.busy": "2023-07-24T11:44:40.313381Z",
     "iopub.status.idle": "2023-07-24T11:44:40.322404Z",
     "shell.execute_reply": "2023-07-24T11:44:40.321110Z"
    },
    "papermill": {
     "duration": 0.020209,
     "end_time": "2023-07-24T11:44:40.324680",
     "exception": false,
     "start_time": "2023-07-24T11:44:40.304471",
     "status": "completed"
    },
    "tags": []
   },
   "outputs": [
    {
     "data": {
      "text/plain": [
       "2011-10-31 14:41:00    1114\n",
       "Name: InvoiceDate, dtype: int64"
      ]
     },
     "execution_count": 18,
     "metadata": {},
     "output_type": "execute_result"
    }
   ],
   "source": [
    "df1['InvoiceDate'].value_counts()"
   ]
  },
  {
   "cell_type": "code",
   "execution_count": 19,
   "id": "c9e37e46",
   "metadata": {
    "execution": {
     "iopub.execute_input": "2023-07-24T11:44:40.341777Z",
     "iopub.status.busy": "2023-07-24T11:44:40.341335Z",
     "iopub.status.idle": "2023-07-24T11:44:40.348984Z",
     "shell.execute_reply": "2023-07-24T11:44:40.348316Z"
    },
    "papermill": {
     "duration": 0.018498,
     "end_time": "2023-07-24T11:44:40.351047",
     "exception": false,
     "start_time": "2023-07-24T11:44:40.332549",
     "status": "completed"
    },
    "tags": []
   },
   "outputs": [
    {
     "data": {
      "text/plain": [
       "Series([], Name: CustomerID, dtype: int64)"
      ]
     },
     "execution_count": 19,
     "metadata": {},
     "output_type": "execute_result"
    }
   ],
   "source": [
    "df1['CustomerID'].value_counts()"
   ]
  },
  {
   "cell_type": "code",
   "execution_count": 20,
   "id": "4db43419",
   "metadata": {
    "execution": {
     "iopub.execute_input": "2023-07-24T11:44:40.369819Z",
     "iopub.status.busy": "2023-07-24T11:44:40.368773Z",
     "iopub.status.idle": "2023-07-24T11:44:41.664732Z",
     "shell.execute_reply": "2023-07-24T11:44:41.663691Z"
    },
    "papermill": {
     "duration": 1.307912,
     "end_time": "2023-07-24T11:44:41.667161",
     "exception": false,
     "start_time": "2023-07-24T11:44:40.359249",
     "status": "completed"
    },
    "tags": []
   },
   "outputs": [
    {
     "name": "stderr",
     "output_type": "stream",
     "text": [
      "/opt/conda/lib/python3.10/site-packages/scipy/__init__.py:146: UserWarning: A NumPy version >=1.16.5 and <1.23.0 is required for this version of SciPy (detected version 1.23.5\n",
      "  warnings.warn(f\"A NumPy version >={np_minversion} and <{np_maxversion}\"\n"
     ]
    }
   ],
   "source": [
    "import matplotlib.pyplot as plt\n",
    "import seaborn as sns"
   ]
  },
  {
   "cell_type": "code",
   "execution_count": 21,
   "id": "3fe12a3c",
   "metadata": {
    "execution": {
     "iopub.execute_input": "2023-07-24T11:44:41.684236Z",
     "iopub.status.busy": "2023-07-24T11:44:41.683341Z",
     "iopub.status.idle": "2023-07-24T11:44:41.688369Z",
     "shell.execute_reply": "2023-07-24T11:44:41.687380Z"
    },
    "papermill": {
     "duration": 0.015987,
     "end_time": "2023-07-24T11:44:41.690723",
     "exception": false,
     "start_time": "2023-07-24T11:44:41.674736",
     "status": "completed"
    },
    "tags": []
   },
   "outputs": [],
   "source": [
    "# df.plot(df['UnitPrice'],df['StockCode'])"
   ]
  }
 ],
 "metadata": {
  "kernelspec": {
   "display_name": "Python 3",
   "language": "python",
   "name": "python3"
  },
  "language_info": {
   "codemirror_mode": {
    "name": "ipython",
    "version": 3
   },
   "file_extension": ".py",
   "mimetype": "text/x-python",
   "name": "python",
   "nbconvert_exporter": "python",
   "pygments_lexer": "ipython3",
   "version": "3.10.12"
  },
  "papermill": {
   "default_parameters": {},
   "duration": 75.970654,
   "end_time": "2023-07-24T11:44:42.618877",
   "environment_variables": {},
   "exception": null,
   "input_path": "__notebook__.ipynb",
   "output_path": "__notebook__.ipynb",
   "parameters": {},
   "start_time": "2023-07-24T11:43:26.648223",
   "version": "2.4.0"
  }
 },
 "nbformat": 4,
 "nbformat_minor": 5
}
