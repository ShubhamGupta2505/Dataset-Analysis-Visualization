{
 "cells": [
  {
   "cell_type": "code",
   "execution_count": 1,
   "id": "eee38d77",
   "metadata": {
    "_cell_guid": "b1076dfc-b9ad-4769-8c92-a6c4dae69d19",
    "_uuid": "8f2839f25d086af736a60e9eeb907d3b93b6e0e5",
    "execution": {
     "iopub.execute_input": "2023-07-13T17:48:23.850067Z",
     "iopub.status.busy": "2023-07-13T17:48:23.849393Z",
     "iopub.status.idle": "2023-07-13T17:48:23.883049Z",
     "shell.execute_reply": "2023-07-13T17:48:23.882180Z"
    },
    "papermill": {
     "duration": 0.043234,
     "end_time": "2023-07-13T17:48:23.885444",
     "exception": false,
     "start_time": "2023-07-13T17:48:23.842210",
     "status": "completed"
    },
    "tags": []
   },
   "outputs": [
    {
     "name": "stdout",
     "output_type": "stream",
     "text": [
      "/kaggle/input/the-weather-of-187-countries-in-2020/the weather of 187 countries in 2020.csv\n"
     ]
    }
   ],
   "source": [
    "# This Python 3 environment comes with many helpful analytics libraries installed\n",
    "# It is defined by the kaggle/python Docker image: https://github.com/kaggle/docker-python\n",
    "# For example, here's several helpful packages to load\n",
    "\n",
    "import numpy as np # linear algebra\n",
    "import pandas as pd # data processing, CSV file I/O (e.g. pd.read_csv)\n",
    "\n",
    "# Input data files are available in the read-only \"../input/\" directory\n",
    "# For example, running this (by clicking run or pressing Shift+Enter) will list all files under the input directory\n",
    "\n",
    "import os\n",
    "for dirname, _, filenames in os.walk('/kaggle/input'):\n",
    "    for filename in filenames:\n",
    "        print(os.path.join(dirname, filename))\n",
    "\n",
    "# You can write up to 20GB to the current directory (/kaggle/working/) that gets preserved as output when you create a version using \"Save & Run All\" \n",
    "# You can also write temporary files to /kaggle/temp/, but they won't be saved outside of the current session"
   ]
  },
  {
   "cell_type": "code",
   "execution_count": 2,
   "id": "ebde1f37",
   "metadata": {
    "execution": {
     "iopub.execute_input": "2023-07-13T17:48:23.897559Z",
     "iopub.status.busy": "2023-07-13T17:48:23.897114Z",
     "iopub.status.idle": "2023-07-13T17:48:23.901708Z",
     "shell.execute_reply": "2023-07-13T17:48:23.900876Z"
    },
    "papermill": {
     "duration": 0.012532,
     "end_time": "2023-07-13T17:48:23.903399",
     "exception": false,
     "start_time": "2023-07-13T17:48:23.890867",
     "status": "completed"
    },
    "tags": []
   },
   "outputs": [],
   "source": [
    "pd.set_option('display.max_columns',None)"
   ]
  },
  {
   "cell_type": "code",
   "execution_count": 3,
   "id": "d26a058d",
   "metadata": {
    "execution": {
     "iopub.execute_input": "2023-07-13T17:48:23.914911Z",
     "iopub.status.busy": "2023-07-13T17:48:23.914609Z",
     "iopub.status.idle": "2023-07-13T17:48:26.257474Z",
     "shell.execute_reply": "2023-07-13T17:48:26.256410Z"
    },
    "papermill": {
     "duration": 2.35084,
     "end_time": "2023-07-13T17:48:26.259318",
     "exception": false,
     "start_time": "2023-07-13T17:48:23.908478",
     "status": "completed"
    },
    "tags": []
   },
   "outputs": [
    {
     "name": "stderr",
     "output_type": "stream",
     "text": [
      "/tmp/ipykernel_21/3797253022.py:1: DtypeWarning: Columns (15,16,17,18,22) have mixed types. Specify dtype option on import or set low_memory=False.\n",
      "  df= pd.read_csv('/kaggle/input/the-weather-of-187-countries-in-2020/the weather of 187 countries in 2020.csv')\n"
     ]
    },
    {
     "data": {
      "text/plain": [
       "(1048575, 23)"
      ]
     },
     "execution_count": 3,
     "metadata": {},
     "output_type": "execute_result"
    }
   ],
   "source": [
    "df= pd.read_csv('/kaggle/input/the-weather-of-187-countries-in-2020/the weather of 187 countries in 2020.csv')\n",
    "df.shape"
   ]
  },
  {
   "cell_type": "code",
   "execution_count": 4,
   "id": "8a391a58",
   "metadata": {
    "execution": {
     "iopub.execute_input": "2023-07-13T17:48:26.271710Z",
     "iopub.status.busy": "2023-07-13T17:48:26.271377Z",
     "iopub.status.idle": "2023-07-13T17:48:26.300426Z",
     "shell.execute_reply": "2023-07-13T17:48:26.299391Z"
    },
    "papermill": {
     "duration": 0.037437,
     "end_time": "2023-07-13T17:48:26.302346",
     "exception": false,
     "start_time": "2023-07-13T17:48:26.264909",
     "status": "completed"
    },
    "tags": []
   },
   "outputs": [
    {
     "data": {
      "text/html": [
       "<div>\n",
       "<style scoped>\n",
       "    .dataframe tbody tr th:only-of-type {\n",
       "        vertical-align: middle;\n",
       "    }\n",
       "\n",
       "    .dataframe tbody tr th {\n",
       "        vertical-align: top;\n",
       "    }\n",
       "\n",
       "    .dataframe thead th {\n",
       "        text-align: right;\n",
       "    }\n",
       "</style>\n",
       "<table border=\"1\" class=\"dataframe\">\n",
       "  <thead>\n",
       "    <tr style=\"text-align: right;\">\n",
       "      <th></th>\n",
       "      <th>STATION</th>\n",
       "      <th>Country/Region</th>\n",
       "      <th>DATE</th>\n",
       "      <th>Year</th>\n",
       "      <th>Month</th>\n",
       "      <th>Day</th>\n",
       "      <th>PRCP</th>\n",
       "      <th>SNWD</th>\n",
       "      <th>TAVG</th>\n",
       "      <th>TMAX</th>\n",
       "      <th>TMIN</th>\n",
       "      <th>SNOW</th>\n",
       "      <th>LATITUDE</th>\n",
       "      <th>LONGITUDE</th>\n",
       "      <th>ELEVATION</th>\n",
       "      <th>PRCP_ATTRIBUTES</th>\n",
       "      <th>TAVG_ATTRIBUTES</th>\n",
       "      <th>TMAX_ATTRIBUTES</th>\n",
       "      <th>TMIN_ATTRIBUTES</th>\n",
       "      <th>DAPR</th>\n",
       "      <th>MDPR</th>\n",
       "      <th>WESD</th>\n",
       "      <th>SNWD_ATTRIBUTES</th>\n",
       "    </tr>\n",
       "  </thead>\n",
       "  <tbody>\n",
       "    <tr>\n",
       "      <th>0</th>\n",
       "      <td>TZ000063894</td>\n",
       "      <td>Comoros</td>\n",
       "      <td>2020-01-22</td>\n",
       "      <td>2020</td>\n",
       "      <td>1</td>\n",
       "      <td>22</td>\n",
       "      <td>10.9</td>\n",
       "      <td>NaN</td>\n",
       "      <td>27.6</td>\n",
       "      <td>30.2</td>\n",
       "      <td>24.9</td>\n",
       "      <td>NaN</td>\n",
       "      <td>NaN</td>\n",
       "      <td>NaN</td>\n",
       "      <td>NaN</td>\n",
       "      <td>NaN</td>\n",
       "      <td>NaN</td>\n",
       "      <td>NaN</td>\n",
       "      <td>NaN</td>\n",
       "      <td>NaN</td>\n",
       "      <td>NaN</td>\n",
       "      <td>NaN</td>\n",
       "      <td>NaN</td>\n",
       "    </tr>\n",
       "    <tr>\n",
       "      <th>1</th>\n",
       "      <td>TZ000063894</td>\n",
       "      <td>Comoros</td>\n",
       "      <td>2020-01-23</td>\n",
       "      <td>2020</td>\n",
       "      <td>1</td>\n",
       "      <td>23</td>\n",
       "      <td>0.0</td>\n",
       "      <td>NaN</td>\n",
       "      <td>26.7</td>\n",
       "      <td>NaN</td>\n",
       "      <td>NaN</td>\n",
       "      <td>NaN</td>\n",
       "      <td>NaN</td>\n",
       "      <td>NaN</td>\n",
       "      <td>NaN</td>\n",
       "      <td>NaN</td>\n",
       "      <td>NaN</td>\n",
       "      <td>NaN</td>\n",
       "      <td>NaN</td>\n",
       "      <td>NaN</td>\n",
       "      <td>NaN</td>\n",
       "      <td>NaN</td>\n",
       "      <td>NaN</td>\n",
       "    </tr>\n",
       "    <tr>\n",
       "      <th>2</th>\n",
       "      <td>TZ000063894</td>\n",
       "      <td>Comoros</td>\n",
       "      <td>2020-01-24</td>\n",
       "      <td>2020</td>\n",
       "      <td>1</td>\n",
       "      <td>24</td>\n",
       "      <td>9.4</td>\n",
       "      <td>NaN</td>\n",
       "      <td>27.9</td>\n",
       "      <td>30.6</td>\n",
       "      <td>25.6</td>\n",
       "      <td>NaN</td>\n",
       "      <td>NaN</td>\n",
       "      <td>NaN</td>\n",
       "      <td>NaN</td>\n",
       "      <td>NaN</td>\n",
       "      <td>NaN</td>\n",
       "      <td>NaN</td>\n",
       "      <td>NaN</td>\n",
       "      <td>NaN</td>\n",
       "      <td>NaN</td>\n",
       "      <td>NaN</td>\n",
       "      <td>NaN</td>\n",
       "    </tr>\n",
       "    <tr>\n",
       "      <th>3</th>\n",
       "      <td>TZ000063894</td>\n",
       "      <td>Comoros</td>\n",
       "      <td>2020-01-25</td>\n",
       "      <td>2020</td>\n",
       "      <td>1</td>\n",
       "      <td>25</td>\n",
       "      <td>0.3</td>\n",
       "      <td>NaN</td>\n",
       "      <td>27.9</td>\n",
       "      <td>30.2</td>\n",
       "      <td>16.3</td>\n",
       "      <td>NaN</td>\n",
       "      <td>NaN</td>\n",
       "      <td>NaN</td>\n",
       "      <td>NaN</td>\n",
       "      <td>NaN</td>\n",
       "      <td>NaN</td>\n",
       "      <td>NaN</td>\n",
       "      <td>NaN</td>\n",
       "      <td>NaN</td>\n",
       "      <td>NaN</td>\n",
       "      <td>NaN</td>\n",
       "      <td>NaN</td>\n",
       "    </tr>\n",
       "    <tr>\n",
       "      <th>4</th>\n",
       "      <td>TZ000063894</td>\n",
       "      <td>Comoros</td>\n",
       "      <td>2020-01-26</td>\n",
       "      <td>2020</td>\n",
       "      <td>1</td>\n",
       "      <td>26</td>\n",
       "      <td>0.0</td>\n",
       "      <td>NaN</td>\n",
       "      <td>28.2</td>\n",
       "      <td>31.5</td>\n",
       "      <td>NaN</td>\n",
       "      <td>NaN</td>\n",
       "      <td>NaN</td>\n",
       "      <td>NaN</td>\n",
       "      <td>NaN</td>\n",
       "      <td>NaN</td>\n",
       "      <td>NaN</td>\n",
       "      <td>NaN</td>\n",
       "      <td>NaN</td>\n",
       "      <td>NaN</td>\n",
       "      <td>NaN</td>\n",
       "      <td>NaN</td>\n",
       "      <td>NaN</td>\n",
       "    </tr>\n",
       "  </tbody>\n",
       "</table>\n",
       "</div>"
      ],
      "text/plain": [
       "       STATION Country/Region        DATE  Year  Month  Day  PRCP  SNWD  TAVG  \\\n",
       "0  TZ000063894        Comoros  2020-01-22  2020      1   22  10.9   NaN  27.6   \n",
       "1  TZ000063894        Comoros  2020-01-23  2020      1   23   0.0   NaN  26.7   \n",
       "2  TZ000063894        Comoros  2020-01-24  2020      1   24   9.4   NaN  27.9   \n",
       "3  TZ000063894        Comoros  2020-01-25  2020      1   25   0.3   NaN  27.9   \n",
       "4  TZ000063894        Comoros  2020-01-26  2020      1   26   0.0   NaN  28.2   \n",
       "\n",
       "   TMAX  TMIN  SNOW  LATITUDE  LONGITUDE  ELEVATION PRCP_ATTRIBUTES  \\\n",
       "0  30.2  24.9   NaN       NaN        NaN        NaN             NaN   \n",
       "1   NaN   NaN   NaN       NaN        NaN        NaN             NaN   \n",
       "2  30.6  25.6   NaN       NaN        NaN        NaN             NaN   \n",
       "3  30.2  16.3   NaN       NaN        NaN        NaN             NaN   \n",
       "4  31.5   NaN   NaN       NaN        NaN        NaN             NaN   \n",
       "\n",
       "  TAVG_ATTRIBUTES TMAX_ATTRIBUTES TMIN_ATTRIBUTES  DAPR  MDPR  WESD  \\\n",
       "0             NaN             NaN             NaN   NaN   NaN   NaN   \n",
       "1             NaN             NaN             NaN   NaN   NaN   NaN   \n",
       "2             NaN             NaN             NaN   NaN   NaN   NaN   \n",
       "3             NaN             NaN             NaN   NaN   NaN   NaN   \n",
       "4             NaN             NaN             NaN   NaN   NaN   NaN   \n",
       "\n",
       "  SNWD_ATTRIBUTES  \n",
       "0             NaN  \n",
       "1             NaN  \n",
       "2             NaN  \n",
       "3             NaN  \n",
       "4             NaN  "
      ]
     },
     "execution_count": 4,
     "metadata": {},
     "output_type": "execute_result"
    }
   ],
   "source": [
    "df.head()"
   ]
  },
  {
   "cell_type": "code",
   "execution_count": 5,
   "id": "71aee446",
   "metadata": {
    "execution": {
     "iopub.execute_input": "2023-07-13T17:48:26.315280Z",
     "iopub.status.busy": "2023-07-13T17:48:26.314940Z",
     "iopub.status.idle": "2023-07-13T17:48:27.363699Z",
     "shell.execute_reply": "2023-07-13T17:48:27.362218Z"
    },
    "papermill": {
     "duration": 1.058118,
     "end_time": "2023-07-13T17:48:27.366213",
     "exception": false,
     "start_time": "2023-07-13T17:48:26.308095",
     "status": "completed"
    },
    "tags": []
   },
   "outputs": [
    {
     "name": "stdout",
     "output_type": "stream",
     "text": [
      "<class 'pandas.core.frame.DataFrame'>\n",
      "RangeIndex: 1048575 entries, 0 to 1048574\n",
      "Data columns (total 23 columns):\n",
      " #   Column           Non-Null Count    Dtype  \n",
      "---  ------           --------------    -----  \n",
      " 0   STATION          1048575 non-null  object \n",
      " 1   Country/Region   1048575 non-null  object \n",
      " 2   DATE             1048575 non-null  object \n",
      " 3   Year             1048575 non-null  int64  \n",
      " 4   Month            1048575 non-null  int64  \n",
      " 5   Day              1048575 non-null  int64  \n",
      " 6   PRCP             738462 non-null   float64\n",
      " 7   SNWD             214352 non-null   float64\n",
      " 8   TAVG             812229 non-null   float64\n",
      " 9   TMAX             666841 non-null   float64\n",
      " 10  TMIN             694366 non-null   float64\n",
      " 11  SNOW             103991 non-null   float64\n",
      " 12  LATITUDE         102307 non-null   float64\n",
      " 13  LONGITUDE        102307 non-null   float64\n",
      " 14  ELEVATION        102307 non-null   float64\n",
      " 15  PRCP_ATTRIBUTES  6007 non-null     object \n",
      " 16  TAVG_ATTRIBUTES  3850 non-null     object \n",
      " 17  TMAX_ATTRIBUTES  5637 non-null     object \n",
      " 18  TMIN_ATTRIBUTES  5874 non-null     object \n",
      " 19  DAPR             1263 non-null     float64\n",
      " 20  MDPR             81 non-null       float64\n",
      " 21  WESD             2 non-null        float64\n",
      " 22  SNWD_ATTRIBUTES  354 non-null      object \n",
      "dtypes: float64(12), int64(3), object(8)\n",
      "memory usage: 184.0+ MB\n"
     ]
    }
   ],
   "source": [
    "df.info()"
   ]
  },
  {
   "cell_type": "code",
   "execution_count": 6,
   "id": "75901ff5",
   "metadata": {
    "execution": {
     "iopub.execute_input": "2023-07-13T17:48:27.379108Z",
     "iopub.status.busy": "2023-07-13T17:48:27.378787Z",
     "iopub.status.idle": "2023-07-13T17:48:27.775305Z",
     "shell.execute_reply": "2023-07-13T17:48:27.774032Z"
    },
    "papermill": {
     "duration": 0.405011,
     "end_time": "2023-07-13T17:48:27.777097",
     "exception": false,
     "start_time": "2023-07-13T17:48:27.372086",
     "status": "completed"
    },
    "tags": []
   },
   "outputs": [
    {
     "data": {
      "text/html": [
       "<div>\n",
       "<style scoped>\n",
       "    .dataframe tbody tr th:only-of-type {\n",
       "        vertical-align: middle;\n",
       "    }\n",
       "\n",
       "    .dataframe tbody tr th {\n",
       "        vertical-align: top;\n",
       "    }\n",
       "\n",
       "    .dataframe thead th {\n",
       "        text-align: right;\n",
       "    }\n",
       "</style>\n",
       "<table border=\"1\" class=\"dataframe\">\n",
       "  <thead>\n",
       "    <tr style=\"text-align: right;\">\n",
       "      <th></th>\n",
       "      <th>Year</th>\n",
       "      <th>Month</th>\n",
       "      <th>Day</th>\n",
       "      <th>PRCP</th>\n",
       "      <th>SNWD</th>\n",
       "      <th>TAVG</th>\n",
       "      <th>TMAX</th>\n",
       "      <th>TMIN</th>\n",
       "      <th>SNOW</th>\n",
       "      <th>LATITUDE</th>\n",
       "      <th>LONGITUDE</th>\n",
       "      <th>ELEVATION</th>\n",
       "      <th>DAPR</th>\n",
       "      <th>MDPR</th>\n",
       "      <th>WESD</th>\n",
       "    </tr>\n",
       "  </thead>\n",
       "  <tbody>\n",
       "    <tr>\n",
       "      <th>count</th>\n",
       "      <td>1048575.0</td>\n",
       "      <td>1.048575e+06</td>\n",
       "      <td>1.048575e+06</td>\n",
       "      <td>738462.000000</td>\n",
       "      <td>214352.000000</td>\n",
       "      <td>812229.000000</td>\n",
       "      <td>666841.000000</td>\n",
       "      <td>694366.000000</td>\n",
       "      <td>103991.000000</td>\n",
       "      <td>102307.000000</td>\n",
       "      <td>102307.000000</td>\n",
       "      <td>102307.000000</td>\n",
       "      <td>1263.00000</td>\n",
       "      <td>81.000000</td>\n",
       "      <td>2.000000</td>\n",
       "    </tr>\n",
       "    <tr>\n",
       "      <th>mean</th>\n",
       "      <td>2020.0</td>\n",
       "      <td>4.270095e+00</td>\n",
       "      <td>1.591403e+01</td>\n",
       "      <td>2.677177</td>\n",
       "      <td>152.121545</td>\n",
       "      <td>14.514089</td>\n",
       "      <td>17.819442</td>\n",
       "      <td>7.332128</td>\n",
       "      <td>3.793184</td>\n",
       "      <td>37.785974</td>\n",
       "      <td>73.215435</td>\n",
       "      <td>797.540204</td>\n",
       "      <td>5.33175</td>\n",
       "      <td>0.958025</td>\n",
       "      <td>0.050000</td>\n",
       "    </tr>\n",
       "    <tr>\n",
       "      <th>std</th>\n",
       "      <td>0.0</td>\n",
       "      <td>1.809264e+00</td>\n",
       "      <td>8.764939e+00</td>\n",
       "      <td>8.732044</td>\n",
       "      <td>301.262503</td>\n",
       "      <td>13.266343</td>\n",
       "      <td>13.493080</td>\n",
       "      <td>13.154970</td>\n",
       "      <td>19.216583</td>\n",
       "      <td>11.690114</td>\n",
       "      <td>71.593997</td>\n",
       "      <td>1103.566712</td>\n",
       "      <td>7.19394</td>\n",
       "      <td>1.653137</td>\n",
       "      <td>0.070711</td>\n",
       "    </tr>\n",
       "    <tr>\n",
       "      <th>min</th>\n",
       "      <td>2020.0</td>\n",
       "      <td>1.000000e+00</td>\n",
       "      <td>1.000000e+00</td>\n",
       "      <td>0.000000</td>\n",
       "      <td>0.000000</td>\n",
       "      <td>-56.200000</td>\n",
       "      <td>-55.000000</td>\n",
       "      <td>-65.000000</td>\n",
       "      <td>0.000000</td>\n",
       "      <td>-17.817000</td>\n",
       "      <td>-140.850000</td>\n",
       "      <td>0.600000</td>\n",
       "      <td>1.00000</td>\n",
       "      <td>0.000000</td>\n",
       "      <td>0.000000</td>\n",
       "    </tr>\n",
       "    <tr>\n",
       "      <th>25%</th>\n",
       "      <td>2020.0</td>\n",
       "      <td>3.000000e+00</td>\n",
       "      <td>8.000000e+00</td>\n",
       "      <td>0.000000</td>\n",
       "      <td>0.000000</td>\n",
       "      <td>6.111111</td>\n",
       "      <td>8.400000</td>\n",
       "      <td>-0.500000</td>\n",
       "      <td>0.000000</td>\n",
       "      <td>30.533000</td>\n",
       "      <td>80.083000</td>\n",
       "      <td>68.000000</td>\n",
       "      <td>2.00000</td>\n",
       "      <td>0.000000</td>\n",
       "      <td>0.025000</td>\n",
       "    </tr>\n",
       "    <tr>\n",
       "      <th>50%</th>\n",
       "      <td>2020.0</td>\n",
       "      <td>4.000000e+00</td>\n",
       "      <td>1.600000e+01</td>\n",
       "      <td>0.000000</td>\n",
       "      <td>0.000000</td>\n",
       "      <td>16.600000</td>\n",
       "      <td>19.400000</td>\n",
       "      <td>8.500000</td>\n",
       "      <td>0.000000</td>\n",
       "      <td>38.233000</td>\n",
       "      <td>105.183000</td>\n",
       "      <td>266.000000</td>\n",
       "      <td>3.00000</td>\n",
       "      <td>0.280000</td>\n",
       "      <td>0.050000</td>\n",
       "    </tr>\n",
       "    <tr>\n",
       "      <th>75%</th>\n",
       "      <td>2020.0</td>\n",
       "      <td>6.000000e+00</td>\n",
       "      <td>2.400000e+01</td>\n",
       "      <td>1.400000</td>\n",
       "      <td>221.000000</td>\n",
       "      <td>25.555556</td>\n",
       "      <td>28.800000</td>\n",
       "      <td>17.200000</td>\n",
       "      <td>0.000000</td>\n",
       "      <td>45.283000</td>\n",
       "      <td>116.333000</td>\n",
       "      <td>1099.000000</td>\n",
       "      <td>5.00000</td>\n",
       "      <td>1.510000</td>\n",
       "      <td>0.075000</td>\n",
       "    </tr>\n",
       "    <tr>\n",
       "      <th>max</th>\n",
       "      <td>2020.0</td>\n",
       "      <td>7.000000e+00</td>\n",
       "      <td>3.100000e+01</td>\n",
       "      <td>447.000000</td>\n",
       "      <td>52900.000000</td>\n",
       "      <td>42.900000</td>\n",
       "      <td>51.200000</td>\n",
       "      <td>36.700000</td>\n",
       "      <td>625.000000</td>\n",
       "      <td>82.500000</td>\n",
       "      <td>131.983000</td>\n",
       "      <td>4701.000000</td>\n",
       "      <td>61.00000</td>\n",
       "      <td>9.240000</td>\n",
       "      <td>0.100000</td>\n",
       "    </tr>\n",
       "  </tbody>\n",
       "</table>\n",
       "</div>"
      ],
      "text/plain": [
       "            Year         Month           Day           PRCP           SNWD  \\\n",
       "count  1048575.0  1.048575e+06  1.048575e+06  738462.000000  214352.000000   \n",
       "mean      2020.0  4.270095e+00  1.591403e+01       2.677177     152.121545   \n",
       "std          0.0  1.809264e+00  8.764939e+00       8.732044     301.262503   \n",
       "min       2020.0  1.000000e+00  1.000000e+00       0.000000       0.000000   \n",
       "25%       2020.0  3.000000e+00  8.000000e+00       0.000000       0.000000   \n",
       "50%       2020.0  4.000000e+00  1.600000e+01       0.000000       0.000000   \n",
       "75%       2020.0  6.000000e+00  2.400000e+01       1.400000     221.000000   \n",
       "max       2020.0  7.000000e+00  3.100000e+01     447.000000   52900.000000   \n",
       "\n",
       "                TAVG           TMAX           TMIN           SNOW  \\\n",
       "count  812229.000000  666841.000000  694366.000000  103991.000000   \n",
       "mean       14.514089      17.819442       7.332128       3.793184   \n",
       "std        13.266343      13.493080      13.154970      19.216583   \n",
       "min       -56.200000     -55.000000     -65.000000       0.000000   \n",
       "25%         6.111111       8.400000      -0.500000       0.000000   \n",
       "50%        16.600000      19.400000       8.500000       0.000000   \n",
       "75%        25.555556      28.800000      17.200000       0.000000   \n",
       "max        42.900000      51.200000      36.700000     625.000000   \n",
       "\n",
       "            LATITUDE      LONGITUDE      ELEVATION        DAPR       MDPR  \\\n",
       "count  102307.000000  102307.000000  102307.000000  1263.00000  81.000000   \n",
       "mean       37.785974      73.215435     797.540204     5.33175   0.958025   \n",
       "std        11.690114      71.593997    1103.566712     7.19394   1.653137   \n",
       "min       -17.817000    -140.850000       0.600000     1.00000   0.000000   \n",
       "25%        30.533000      80.083000      68.000000     2.00000   0.000000   \n",
       "50%        38.233000     105.183000     266.000000     3.00000   0.280000   \n",
       "75%        45.283000     116.333000    1099.000000     5.00000   1.510000   \n",
       "max        82.500000     131.983000    4701.000000    61.00000   9.240000   \n",
       "\n",
       "           WESD  \n",
       "count  2.000000  \n",
       "mean   0.050000  \n",
       "std    0.070711  \n",
       "min    0.000000  \n",
       "25%    0.025000  \n",
       "50%    0.050000  \n",
       "75%    0.075000  \n",
       "max    0.100000  "
      ]
     },
     "execution_count": 6,
     "metadata": {},
     "output_type": "execute_result"
    }
   ],
   "source": [
    "df.describe()"
   ]
  },
  {
   "cell_type": "code",
   "execution_count": 7,
   "id": "6c674539",
   "metadata": {
    "execution": {
     "iopub.execute_input": "2023-07-13T17:48:27.791385Z",
     "iopub.status.busy": "2023-07-13T17:48:27.790976Z",
     "iopub.status.idle": "2023-07-13T17:48:27.799572Z",
     "shell.execute_reply": "2023-07-13T17:48:27.798331Z"
    },
    "papermill": {
     "duration": 0.018376,
     "end_time": "2023-07-13T17:48:27.801673",
     "exception": false,
     "start_time": "2023-07-13T17:48:27.783297",
     "status": "completed"
    },
    "tags": []
   },
   "outputs": [
    {
     "data": {
      "text/plain": [
       "STATION             object\n",
       "Country/Region      object\n",
       "DATE                object\n",
       "Year                 int64\n",
       "Month                int64\n",
       "Day                  int64\n",
       "PRCP               float64\n",
       "SNWD               float64\n",
       "TAVG               float64\n",
       "TMAX               float64\n",
       "TMIN               float64\n",
       "SNOW               float64\n",
       "LATITUDE           float64\n",
       "LONGITUDE          float64\n",
       "ELEVATION          float64\n",
       "PRCP_ATTRIBUTES     object\n",
       "TAVG_ATTRIBUTES     object\n",
       "TMAX_ATTRIBUTES     object\n",
       "TMIN_ATTRIBUTES     object\n",
       "DAPR               float64\n",
       "MDPR               float64\n",
       "WESD               float64\n",
       "SNWD_ATTRIBUTES     object\n",
       "dtype: object"
      ]
     },
     "execution_count": 7,
     "metadata": {},
     "output_type": "execute_result"
    }
   ],
   "source": [
    "df.dtypes"
   ]
  },
  {
   "cell_type": "code",
   "execution_count": 8,
   "id": "7fea76b1",
   "metadata": {
    "execution": {
     "iopub.execute_input": "2023-07-13T17:48:27.817318Z",
     "iopub.status.busy": "2023-07-13T17:48:27.816525Z",
     "iopub.status.idle": "2023-07-13T17:48:28.850022Z",
     "shell.execute_reply": "2023-07-13T17:48:28.849095Z"
    },
    "papermill": {
     "duration": 1.042783,
     "end_time": "2023-07-13T17:48:28.851961",
     "exception": false,
     "start_time": "2023-07-13T17:48:27.809178",
     "status": "completed"
    },
    "tags": []
   },
   "outputs": [
    {
     "data": {
      "text/plain": [
       "STATION                  0\n",
       "Country/Region           0\n",
       "DATE                     0\n",
       "Year                     0\n",
       "Month                    0\n",
       "Day                      0\n",
       "PRCP                310113\n",
       "SNWD                834223\n",
       "TAVG                236346\n",
       "TMAX                381734\n",
       "TMIN                354209\n",
       "SNOW                944584\n",
       "LATITUDE            946268\n",
       "LONGITUDE           946268\n",
       "ELEVATION           946268\n",
       "PRCP_ATTRIBUTES    1042568\n",
       "TAVG_ATTRIBUTES    1044725\n",
       "TMAX_ATTRIBUTES    1042938\n",
       "TMIN_ATTRIBUTES    1042701\n",
       "DAPR               1047312\n",
       "MDPR               1048494\n",
       "WESD               1048573\n",
       "SNWD_ATTRIBUTES    1048221\n",
       "dtype: int64"
      ]
     },
     "execution_count": 8,
     "metadata": {},
     "output_type": "execute_result"
    }
   ],
   "source": [
    "df.isnull().sum()"
   ]
  },
  {
   "cell_type": "code",
   "execution_count": 9,
   "id": "b7f0640a",
   "metadata": {
    "execution": {
     "iopub.execute_input": "2023-07-13T17:48:28.866675Z",
     "iopub.status.busy": "2023-07-13T17:48:28.866293Z",
     "iopub.status.idle": "2023-07-13T17:48:29.681898Z",
     "shell.execute_reply": "2023-07-13T17:48:29.680695Z"
    },
    "papermill": {
     "duration": 0.825215,
     "end_time": "2023-07-13T17:48:29.683739",
     "exception": false,
     "start_time": "2023-07-13T17:48:28.858524",
     "status": "completed"
    },
    "tags": []
   },
   "outputs": [
    {
     "data": {
      "text/plain": [
       "22456"
      ]
     },
     "execution_count": 9,
     "metadata": {},
     "output_type": "execute_result"
    }
   ],
   "source": [
    "df.duplicated().sum()"
   ]
  },
  {
   "cell_type": "code",
   "execution_count": 10,
   "id": "3fffc38f",
   "metadata": {
    "execution": {
     "iopub.execute_input": "2023-07-13T17:48:29.697813Z",
     "iopub.status.busy": "2023-07-13T17:48:29.697525Z",
     "iopub.status.idle": "2023-07-13T17:48:30.679446Z",
     "shell.execute_reply": "2023-07-13T17:48:30.678164Z"
    },
    "papermill": {
     "duration": 0.991773,
     "end_time": "2023-07-13T17:48:30.681831",
     "exception": false,
     "start_time": "2023-07-13T17:48:29.690058",
     "status": "completed"
    },
    "tags": []
   },
   "outputs": [],
   "source": [
    "df = df.drop_duplicates()"
   ]
  },
  {
   "cell_type": "code",
   "execution_count": 11,
   "id": "aff6dc9a",
   "metadata": {
    "execution": {
     "iopub.execute_input": "2023-07-13T17:48:30.695888Z",
     "iopub.status.busy": "2023-07-13T17:48:30.695583Z",
     "iopub.status.idle": "2023-07-13T17:48:30.701760Z",
     "shell.execute_reply": "2023-07-13T17:48:30.700733Z"
    },
    "papermill": {
     "duration": 0.015466,
     "end_time": "2023-07-13T17:48:30.703670",
     "exception": false,
     "start_time": "2023-07-13T17:48:30.688204",
     "status": "completed"
    },
    "tags": []
   },
   "outputs": [
    {
     "data": {
      "text/plain": [
       "(1026119, 23)"
      ]
     },
     "execution_count": 11,
     "metadata": {},
     "output_type": "execute_result"
    }
   ],
   "source": [
    "df.shape"
   ]
  },
  {
   "cell_type": "code",
   "execution_count": 12,
   "id": "2e8b4d0a",
   "metadata": {
    "execution": {
     "iopub.execute_input": "2023-07-13T17:48:30.718210Z",
     "iopub.status.busy": "2023-07-13T17:48:30.717861Z",
     "iopub.status.idle": "2023-07-13T17:48:30.780871Z",
     "shell.execute_reply": "2023-07-13T17:48:30.780020Z"
    },
    "papermill": {
     "duration": 0.072526,
     "end_time": "2023-07-13T17:48:30.782697",
     "exception": false,
     "start_time": "2023-07-13T17:48:30.710171",
     "status": "completed"
    },
    "tags": []
   },
   "outputs": [
    {
     "data": {
      "text/plain": [
       "(23007, 23)"
      ]
     },
     "execution_count": 12,
     "metadata": {},
     "output_type": "execute_result"
    }
   ],
   "source": [
    "india = df[df['Country/Region'] == 'India']\n",
    "india.shape"
   ]
  },
  {
   "cell_type": "code",
   "execution_count": 13,
   "id": "0e5aea26",
   "metadata": {
    "execution": {
     "iopub.execute_input": "2023-07-13T17:48:30.797043Z",
     "iopub.status.busy": "2023-07-13T17:48:30.796758Z",
     "iopub.status.idle": "2023-07-13T17:48:30.816367Z",
     "shell.execute_reply": "2023-07-13T17:48:30.815314Z"
    },
    "papermill": {
     "duration": 0.029543,
     "end_time": "2023-07-13T17:48:30.818912",
     "exception": false,
     "start_time": "2023-07-13T17:48:30.789369",
     "status": "completed"
    },
    "tags": []
   },
   "outputs": [
    {
     "data": {
      "text/html": [
       "<div>\n",
       "<style scoped>\n",
       "    .dataframe tbody tr th:only-of-type {\n",
       "        vertical-align: middle;\n",
       "    }\n",
       "\n",
       "    .dataframe tbody tr th {\n",
       "        vertical-align: top;\n",
       "    }\n",
       "\n",
       "    .dataframe thead th {\n",
       "        text-align: right;\n",
       "    }\n",
       "</style>\n",
       "<table border=\"1\" class=\"dataframe\">\n",
       "  <thead>\n",
       "    <tr style=\"text-align: right;\">\n",
       "      <th></th>\n",
       "      <th>STATION</th>\n",
       "      <th>Country/Region</th>\n",
       "      <th>DATE</th>\n",
       "      <th>Year</th>\n",
       "      <th>Month</th>\n",
       "      <th>Day</th>\n",
       "      <th>PRCP</th>\n",
       "      <th>SNWD</th>\n",
       "      <th>TAVG</th>\n",
       "      <th>TMAX</th>\n",
       "      <th>TMIN</th>\n",
       "      <th>SNOW</th>\n",
       "      <th>LATITUDE</th>\n",
       "      <th>LONGITUDE</th>\n",
       "      <th>ELEVATION</th>\n",
       "      <th>PRCP_ATTRIBUTES</th>\n",
       "      <th>TAVG_ATTRIBUTES</th>\n",
       "      <th>TMAX_ATTRIBUTES</th>\n",
       "      <th>TMIN_ATTRIBUTES</th>\n",
       "      <th>DAPR</th>\n",
       "      <th>MDPR</th>\n",
       "      <th>WESD</th>\n",
       "      <th>SNWD_ATTRIBUTES</th>\n",
       "    </tr>\n",
       "  </thead>\n",
       "  <tbody>\n",
       "    <tr>\n",
       "      <th>589897</th>\n",
       "      <td>IN017111200</td>\n",
       "      <td>India</td>\n",
       "      <td>2020-01-22</td>\n",
       "      <td>2020</td>\n",
       "      <td>1</td>\n",
       "      <td>22</td>\n",
       "      <td>NaN</td>\n",
       "      <td>NaN</td>\n",
       "      <td>22.5</td>\n",
       "      <td>NaN</td>\n",
       "      <td>16.1</td>\n",
       "      <td>NaN</td>\n",
       "      <td>NaN</td>\n",
       "      <td>NaN</td>\n",
       "      <td>NaN</td>\n",
       "      <td>NaN</td>\n",
       "      <td>NaN</td>\n",
       "      <td>NaN</td>\n",
       "      <td>NaN</td>\n",
       "      <td>NaN</td>\n",
       "      <td>NaN</td>\n",
       "      <td>NaN</td>\n",
       "      <td>NaN</td>\n",
       "    </tr>\n",
       "    <tr>\n",
       "      <th>589898</th>\n",
       "      <td>IN017111200</td>\n",
       "      <td>India</td>\n",
       "      <td>2020-01-23</td>\n",
       "      <td>2020</td>\n",
       "      <td>1</td>\n",
       "      <td>23</td>\n",
       "      <td>NaN</td>\n",
       "      <td>NaN</td>\n",
       "      <td>24.1</td>\n",
       "      <td>NaN</td>\n",
       "      <td>18.5</td>\n",
       "      <td>NaN</td>\n",
       "      <td>NaN</td>\n",
       "      <td>NaN</td>\n",
       "      <td>NaN</td>\n",
       "      <td>NaN</td>\n",
       "      <td>NaN</td>\n",
       "      <td>NaN</td>\n",
       "      <td>NaN</td>\n",
       "      <td>NaN</td>\n",
       "      <td>NaN</td>\n",
       "      <td>NaN</td>\n",
       "      <td>NaN</td>\n",
       "    </tr>\n",
       "    <tr>\n",
       "      <th>589899</th>\n",
       "      <td>IN017111200</td>\n",
       "      <td>India</td>\n",
       "      <td>2020-01-24</td>\n",
       "      <td>2020</td>\n",
       "      <td>1</td>\n",
       "      <td>24</td>\n",
       "      <td>NaN</td>\n",
       "      <td>NaN</td>\n",
       "      <td>23.2</td>\n",
       "      <td>NaN</td>\n",
       "      <td>NaN</td>\n",
       "      <td>NaN</td>\n",
       "      <td>NaN</td>\n",
       "      <td>NaN</td>\n",
       "      <td>NaN</td>\n",
       "      <td>NaN</td>\n",
       "      <td>NaN</td>\n",
       "      <td>NaN</td>\n",
       "      <td>NaN</td>\n",
       "      <td>NaN</td>\n",
       "      <td>NaN</td>\n",
       "      <td>NaN</td>\n",
       "      <td>NaN</td>\n",
       "    </tr>\n",
       "    <tr>\n",
       "      <th>589900</th>\n",
       "      <td>IN017111200</td>\n",
       "      <td>India</td>\n",
       "      <td>2020-01-25</td>\n",
       "      <td>2020</td>\n",
       "      <td>1</td>\n",
       "      <td>25</td>\n",
       "      <td>NaN</td>\n",
       "      <td>NaN</td>\n",
       "      <td>21.4</td>\n",
       "      <td>NaN</td>\n",
       "      <td>NaN</td>\n",
       "      <td>NaN</td>\n",
       "      <td>NaN</td>\n",
       "      <td>NaN</td>\n",
       "      <td>NaN</td>\n",
       "      <td>NaN</td>\n",
       "      <td>NaN</td>\n",
       "      <td>NaN</td>\n",
       "      <td>NaN</td>\n",
       "      <td>NaN</td>\n",
       "      <td>NaN</td>\n",
       "      <td>NaN</td>\n",
       "      <td>NaN</td>\n",
       "    </tr>\n",
       "    <tr>\n",
       "      <th>589901</th>\n",
       "      <td>IN017111200</td>\n",
       "      <td>India</td>\n",
       "      <td>2020-01-26</td>\n",
       "      <td>2020</td>\n",
       "      <td>1</td>\n",
       "      <td>26</td>\n",
       "      <td>NaN</td>\n",
       "      <td>NaN</td>\n",
       "      <td>21.3</td>\n",
       "      <td>NaN</td>\n",
       "      <td>NaN</td>\n",
       "      <td>NaN</td>\n",
       "      <td>NaN</td>\n",
       "      <td>NaN</td>\n",
       "      <td>NaN</td>\n",
       "      <td>NaN</td>\n",
       "      <td>NaN</td>\n",
       "      <td>NaN</td>\n",
       "      <td>NaN</td>\n",
       "      <td>NaN</td>\n",
       "      <td>NaN</td>\n",
       "      <td>NaN</td>\n",
       "      <td>NaN</td>\n",
       "    </tr>\n",
       "  </tbody>\n",
       "</table>\n",
       "</div>"
      ],
      "text/plain": [
       "            STATION Country/Region        DATE  Year  Month  Day  PRCP  SNWD  \\\n",
       "589897  IN017111200          India  2020-01-22  2020      1   22   NaN   NaN   \n",
       "589898  IN017111200          India  2020-01-23  2020      1   23   NaN   NaN   \n",
       "589899  IN017111200          India  2020-01-24  2020      1   24   NaN   NaN   \n",
       "589900  IN017111200          India  2020-01-25  2020      1   25   NaN   NaN   \n",
       "589901  IN017111200          India  2020-01-26  2020      1   26   NaN   NaN   \n",
       "\n",
       "        TAVG  TMAX  TMIN  SNOW  LATITUDE  LONGITUDE  ELEVATION  \\\n",
       "589897  22.5   NaN  16.1   NaN       NaN        NaN        NaN   \n",
       "589898  24.1   NaN  18.5   NaN       NaN        NaN        NaN   \n",
       "589899  23.2   NaN   NaN   NaN       NaN        NaN        NaN   \n",
       "589900  21.4   NaN   NaN   NaN       NaN        NaN        NaN   \n",
       "589901  21.3   NaN   NaN   NaN       NaN        NaN        NaN   \n",
       "\n",
       "       PRCP_ATTRIBUTES TAVG_ATTRIBUTES TMAX_ATTRIBUTES TMIN_ATTRIBUTES  DAPR  \\\n",
       "589897             NaN             NaN             NaN             NaN   NaN   \n",
       "589898             NaN             NaN             NaN             NaN   NaN   \n",
       "589899             NaN             NaN             NaN             NaN   NaN   \n",
       "589900             NaN             NaN             NaN             NaN   NaN   \n",
       "589901             NaN             NaN             NaN             NaN   NaN   \n",
       "\n",
       "        MDPR  WESD SNWD_ATTRIBUTES  \n",
       "589897   NaN   NaN             NaN  \n",
       "589898   NaN   NaN             NaN  \n",
       "589899   NaN   NaN             NaN  \n",
       "589900   NaN   NaN             NaN  \n",
       "589901   NaN   NaN             NaN  "
      ]
     },
     "execution_count": 13,
     "metadata": {},
     "output_type": "execute_result"
    }
   ],
   "source": [
    "india.head(\n",
    ")"
   ]
  },
  {
   "cell_type": "code",
   "execution_count": 14,
   "id": "18c83301",
   "metadata": {
    "execution": {
     "iopub.execute_input": "2023-07-13T17:48:30.834225Z",
     "iopub.status.busy": "2023-07-13T17:48:30.833886Z",
     "iopub.status.idle": "2023-07-13T17:48:30.864958Z",
     "shell.execute_reply": "2023-07-13T17:48:30.863898Z"
    },
    "papermill": {
     "duration": 0.041105,
     "end_time": "2023-07-13T17:48:30.866998",
     "exception": false,
     "start_time": "2023-07-13T17:48:30.825893",
     "status": "completed"
    },
    "tags": []
   },
   "outputs": [
    {
     "data": {
      "text/plain": [
       "STATION                0\n",
       "Country/Region         0\n",
       "DATE                   0\n",
       "Year                   0\n",
       "Month                  0\n",
       "Day                    0\n",
       "PRCP               15145\n",
       "SNWD               23007\n",
       "TAVG                   0\n",
       "TMAX               13111\n",
       "TMIN                4037\n",
       "SNOW               23007\n",
       "LATITUDE           23007\n",
       "LONGITUDE          23007\n",
       "ELEVATION          23007\n",
       "PRCP_ATTRIBUTES    23007\n",
       "TAVG_ATTRIBUTES    23007\n",
       "TMAX_ATTRIBUTES    23007\n",
       "TMIN_ATTRIBUTES    23007\n",
       "DAPR               23007\n",
       "MDPR               23007\n",
       "WESD               23007\n",
       "SNWD_ATTRIBUTES    23007\n",
       "dtype: int64"
      ]
     },
     "execution_count": 14,
     "metadata": {},
     "output_type": "execute_result"
    }
   ],
   "source": [
    "india.isnull().sum()"
   ]
  },
  {
   "cell_type": "code",
   "execution_count": 15,
   "id": "bc25956b",
   "metadata": {
    "execution": {
     "iopub.execute_input": "2023-07-13T17:48:30.883275Z",
     "iopub.status.busy": "2023-07-13T17:48:30.882083Z",
     "iopub.status.idle": "2023-07-13T17:48:30.891199Z",
     "shell.execute_reply": "2023-07-13T17:48:30.890292Z"
    },
    "papermill": {
     "duration": 0.019066,
     "end_time": "2023-07-13T17:48:30.893060",
     "exception": false,
     "start_time": "2023-07-13T17:48:30.873994",
     "status": "completed"
    },
    "tags": []
   },
   "outputs": [
    {
     "data": {
      "text/plain": [
       "2020    23007\n",
       "Name: Year, dtype: int64"
      ]
     },
     "execution_count": 15,
     "metadata": {},
     "output_type": "execute_result"
    }
   ],
   "source": [
    "india['Year'].value_counts()"
   ]
  },
  {
   "cell_type": "code",
   "execution_count": 16,
   "id": "4c0fe48a",
   "metadata": {
    "execution": {
     "iopub.execute_input": "2023-07-13T17:48:30.909895Z",
     "iopub.status.busy": "2023-07-13T17:48:30.908778Z",
     "iopub.status.idle": "2023-07-13T17:48:31.006632Z",
     "shell.execute_reply": "2023-07-13T17:48:31.005462Z"
    },
    "papermill": {
     "duration": 0.1087,
     "end_time": "2023-07-13T17:48:31.009217",
     "exception": false,
     "start_time": "2023-07-13T17:48:30.900517",
     "status": "completed"
    },
    "tags": []
   },
   "outputs": [
    {
     "data": {
      "text/plain": [
       "(251186, 23)"
      ]
     },
     "execution_count": 16,
     "metadata": {},
     "output_type": "execute_result"
    }
   ],
   "source": [
    "canada = df[df['Country/Region'] == 'Canada']\n",
    "canada.shape"
   ]
  },
  {
   "cell_type": "code",
   "execution_count": 17,
   "id": "f97dc5c5",
   "metadata": {
    "execution": {
     "iopub.execute_input": "2023-07-13T17:48:31.025791Z",
     "iopub.status.busy": "2023-07-13T17:48:31.025458Z",
     "iopub.status.idle": "2023-07-13T17:48:31.278400Z",
     "shell.execute_reply": "2023-07-13T17:48:31.277160Z"
    },
    "papermill": {
     "duration": 0.263627,
     "end_time": "2023-07-13T17:48:31.280362",
     "exception": false,
     "start_time": "2023-07-13T17:48:31.016735",
     "status": "completed"
    },
    "tags": []
   },
   "outputs": [
    {
     "data": {
      "text/plain": [
       "STATION                 0\n",
       "Country/Region          0\n",
       "DATE                    0\n",
       "Year                    0\n",
       "Month                   0\n",
       "Day                     0\n",
       "PRCP                26896\n",
       "SNWD               157283\n",
       "TAVG                99090\n",
       "TMAX                90022\n",
       "TMIN                90088\n",
       "SNOW               153100\n",
       "LATITUDE           238186\n",
       "LONGITUDE          238186\n",
       "ELEVATION          238186\n",
       "PRCP_ATTRIBUTES    251186\n",
       "TAVG_ATTRIBUTES    251186\n",
       "TMAX_ATTRIBUTES    251186\n",
       "TMIN_ATTRIBUTES    251186\n",
       "DAPR               250007\n",
       "MDPR               251186\n",
       "WESD               251186\n",
       "SNWD_ATTRIBUTES    251186\n",
       "dtype: int64"
      ]
     },
     "execution_count": 17,
     "metadata": {},
     "output_type": "execute_result"
    }
   ],
   "source": [
    "canada.isnull().sum()"
   ]
  },
  {
   "cell_type": "code",
   "execution_count": 18,
   "id": "ad7119a9",
   "metadata": {
    "execution": {
     "iopub.execute_input": "2023-07-13T17:48:31.296539Z",
     "iopub.status.busy": "2023-07-13T17:48:31.296237Z",
     "iopub.status.idle": "2023-07-13T17:48:31.348499Z",
     "shell.execute_reply": "2023-07-13T17:48:31.347308Z"
    },
    "papermill": {
     "duration": 0.062675,
     "end_time": "2023-07-13T17:48:31.350661",
     "exception": false,
     "start_time": "2023-07-13T17:48:31.287986",
     "status": "completed"
    },
    "tags": []
   },
   "outputs": [
    {
     "data": {
      "text/plain": [
       "Canada          251186\n",
       "Russia           91988\n",
       "Netherlands      64137\n",
       "Finland          43937\n",
       "China            38949\n",
       "                 ...  \n",
       "Suriname           187\n",
       "Liberia            183\n",
       "Zimbabwe           166\n",
       "Sierra Leone       101\n",
       "Zambia              13\n",
       "Name: Country/Region, Length: 155, dtype: int64"
      ]
     },
     "execution_count": 18,
     "metadata": {},
     "output_type": "execute_result"
    }
   ],
   "source": [
    "df['Country/Region'].value_counts()"
   ]
  },
  {
   "cell_type": "code",
   "execution_count": 19,
   "id": "99685fe3",
   "metadata": {
    "execution": {
     "iopub.execute_input": "2023-07-13T17:48:31.367490Z",
     "iopub.status.busy": "2023-07-13T17:48:31.367156Z",
     "iopub.status.idle": "2023-07-13T17:48:42.329929Z",
     "shell.execute_reply": "2023-07-13T17:48:42.328448Z"
    },
    "papermill": {
     "duration": 10.974413,
     "end_time": "2023-07-13T17:48:42.332617",
     "exception": false,
     "start_time": "2023-07-13T17:48:31.358204",
     "status": "completed"
    },
    "tags": []
   },
   "outputs": [
    {
     "name": "stdout",
     "output_type": "stream",
     "text": [
      "Collecting sweetviz\r\n",
      "  Downloading sweetviz-2.1.4-py3-none-any.whl (15.1 MB)\r\n",
      "\u001b[2K     \u001b[90m━━━━━━━━━━━━━━━━━━━━━━━━━━━━━━━━━━━━━━━━\u001b[0m \u001b[32m15.1/15.1 MB\u001b[0m \u001b[31m76.3 MB/s\u001b[0m eta \u001b[36m0:00:00\u001b[0m\r\n",
      "\u001b[?25hRequirement already satisfied: pandas!=1.0.0,!=1.0.1,!=1.0.2,>=0.25.3 in /opt/conda/lib/python3.10/site-packages (from sweetviz) (1.5.3)\r\n",
      "Requirement already satisfied: numpy>=1.16.0 in /opt/conda/lib/python3.10/site-packages (from sweetviz) (1.23.5)\r\n",
      "Requirement already satisfied: matplotlib>=3.1.3 in /opt/conda/lib/python3.10/site-packages (from sweetviz) (3.7.1)\r\n",
      "Requirement already satisfied: tqdm>=4.43.0 in /opt/conda/lib/python3.10/site-packages (from sweetviz) (4.65.0)\r\n",
      "Requirement already satisfied: scipy>=1.3.2 in /opt/conda/lib/python3.10/site-packages (from sweetviz) (1.11.1)\r\n",
      "Requirement already satisfied: jinja2>=2.11.1 in /opt/conda/lib/python3.10/site-packages (from sweetviz) (3.1.2)\r\n",
      "Requirement already satisfied: importlib-resources>=1.2.0 in /opt/conda/lib/python3.10/site-packages (from sweetviz) (5.12.0)\r\n",
      "Requirement already satisfied: MarkupSafe>=2.0 in /opt/conda/lib/python3.10/site-packages (from jinja2>=2.11.1->sweetviz) (2.1.3)\r\n",
      "Requirement already satisfied: contourpy>=1.0.1 in /opt/conda/lib/python3.10/site-packages (from matplotlib>=3.1.3->sweetviz) (1.1.0)\r\n",
      "Requirement already satisfied: cycler>=0.10 in /opt/conda/lib/python3.10/site-packages (from matplotlib>=3.1.3->sweetviz) (0.11.0)\r\n",
      "Requirement already satisfied: fonttools>=4.22.0 in /opt/conda/lib/python3.10/site-packages (from matplotlib>=3.1.3->sweetviz) (4.40.0)\r\n",
      "Requirement already satisfied: kiwisolver>=1.0.1 in /opt/conda/lib/python3.10/site-packages (from matplotlib>=3.1.3->sweetviz) (1.4.4)\r\n",
      "Requirement already satisfied: packaging>=20.0 in /opt/conda/lib/python3.10/site-packages (from matplotlib>=3.1.3->sweetviz) (21.3)\r\n",
      "Requirement already satisfied: pillow>=6.2.0 in /opt/conda/lib/python3.10/site-packages (from matplotlib>=3.1.3->sweetviz) (9.5.0)\r\n",
      "Requirement already satisfied: pyparsing>=2.3.1 in /opt/conda/lib/python3.10/site-packages (from matplotlib>=3.1.3->sweetviz) (3.0.9)\r\n",
      "Requirement already satisfied: python-dateutil>=2.7 in /opt/conda/lib/python3.10/site-packages (from matplotlib>=3.1.3->sweetviz) (2.8.2)\r\n",
      "Requirement already satisfied: pytz>=2020.1 in /opt/conda/lib/python3.10/site-packages (from pandas!=1.0.0,!=1.0.1,!=1.0.2,>=0.25.3->sweetviz) (2023.3)\r\n",
      "Requirement already satisfied: six>=1.5 in /opt/conda/lib/python3.10/site-packages (from python-dateutil>=2.7->matplotlib>=3.1.3->sweetviz) (1.16.0)\r\n",
      "Installing collected packages: sweetviz\r\n",
      "Successfully installed sweetviz-2.1.4\r\n"
     ]
    }
   ],
   "source": [
    "!pip install sweetviz"
   ]
  },
  {
   "cell_type": "code",
   "execution_count": 20,
   "id": "141a9a31",
   "metadata": {
    "execution": {
     "iopub.execute_input": "2023-07-13T17:48:42.351394Z",
     "iopub.status.busy": "2023-07-13T17:48:42.351012Z",
     "iopub.status.idle": "2023-07-13T17:48:47.841758Z",
     "shell.execute_reply": "2023-07-13T17:48:47.840961Z"
    },
    "papermill": {
     "duration": 5.502494,
     "end_time": "2023-07-13T17:48:47.843576",
     "exception": false,
     "start_time": "2023-07-13T17:48:42.341082",
     "status": "completed"
    },
    "tags": []
   },
   "outputs": [
    {
     "name": "stderr",
     "output_type": "stream",
     "text": [
      "/opt/conda/lib/python3.10/site-packages/scipy/__init__.py:146: UserWarning: A NumPy version >=1.16.5 and <1.23.0 is required for this version of SciPy (detected version 1.23.5\n",
      "  warnings.warn(f\"A NumPy version >={np_minversion} and <{np_maxversion}\"\n"
     ]
    },
    {
     "data": {
      "application/vnd.jupyter.widget-view+json": {
       "model_id": "24f7227eff9248edb9ddad3f1e09ee82",
       "version_major": 2,
       "version_minor": 0
      },
      "text/plain": [
       "                                             |          | [  0%]   00:00 -> (? left)"
      ]
     },
     "metadata": {},
     "output_type": "display_data"
    },
    {
     "name": "stdout",
     "output_type": "stream",
     "text": [
      "Download Html file from output and Run in your Browser\n"
     ]
    }
   ],
   "source": [
    "import sweetviz as sv\n",
    "import warnings\n",
    "\n",
    "# Ignore all warnings\n",
    "warnings.filterwarnings('ignore')\n",
    "# Analyze data\n",
    "my_report = sv.analyze(india)\n",
    "print(\"Download Html file from output and Run in your Browser\")"
   ]
  },
  {
   "cell_type": "code",
   "execution_count": 21,
   "id": "84b0a593",
   "metadata": {
    "execution": {
     "iopub.execute_input": "2023-07-13T17:48:47.867349Z",
     "iopub.status.busy": "2023-07-13T17:48:47.866170Z",
     "iopub.status.idle": "2023-07-13T17:50:50.644235Z",
     "shell.execute_reply": "2023-07-13T17:50:50.643318Z"
    },
    "papermill": {
     "duration": 122.793977,
     "end_time": "2023-07-13T17:50:50.648357",
     "exception": false,
     "start_time": "2023-07-13T17:48:47.854380",
     "status": "completed"
    },
    "tags": []
   },
   "outputs": [
    {
     "data": {
      "application/vnd.jupyter.widget-view+json": {
       "model_id": "ca6c4e4b2d7c4f9eb823ca03a2cc4d50",
       "version_major": 2,
       "version_minor": 0
      },
      "text/plain": [
       "                                             |          | [  0%]   00:00 -> (? left)"
      ]
     },
     "metadata": {},
     "output_type": "display_data"
    },
    {
     "name": "stdout",
     "output_type": "stream",
     "text": [
      "Download Html file from output and Run in your Browser\n"
     ]
    }
   ],
   "source": [
    "my_report1 = sv.analyze(df)\n",
    "print(\"Download Html file from output and Run in your Browser\")"
   ]
  },
  {
   "cell_type": "code",
   "execution_count": 22,
   "id": "0f166ab1",
   "metadata": {
    "execution": {
     "iopub.execute_input": "2023-07-13T17:50:50.673871Z",
     "iopub.status.busy": "2023-07-13T17:50:50.672568Z",
     "iopub.status.idle": "2023-07-13T17:50:50.877774Z",
     "shell.execute_reply": "2023-07-13T17:50:50.876213Z"
    },
    "papermill": {
     "duration": 0.220763,
     "end_time": "2023-07-13T17:50:50.880363",
     "exception": false,
     "start_time": "2023-07-13T17:50:50.659600",
     "status": "completed"
    },
    "tags": []
   },
   "outputs": [
    {
     "name": "stdout",
     "output_type": "stream",
     "text": [
      "Report /kaggle/working/SWEETVIZ_REPORT.html was generated! NOTEBOOK/COLAB USERS: the web browser MAY not pop up, regardless, the report IS saved in your notebook/colab files.\n"
     ]
    }
   ],
   "source": [
    "my_report.show_html(filepath='/kaggle/working/SWEETVIZ_REPORT.html', open_browser=True)"
   ]
  },
  {
   "cell_type": "code",
   "execution_count": 23,
   "id": "987bf758",
   "metadata": {
    "execution": {
     "iopub.execute_input": "2023-07-13T17:50:50.899768Z",
     "iopub.status.busy": "2023-07-13T17:50:50.899369Z",
     "iopub.status.idle": "2023-07-13T17:50:50.905396Z",
     "shell.execute_reply": "2023-07-13T17:50:50.904497Z"
    },
    "papermill": {
     "duration": 0.01778,
     "end_time": "2023-07-13T17:50:50.907026",
     "exception": false,
     "start_time": "2023-07-13T17:50:50.889246",
     "status": "completed"
    },
    "tags": []
   },
   "outputs": [
    {
     "data": {
      "text/html": [
       "<iframe src=\"SWEETVIZ_REPORT.html\" width=1400 height=800></iframe>"
      ],
      "text/plain": [
       "<IPython.core.display.HTML object>"
      ]
     },
     "execution_count": 23,
     "metadata": {},
     "output_type": "execute_result"
    }
   ],
   "source": [
    "from IPython.display import HTML\n",
    "HTML('<iframe src=\"SWEETVIZ_REPORT.html\" width=1400 height=800></iframe>')"
   ]
  },
  {
   "cell_type": "code",
   "execution_count": 24,
   "id": "3df5ef3c",
   "metadata": {
    "execution": {
     "iopub.execute_input": "2023-07-13T17:50:50.926781Z",
     "iopub.status.busy": "2023-07-13T17:50:50.926451Z",
     "iopub.status.idle": "2023-07-13T17:50:50.958376Z",
     "shell.execute_reply": "2023-07-13T17:50:50.957072Z"
    },
    "papermill": {
     "duration": 0.04451,
     "end_time": "2023-07-13T17:50:50.960826",
     "exception": false,
     "start_time": "2023-07-13T17:50:50.916316",
     "status": "completed"
    },
    "tags": []
   },
   "outputs": [
    {
     "name": "stdout",
     "output_type": "stream",
     "text": [
      "Report /kaggle/working/SWEETVIZ_REPORT.html was generated! NOTEBOOK/COLAB USERS: the web browser MAY not pop up, regardless, the report IS saved in your notebook/colab files.\n",
      "---\n",
      "WARNING: one or more correlations had an edge-case/error and a 1.0 correlation was assigned\n",
      "(likely due to only a single row containing non-NaN values for both correlated features)\n",
      "Affected correlations:['SNWD/MDPR', 'MDPR/SNWD']\n"
     ]
    }
   ],
   "source": [
    "my_report1.show_html(filepath='/kaggle/working/SWEETVIZ_REPORT.html', open_browser=True)"
   ]
  },
  {
   "cell_type": "code",
   "execution_count": 25,
   "id": "5e751c32",
   "metadata": {
    "execution": {
     "iopub.execute_input": "2023-07-13T17:50:50.981442Z",
     "iopub.status.busy": "2023-07-13T17:50:50.980439Z",
     "iopub.status.idle": "2023-07-13T17:50:50.987353Z",
     "shell.execute_reply": "2023-07-13T17:50:50.986422Z"
    },
    "papermill": {
     "duration": 0.020097,
     "end_time": "2023-07-13T17:50:50.990113",
     "exception": false,
     "start_time": "2023-07-13T17:50:50.970016",
     "status": "completed"
    },
    "tags": []
   },
   "outputs": [
    {
     "data": {
      "text/html": [
       "<iframe src=\"SWEETVIZ_REPORT.html\" width=1400 height=800></iframe>"
      ],
      "text/plain": [
       "<IPython.core.display.HTML object>"
      ]
     },
     "execution_count": 25,
     "metadata": {},
     "output_type": "execute_result"
    }
   ],
   "source": [
    "from IPython.display import HTML\n",
    "HTML('<iframe src=\"SWEETVIZ_REPORT.html\" width=1400 height=800></iframe>')"
   ]
  }
 ],
 "metadata": {
  "kernelspec": {
   "display_name": "Python 3",
   "language": "python",
   "name": "python3"
  },
  "language_info": {
   "codemirror_mode": {
    "name": "ipython",
    "version": 3
   },
   "file_extension": ".py",
   "mimetype": "text/x-python",
   "name": "python",
   "nbconvert_exporter": "python",
   "pygments_lexer": "ipython3",
   "version": "3.10.12"
  },
  "papermill": {
   "default_parameters": {},
   "duration": 158.385282,
   "end_time": "2023-07-13T17:50:53.608336",
   "environment_variables": {},
   "exception": null,
   "input_path": "__notebook__.ipynb",
   "output_path": "__notebook__.ipynb",
   "parameters": {},
   "start_time": "2023-07-13T17:48:15.223054",
   "version": "2.4.0"
  },
  "widgets": {
   "application/vnd.jupyter.widget-state+json": {
    "state": {
     "224683bf2b904e6cbe5588cedfd7b202": {
      "model_module": "@jupyter-widgets/controls",
      "model_module_version": "1.5.0",
      "model_name": "FloatProgressModel",
      "state": {
       "_dom_classes": [],
       "_model_module": "@jupyter-widgets/controls",
       "_model_module_version": "1.5.0",
       "_model_name": "FloatProgressModel",
       "_view_count": null,
       "_view_module": "@jupyter-widgets/controls",
       "_view_module_version": "1.5.0",
       "_view_name": "ProgressView",
       "bar_style": "success",
       "description": "",
       "description_tooltip": null,
       "layout": "IPY_MODEL_e884a1da8a504dbc9f1d193c8c1ae590",
       "max": 1.0,
       "min": 0.0,
       "orientation": "horizontal",
       "style": "IPY_MODEL_8a22d6dff6fe4a909e9f83fafd9ee083",
       "value": 1.0
      }
     },
     "24f7227eff9248edb9ddad3f1e09ee82": {
      "model_module": "@jupyter-widgets/controls",
      "model_module_version": "1.5.0",
      "model_name": "HBoxModel",
      "state": {
       "_dom_classes": [],
       "_model_module": "@jupyter-widgets/controls",
       "_model_module_version": "1.5.0",
       "_model_name": "HBoxModel",
       "_view_count": null,
       "_view_module": "@jupyter-widgets/controls",
       "_view_module_version": "1.5.0",
       "_view_name": "HBoxView",
       "box_style": "",
       "children": [
        "IPY_MODEL_ad07784677ba40a98cb74d8fd578b444",
        "IPY_MODEL_c004b54aacef431e9af79716f775f112",
        "IPY_MODEL_c38e6e6914de4c9bbd0ea58b1eddc25c"
       ],
       "layout": "IPY_MODEL_4885d2b357864f47a717e4757a672df0"
      }
     },
     "40160c62c1a54458bac88a5ec7b7e80a": {
      "model_module": "@jupyter-widgets/controls",
      "model_module_version": "1.5.0",
      "model_name": "DescriptionStyleModel",
      "state": {
       "_model_module": "@jupyter-widgets/controls",
       "_model_module_version": "1.5.0",
       "_model_name": "DescriptionStyleModel",
       "_view_count": null,
       "_view_module": "@jupyter-widgets/base",
       "_view_module_version": "1.2.0",
       "_view_name": "StyleView",
       "description_width": ""
      }
     },
     "4885d2b357864f47a717e4757a672df0": {
      "model_module": "@jupyter-widgets/base",
      "model_module_version": "1.2.0",
      "model_name": "LayoutModel",
      "state": {
       "_model_module": "@jupyter-widgets/base",
       "_model_module_version": "1.2.0",
       "_model_name": "LayoutModel",
       "_view_count": null,
       "_view_module": "@jupyter-widgets/base",
       "_view_module_version": "1.2.0",
       "_view_name": "LayoutView",
       "align_content": null,
       "align_items": null,
       "align_self": null,
       "border": null,
       "bottom": null,
       "display": "inline-flex",
       "flex": null,
       "flex_flow": "row wrap",
       "grid_area": null,
       "grid_auto_columns": null,
       "grid_auto_flow": null,
       "grid_auto_rows": null,
       "grid_column": null,
       "grid_gap": null,
       "grid_row": null,
       "grid_template_areas": null,
       "grid_template_columns": null,
       "grid_template_rows": null,
       "height": null,
       "justify_content": null,
       "justify_items": null,
       "left": null,
       "margin": null,
       "max_height": null,
       "max_width": null,
       "min_height": null,
       "min_width": null,
       "object_fit": null,
       "object_position": null,
       "order": null,
       "overflow": null,
       "overflow_x": null,
       "overflow_y": null,
       "padding": null,
       "right": null,
       "top": null,
       "visibility": null,
       "width": "100%"
      }
     },
     "5193f82302f94f1a8159ff1a0b9a211d": {
      "model_module": "@jupyter-widgets/base",
      "model_module_version": "1.2.0",
      "model_name": "LayoutModel",
      "state": {
       "_model_module": "@jupyter-widgets/base",
       "_model_module_version": "1.2.0",
       "_model_name": "LayoutModel",
       "_view_count": null,
       "_view_module": "@jupyter-widgets/base",
       "_view_module_version": "1.2.0",
       "_view_name": "LayoutView",
       "align_content": null,
       "align_items": null,
       "align_self": null,
       "border": null,
       "bottom": null,
       "display": null,
       "flex": null,
       "flex_flow": null,
       "grid_area": null,
       "grid_auto_columns": null,
       "grid_auto_flow": null,
       "grid_auto_rows": null,
       "grid_column": null,
       "grid_gap": null,
       "grid_row": null,
       "grid_template_areas": null,
       "grid_template_columns": null,
       "grid_template_rows": null,
       "height": null,
       "justify_content": null,
       "justify_items": null,
       "left": null,
       "margin": null,
       "max_height": null,
       "max_width": null,
       "min_height": null,
       "min_width": null,
       "object_fit": null,
       "object_position": null,
       "order": null,
       "overflow": null,
       "overflow_x": null,
       "overflow_y": null,
       "padding": null,
       "right": null,
       "top": null,
       "visibility": null,
       "width": null
      }
     },
     "844bc0b1629a4daca254922dbf9ad05b": {
      "model_module": "@jupyter-widgets/base",
      "model_module_version": "1.2.0",
      "model_name": "LayoutModel",
      "state": {
       "_model_module": "@jupyter-widgets/base",
       "_model_module_version": "1.2.0",
       "_model_name": "LayoutModel",
       "_view_count": null,
       "_view_module": "@jupyter-widgets/base",
       "_view_module_version": "1.2.0",
       "_view_name": "LayoutView",
       "align_content": null,
       "align_items": null,
       "align_self": null,
       "border": null,
       "bottom": null,
       "display": "inline-flex",
       "flex": null,
       "flex_flow": "row wrap",
       "grid_area": null,
       "grid_auto_columns": null,
       "grid_auto_flow": null,
       "grid_auto_rows": null,
       "grid_column": null,
       "grid_gap": null,
       "grid_row": null,
       "grid_template_areas": null,
       "grid_template_columns": null,
       "grid_template_rows": null,
       "height": null,
       "justify_content": null,
       "justify_items": null,
       "left": null,
       "margin": null,
       "max_height": null,
       "max_width": null,
       "min_height": null,
       "min_width": null,
       "object_fit": null,
       "object_position": null,
       "order": null,
       "overflow": null,
       "overflow_x": null,
       "overflow_y": null,
       "padding": null,
       "right": null,
       "top": null,
       "visibility": null,
       "width": "100%"
      }
     },
     "8a22d6dff6fe4a909e9f83fafd9ee083": {
      "model_module": "@jupyter-widgets/controls",
      "model_module_version": "1.5.0",
      "model_name": "ProgressStyleModel",
      "state": {
       "_model_module": "@jupyter-widgets/controls",
       "_model_module_version": "1.5.0",
       "_model_name": "ProgressStyleModel",
       "_view_count": null,
       "_view_module": "@jupyter-widgets/base",
       "_view_module_version": "1.2.0",
       "_view_name": "StyleView",
       "bar_color": null,
       "description_width": ""
      }
     },
     "9a8f38ec81dd46c6a9db6d8e26ad2e0a": {
      "model_module": "@jupyter-widgets/controls",
      "model_module_version": "1.5.0",
      "model_name": "DescriptionStyleModel",
      "state": {
       "_model_module": "@jupyter-widgets/controls",
       "_model_module_version": "1.5.0",
       "_model_name": "DescriptionStyleModel",
       "_view_count": null,
       "_view_module": "@jupyter-widgets/base",
       "_view_module_version": "1.2.0",
       "_view_name": "StyleView",
       "description_width": ""
      }
     },
     "9b4484bb28324a1e8e26619d79d10d17": {
      "model_module": "@jupyter-widgets/controls",
      "model_module_version": "1.5.0",
      "model_name": "DescriptionStyleModel",
      "state": {
       "_model_module": "@jupyter-widgets/controls",
       "_model_module_version": "1.5.0",
       "_model_name": "DescriptionStyleModel",
       "_view_count": null,
       "_view_module": "@jupyter-widgets/base",
       "_view_module_version": "1.2.0",
       "_view_name": "StyleView",
       "description_width": ""
      }
     },
     "acec89c252d04ece81b054624ddbfd2d": {
      "model_module": "@jupyter-widgets/controls",
      "model_module_version": "1.5.0",
      "model_name": "DescriptionStyleModel",
      "state": {
       "_model_module": "@jupyter-widgets/controls",
       "_model_module_version": "1.5.0",
       "_model_name": "DescriptionStyleModel",
       "_view_count": null,
       "_view_module": "@jupyter-widgets/base",
       "_view_module_version": "1.2.0",
       "_view_name": "StyleView",
       "description_width": ""
      }
     },
     "ad07784677ba40a98cb74d8fd578b444": {
      "model_module": "@jupyter-widgets/controls",
      "model_module_version": "1.5.0",
      "model_name": "HTMLModel",
      "state": {
       "_dom_classes": [],
       "_model_module": "@jupyter-widgets/controls",
       "_model_module_version": "1.5.0",
       "_model_name": "HTMLModel",
       "_view_count": null,
       "_view_module": "@jupyter-widgets/controls",
       "_view_module_version": "1.5.0",
       "_view_name": "HTMLView",
       "description": "",
       "description_tooltip": null,
       "layout": "IPY_MODEL_e2a4a3952eb445cbb8c9e2952a54e67e",
       "placeholder": "​",
       "style": "IPY_MODEL_9b4484bb28324a1e8e26619d79d10d17",
       "value": "Done! Use &#x27;show&#x27; commands to display/save.   "
      }
     },
     "b9366b53b31b473395585c955d253a63": {
      "model_module": "@jupyter-widgets/base",
      "model_module_version": "1.2.0",
      "model_name": "LayoutModel",
      "state": {
       "_model_module": "@jupyter-widgets/base",
       "_model_module_version": "1.2.0",
       "_model_name": "LayoutModel",
       "_view_count": null,
       "_view_module": "@jupyter-widgets/base",
       "_view_module_version": "1.2.0",
       "_view_name": "LayoutView",
       "align_content": null,
       "align_items": null,
       "align_self": null,
       "border": null,
       "bottom": null,
       "display": null,
       "flex": null,
       "flex_flow": null,
       "grid_area": null,
       "grid_auto_columns": null,
       "grid_auto_flow": null,
       "grid_auto_rows": null,
       "grid_column": null,
       "grid_gap": null,
       "grid_row": null,
       "grid_template_areas": null,
       "grid_template_columns": null,
       "grid_template_rows": null,
       "height": null,
       "justify_content": null,
       "justify_items": null,
       "left": null,
       "margin": null,
       "max_height": null,
       "max_width": null,
       "min_height": null,
       "min_width": null,
       "object_fit": null,
       "object_position": null,
       "order": null,
       "overflow": null,
       "overflow_x": null,
       "overflow_y": null,
       "padding": null,
       "right": null,
       "top": null,
       "visibility": null,
       "width": null
      }
     },
     "c004b54aacef431e9af79716f775f112": {
      "model_module": "@jupyter-widgets/controls",
      "model_module_version": "1.5.0",
      "model_name": "FloatProgressModel",
      "state": {
       "_dom_classes": [],
       "_model_module": "@jupyter-widgets/controls",
       "_model_module_version": "1.5.0",
       "_model_name": "FloatProgressModel",
       "_view_count": null,
       "_view_module": "@jupyter-widgets/controls",
       "_view_module_version": "1.5.0",
       "_view_name": "ProgressView",
       "bar_style": "success",
       "description": "",
       "description_tooltip": null,
       "layout": "IPY_MODEL_f359955a6ca94d1299157f5c4f34dd14",
       "max": 1.0,
       "min": 0.0,
       "orientation": "horizontal",
       "style": "IPY_MODEL_eee27b50ca474791b79b81a152d98f68",
       "value": 1.0
      }
     },
     "c1b8c1101cd6421fbb4a152dab9efe03": {
      "model_module": "@jupyter-widgets/base",
      "model_module_version": "1.2.0",
      "model_name": "LayoutModel",
      "state": {
       "_model_module": "@jupyter-widgets/base",
       "_model_module_version": "1.2.0",
       "_model_name": "LayoutModel",
       "_view_count": null,
       "_view_module": "@jupyter-widgets/base",
       "_view_module_version": "1.2.0",
       "_view_name": "LayoutView",
       "align_content": null,
       "align_items": null,
       "align_self": null,
       "border": null,
       "bottom": null,
       "display": null,
       "flex": null,
       "flex_flow": null,
       "grid_area": null,
       "grid_auto_columns": null,
       "grid_auto_flow": null,
       "grid_auto_rows": null,
       "grid_column": null,
       "grid_gap": null,
       "grid_row": null,
       "grid_template_areas": null,
       "grid_template_columns": null,
       "grid_template_rows": null,
       "height": null,
       "justify_content": null,
       "justify_items": null,
       "left": null,
       "margin": null,
       "max_height": null,
       "max_width": null,
       "min_height": null,
       "min_width": null,
       "object_fit": null,
       "object_position": null,
       "order": null,
       "overflow": null,
       "overflow_x": null,
       "overflow_y": null,
       "padding": null,
       "right": null,
       "top": null,
       "visibility": null,
       "width": null
      }
     },
     "c38e6e6914de4c9bbd0ea58b1eddc25c": {
      "model_module": "@jupyter-widgets/controls",
      "model_module_version": "1.5.0",
      "model_name": "HTMLModel",
      "state": {
       "_dom_classes": [],
       "_model_module": "@jupyter-widgets/controls",
       "_model_module_version": "1.5.0",
       "_model_name": "HTMLModel",
       "_view_count": null,
       "_view_module": "@jupyter-widgets/controls",
       "_view_module_version": "1.5.0",
       "_view_name": "HTMLView",
       "description": "",
       "description_tooltip": null,
       "layout": "IPY_MODEL_b9366b53b31b473395585c955d253a63",
       "placeholder": "​",
       "style": "IPY_MODEL_40160c62c1a54458bac88a5ec7b7e80a",
       "value": " [100%]   00:00 -&gt; (00:00 left)"
      }
     },
     "c9c33949fe1546cebee58428699d8e03": {
      "model_module": "@jupyter-widgets/controls",
      "model_module_version": "1.5.0",
      "model_name": "HTMLModel",
      "state": {
       "_dom_classes": [],
       "_model_module": "@jupyter-widgets/controls",
       "_model_module_version": "1.5.0",
       "_model_name": "HTMLModel",
       "_view_count": null,
       "_view_module": "@jupyter-widgets/controls",
       "_view_module_version": "1.5.0",
       "_view_name": "HTMLView",
       "description": "",
       "description_tooltip": null,
       "layout": "IPY_MODEL_5193f82302f94f1a8159ff1a0b9a211d",
       "placeholder": "​",
       "style": "IPY_MODEL_9a8f38ec81dd46c6a9db6d8e26ad2e0a",
       "value": " [100%]   00:01 -&gt; (00:00 left)"
      }
     },
     "ca6c4e4b2d7c4f9eb823ca03a2cc4d50": {
      "model_module": "@jupyter-widgets/controls",
      "model_module_version": "1.5.0",
      "model_name": "HBoxModel",
      "state": {
       "_dom_classes": [],
       "_model_module": "@jupyter-widgets/controls",
       "_model_module_version": "1.5.0",
       "_model_name": "HBoxModel",
       "_view_count": null,
       "_view_module": "@jupyter-widgets/controls",
       "_view_module_version": "1.5.0",
       "_view_name": "HBoxView",
       "box_style": "",
       "children": [
        "IPY_MODEL_f6e1e9fa5eeb40dc9d8ba1be5a8999d9",
        "IPY_MODEL_224683bf2b904e6cbe5588cedfd7b202",
        "IPY_MODEL_c9c33949fe1546cebee58428699d8e03"
       ],
       "layout": "IPY_MODEL_844bc0b1629a4daca254922dbf9ad05b"
      }
     },
     "e2a4a3952eb445cbb8c9e2952a54e67e": {
      "model_module": "@jupyter-widgets/base",
      "model_module_version": "1.2.0",
      "model_name": "LayoutModel",
      "state": {
       "_model_module": "@jupyter-widgets/base",
       "_model_module_version": "1.2.0",
       "_model_name": "LayoutModel",
       "_view_count": null,
       "_view_module": "@jupyter-widgets/base",
       "_view_module_version": "1.2.0",
       "_view_name": "LayoutView",
       "align_content": null,
       "align_items": null,
       "align_self": null,
       "border": null,
       "bottom": null,
       "display": null,
       "flex": null,
       "flex_flow": null,
       "grid_area": null,
       "grid_auto_columns": null,
       "grid_auto_flow": null,
       "grid_auto_rows": null,
       "grid_column": null,
       "grid_gap": null,
       "grid_row": null,
       "grid_template_areas": null,
       "grid_template_columns": null,
       "grid_template_rows": null,
       "height": null,
       "justify_content": null,
       "justify_items": null,
       "left": null,
       "margin": null,
       "max_height": null,
       "max_width": null,
       "min_height": null,
       "min_width": null,
       "object_fit": null,
       "object_position": null,
       "order": null,
       "overflow": null,
       "overflow_x": null,
       "overflow_y": null,
       "padding": null,
       "right": null,
       "top": null,
       "visibility": null,
       "width": null
      }
     },
     "e884a1da8a504dbc9f1d193c8c1ae590": {
      "model_module": "@jupyter-widgets/base",
      "model_module_version": "1.2.0",
      "model_name": "LayoutModel",
      "state": {
       "_model_module": "@jupyter-widgets/base",
       "_model_module_version": "1.2.0",
       "_model_name": "LayoutModel",
       "_view_count": null,
       "_view_module": "@jupyter-widgets/base",
       "_view_module_version": "1.2.0",
       "_view_name": "LayoutView",
       "align_content": null,
       "align_items": null,
       "align_self": null,
       "border": null,
       "bottom": null,
       "display": null,
       "flex": "2",
       "flex_flow": null,
       "grid_area": null,
       "grid_auto_columns": null,
       "grid_auto_flow": null,
       "grid_auto_rows": null,
       "grid_column": null,
       "grid_gap": null,
       "grid_row": null,
       "grid_template_areas": null,
       "grid_template_columns": null,
       "grid_template_rows": null,
       "height": null,
       "justify_content": null,
       "justify_items": null,
       "left": null,
       "margin": null,
       "max_height": null,
       "max_width": null,
       "min_height": null,
       "min_width": null,
       "object_fit": null,
       "object_position": null,
       "order": null,
       "overflow": null,
       "overflow_x": null,
       "overflow_y": null,
       "padding": null,
       "right": null,
       "top": null,
       "visibility": null,
       "width": null
      }
     },
     "eee27b50ca474791b79b81a152d98f68": {
      "model_module": "@jupyter-widgets/controls",
      "model_module_version": "1.5.0",
      "model_name": "ProgressStyleModel",
      "state": {
       "_model_module": "@jupyter-widgets/controls",
       "_model_module_version": "1.5.0",
       "_model_name": "ProgressStyleModel",
       "_view_count": null,
       "_view_module": "@jupyter-widgets/base",
       "_view_module_version": "1.2.0",
       "_view_name": "StyleView",
       "bar_color": null,
       "description_width": ""
      }
     },
     "f359955a6ca94d1299157f5c4f34dd14": {
      "model_module": "@jupyter-widgets/base",
      "model_module_version": "1.2.0",
      "model_name": "LayoutModel",
      "state": {
       "_model_module": "@jupyter-widgets/base",
       "_model_module_version": "1.2.0",
       "_model_name": "LayoutModel",
       "_view_count": null,
       "_view_module": "@jupyter-widgets/base",
       "_view_module_version": "1.2.0",
       "_view_name": "LayoutView",
       "align_content": null,
       "align_items": null,
       "align_self": null,
       "border": null,
       "bottom": null,
       "display": null,
       "flex": "2",
       "flex_flow": null,
       "grid_area": null,
       "grid_auto_columns": null,
       "grid_auto_flow": null,
       "grid_auto_rows": null,
       "grid_column": null,
       "grid_gap": null,
       "grid_row": null,
       "grid_template_areas": null,
       "grid_template_columns": null,
       "grid_template_rows": null,
       "height": null,
       "justify_content": null,
       "justify_items": null,
       "left": null,
       "margin": null,
       "max_height": null,
       "max_width": null,
       "min_height": null,
       "min_width": null,
       "object_fit": null,
       "object_position": null,
       "order": null,
       "overflow": null,
       "overflow_x": null,
       "overflow_y": null,
       "padding": null,
       "right": null,
       "top": null,
       "visibility": null,
       "width": null
      }
     },
     "f6e1e9fa5eeb40dc9d8ba1be5a8999d9": {
      "model_module": "@jupyter-widgets/controls",
      "model_module_version": "1.5.0",
      "model_name": "HTMLModel",
      "state": {
       "_dom_classes": [],
       "_model_module": "@jupyter-widgets/controls",
       "_model_module_version": "1.5.0",
       "_model_name": "HTMLModel",
       "_view_count": null,
       "_view_module": "@jupyter-widgets/controls",
       "_view_module_version": "1.5.0",
       "_view_name": "HTMLView",
       "description": "",
       "description_tooltip": null,
       "layout": "IPY_MODEL_c1b8c1101cd6421fbb4a152dab9efe03",
       "placeholder": "​",
       "style": "IPY_MODEL_acec89c252d04ece81b054624ddbfd2d",
       "value": "Done! Use &#x27;show&#x27; commands to display/save.   "
      }
     }
    },
    "version_major": 2,
    "version_minor": 0
   }
  }
 },
 "nbformat": 4,
 "nbformat_minor": 5
}
