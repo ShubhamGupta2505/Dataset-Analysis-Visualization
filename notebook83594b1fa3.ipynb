{
 "cells": [
  {
   "cell_type": "code",
   "execution_count": 1,
   "id": "a4a99987",
   "metadata": {
    "_cell_guid": "b1076dfc-b9ad-4769-8c92-a6c4dae69d19",
    "_uuid": "8f2839f25d086af736a60e9eeb907d3b93b6e0e5",
    "execution": {
     "iopub.execute_input": "2023-07-12T16:25:48.861703Z",
     "iopub.status.busy": "2023-07-12T16:25:48.861332Z",
     "iopub.status.idle": "2023-07-12T16:25:48.877827Z",
     "shell.execute_reply": "2023-07-12T16:25:48.877026Z"
    },
    "papermill": {
     "duration": 0.025368,
     "end_time": "2023-07-12T16:25:48.879792",
     "exception": false,
     "start_time": "2023-07-12T16:25:48.854424",
     "status": "completed"
    },
    "tags": []
   },
   "outputs": [
    {
     "name": "stdout",
     "output_type": "stream",
     "text": [
      "/kaggle/input/rohit-sharma-centuries/rohit_sharma.csv\n"
     ]
    }
   ],
   "source": [
    "# This Python 3 environment comes with many helpful analytics libraries installed\n",
    "# It is defined by the kaggle/python Docker image: https://github.com/kaggle/docker-python\n",
    "# For example, here's several helpful packages to load\n",
    "\n",
    "import numpy as np # linear algebra\n",
    "import pandas as pd # data processing, CSV file I/O (e.g. pd.read_csv)\n",
    "\n",
    "# Input data files are available in the read-only \"../input/\" directory\n",
    "# For example, running this (by clicking run or pressing Shift+Enter) will list all files under the input directory\n",
    "\n",
    "import os\n",
    "for dirname, _, filenames in os.walk('/kaggle/input'):\n",
    "    for filename in filenames:\n",
    "        print(os.path.join(dirname, filename))\n",
    "\n",
    "# You can write up to 20GB to the current directory (/kaggle/working/) that gets preserved as output when you create a version using \"Save & Run All\" \n",
    "# You can also write temporary files to /kaggle/temp/, but they won't be saved outside of the current session"
   ]
  },
  {
   "cell_type": "code",
   "execution_count": 2,
   "id": "f00beb55",
   "metadata": {
    "execution": {
     "iopub.execute_input": "2023-07-12T16:25:48.892270Z",
     "iopub.status.busy": "2023-07-12T16:25:48.891593Z",
     "iopub.status.idle": "2023-07-12T16:25:48.934736Z",
     "shell.execute_reply": "2023-07-12T16:25:48.933085Z"
    },
    "papermill": {
     "duration": 0.053367,
     "end_time": "2023-07-12T16:25:48.938176",
     "exception": false,
     "start_time": "2023-07-12T16:25:48.884809",
     "status": "completed"
    },
    "tags": []
   },
   "outputs": [
    {
     "data": {
      "text/html": [
       "<div>\n",
       "<style scoped>\n",
       "    .dataframe tbody tr th:only-of-type {\n",
       "        vertical-align: middle;\n",
       "    }\n",
       "\n",
       "    .dataframe tbody tr th {\n",
       "        vertical-align: top;\n",
       "    }\n",
       "\n",
       "    .dataframe thead th {\n",
       "        text-align: right;\n",
       "    }\n",
       "</style>\n",
       "<table border=\"1\" class=\"dataframe\">\n",
       "  <thead>\n",
       "    <tr style=\"text-align: right;\">\n",
       "      <th></th>\n",
       "      <th>Century No.</th>\n",
       "      <th>Date</th>\n",
       "      <th>Score</th>\n",
       "      <th>Against</th>\n",
       "      <th>Pos.</th>\n",
       "      <th>Inn.</th>\n",
       "      <th>Cap. Yes/No</th>\n",
       "      <th>Out/Notout</th>\n",
       "      <th>Man Of Match</th>\n",
       "      <th>H/A/N</th>\n",
       "      <th>Result</th>\n",
       "    </tr>\n",
       "  </thead>\n",
       "  <tbody>\n",
       "    <tr>\n",
       "      <th>0</th>\n",
       "      <td>1</td>\n",
       "      <td>06-11-2013</td>\n",
       "      <td>177</td>\n",
       "      <td>West Indies</td>\n",
       "      <td>6</td>\n",
       "      <td>2</td>\n",
       "      <td>0</td>\n",
       "      <td>0</td>\n",
       "      <td>1</td>\n",
       "      <td>Home</td>\n",
       "      <td>Won</td>\n",
       "    </tr>\n",
       "    <tr>\n",
       "      <th>1</th>\n",
       "      <td>2</td>\n",
       "      <td>14-11-2013</td>\n",
       "      <td>111</td>\n",
       "      <td>West Indies</td>\n",
       "      <td>6</td>\n",
       "      <td>2</td>\n",
       "      <td>0</td>\n",
       "      <td>1</td>\n",
       "      <td>0</td>\n",
       "      <td>Home</td>\n",
       "      <td>Won</td>\n",
       "    </tr>\n",
       "    <tr>\n",
       "      <th>2</th>\n",
       "      <td>3</td>\n",
       "      <td>24-11-2017</td>\n",
       "      <td>102</td>\n",
       "      <td>Sri Lanka</td>\n",
       "      <td>6</td>\n",
       "      <td>2</td>\n",
       "      <td>0</td>\n",
       "      <td>1</td>\n",
       "      <td>0</td>\n",
       "      <td>Home</td>\n",
       "      <td>Won</td>\n",
       "    </tr>\n",
       "    <tr>\n",
       "      <th>3</th>\n",
       "      <td>4</td>\n",
       "      <td>02-10-2019</td>\n",
       "      <td>176</td>\n",
       "      <td>South Africa</td>\n",
       "      <td>2</td>\n",
       "      <td>1</td>\n",
       "      <td>0</td>\n",
       "      <td>0</td>\n",
       "      <td>1</td>\n",
       "      <td>Home</td>\n",
       "      <td>Won</td>\n",
       "    </tr>\n",
       "    <tr>\n",
       "      <th>4</th>\n",
       "      <td>5</td>\n",
       "      <td>02-10-2019</td>\n",
       "      <td>127</td>\n",
       "      <td>South Africa</td>\n",
       "      <td>2</td>\n",
       "      <td>3</td>\n",
       "      <td>0</td>\n",
       "      <td>0</td>\n",
       "      <td>1</td>\n",
       "      <td>Home</td>\n",
       "      <td>Won</td>\n",
       "    </tr>\n",
       "  </tbody>\n",
       "</table>\n",
       "</div>"
      ],
      "text/plain": [
       "   Century No.        Date  Score       Against  Pos.  Inn.  Cap. Yes/No  \\\n",
       "0            1  06-11-2013    177   West Indies     6     2            0   \n",
       "1            2  14-11-2013    111   West Indies     6     2            0   \n",
       "2            3  24-11-2017    102     Sri Lanka     6     2            0   \n",
       "3            4  02-10-2019    176  South Africa     2     1            0   \n",
       "4            5  02-10-2019    127  South Africa     2     3            0   \n",
       "\n",
       "   Out/Notout  Man Of Match H/A/N Result  \n",
       "0           0             1  Home    Won  \n",
       "1           1             0  Home    Won  \n",
       "2           1             0  Home    Won  \n",
       "3           0             1  Home    Won  \n",
       "4           0             1  Home    Won  "
      ]
     },
     "execution_count": 2,
     "metadata": {},
     "output_type": "execute_result"
    }
   ],
   "source": [
    "df = pd.read_csv('/kaggle/input/rohit-sharma-centuries/rohit_sharma.csv')\n",
    "df.head()"
   ]
  },
  {
   "cell_type": "code",
   "execution_count": 3,
   "id": "69b2d5e3",
   "metadata": {
    "execution": {
     "iopub.execute_input": "2023-07-12T16:25:48.954475Z",
     "iopub.status.busy": "2023-07-12T16:25:48.953404Z",
     "iopub.status.idle": "2023-07-12T16:25:48.961243Z",
     "shell.execute_reply": "2023-07-12T16:25:48.958563Z"
    },
    "papermill": {
     "duration": 0.018229,
     "end_time": "2023-07-12T16:25:48.963706",
     "exception": false,
     "start_time": "2023-07-12T16:25:48.945477",
     "status": "completed"
    },
    "tags": []
   },
   "outputs": [
    {
     "data": {
      "text/plain": [
       "(43, 11)"
      ]
     },
     "execution_count": 3,
     "metadata": {},
     "output_type": "execute_result"
    }
   ],
   "source": [
    "df.shape"
   ]
  },
  {
   "cell_type": "code",
   "execution_count": 4,
   "id": "23cf7970",
   "metadata": {
    "execution": {
     "iopub.execute_input": "2023-07-12T16:25:48.978240Z",
     "iopub.status.busy": "2023-07-12T16:25:48.977116Z",
     "iopub.status.idle": "2023-07-12T16:25:49.007412Z",
     "shell.execute_reply": "2023-07-12T16:25:49.005983Z"
    },
    "papermill": {
     "duration": 0.039164,
     "end_time": "2023-07-12T16:25:49.009761",
     "exception": false,
     "start_time": "2023-07-12T16:25:48.970597",
     "status": "completed"
    },
    "tags": []
   },
   "outputs": [
    {
     "name": "stdout",
     "output_type": "stream",
     "text": [
      "<class 'pandas.core.frame.DataFrame'>\n",
      "RangeIndex: 43 entries, 0 to 42\n",
      "Data columns (total 11 columns):\n",
      " #   Column        Non-Null Count  Dtype \n",
      "---  ------        --------------  ----- \n",
      " 0   Century No.   43 non-null     int64 \n",
      " 1   Date          43 non-null     object\n",
      " 2   Score         43 non-null     int64 \n",
      " 3   Against       43 non-null     object\n",
      " 4   Pos.          43 non-null     int64 \n",
      " 5   Inn.          43 non-null     int64 \n",
      " 6   Cap. Yes/No   43 non-null     int64 \n",
      " 7   Out/Notout    43 non-null     int64 \n",
      " 8   Man Of Match  43 non-null     int64 \n",
      " 9   H/A/N         43 non-null     object\n",
      " 10  Result        43 non-null     object\n",
      "dtypes: int64(7), object(4)\n",
      "memory usage: 3.8+ KB\n"
     ]
    }
   ],
   "source": [
    "df.info()"
   ]
  },
  {
   "cell_type": "code",
   "execution_count": 5,
   "id": "16727678",
   "metadata": {
    "execution": {
     "iopub.execute_input": "2023-07-12T16:25:49.025889Z",
     "iopub.status.busy": "2023-07-12T16:25:49.025045Z",
     "iopub.status.idle": "2023-07-12T16:25:49.059425Z",
     "shell.execute_reply": "2023-07-12T16:25:49.058307Z"
    },
    "papermill": {
     "duration": 0.044919,
     "end_time": "2023-07-12T16:25:49.061918",
     "exception": false,
     "start_time": "2023-07-12T16:25:49.016999",
     "status": "completed"
    },
    "tags": []
   },
   "outputs": [
    {
     "data": {
      "text/html": [
       "<div>\n",
       "<style scoped>\n",
       "    .dataframe tbody tr th:only-of-type {\n",
       "        vertical-align: middle;\n",
       "    }\n",
       "\n",
       "    .dataframe tbody tr th {\n",
       "        vertical-align: top;\n",
       "    }\n",
       "\n",
       "    .dataframe thead th {\n",
       "        text-align: right;\n",
       "    }\n",
       "</style>\n",
       "<table border=\"1\" class=\"dataframe\">\n",
       "  <thead>\n",
       "    <tr style=\"text-align: right;\">\n",
       "      <th></th>\n",
       "      <th>Century No.</th>\n",
       "      <th>Score</th>\n",
       "      <th>Pos.</th>\n",
       "      <th>Inn.</th>\n",
       "      <th>Cap. Yes/No</th>\n",
       "      <th>Out/Notout</th>\n",
       "      <th>Man Of Match</th>\n",
       "    </tr>\n",
       "  </thead>\n",
       "  <tbody>\n",
       "    <tr>\n",
       "      <th>count</th>\n",
       "      <td>43.000000</td>\n",
       "      <td>43.000000</td>\n",
       "      <td>43.000000</td>\n",
       "      <td>43.000000</td>\n",
       "      <td>43.000000</td>\n",
       "      <td>43.000000</td>\n",
       "      <td>43.000000</td>\n",
       "    </tr>\n",
       "    <tr>\n",
       "      <th>mean</th>\n",
       "      <td>22.000000</td>\n",
       "      <td>136.930233</td>\n",
       "      <td>1.697674</td>\n",
       "      <td>1.534884</td>\n",
       "      <td>0.139535</td>\n",
       "      <td>0.325581</td>\n",
       "      <td>0.604651</td>\n",
       "    </tr>\n",
       "    <tr>\n",
       "      <th>std</th>\n",
       "      <td>12.556539</td>\n",
       "      <td>35.956585</td>\n",
       "      <td>1.389328</td>\n",
       "      <td>0.591561</td>\n",
       "      <td>0.350605</td>\n",
       "      <td>0.474137</td>\n",
       "      <td>0.494712</td>\n",
       "    </tr>\n",
       "    <tr>\n",
       "      <th>min</th>\n",
       "      <td>1.000000</td>\n",
       "      <td>100.000000</td>\n",
       "      <td>1.000000</td>\n",
       "      <td>1.000000</td>\n",
       "      <td>0.000000</td>\n",
       "      <td>0.000000</td>\n",
       "      <td>0.000000</td>\n",
       "    </tr>\n",
       "    <tr>\n",
       "      <th>25%</th>\n",
       "      <td>11.500000</td>\n",
       "      <td>111.000000</td>\n",
       "      <td>1.000000</td>\n",
       "      <td>1.000000</td>\n",
       "      <td>0.000000</td>\n",
       "      <td>0.000000</td>\n",
       "      <td>0.000000</td>\n",
       "    </tr>\n",
       "    <tr>\n",
       "      <th>50%</th>\n",
       "      <td>22.000000</td>\n",
       "      <td>125.000000</td>\n",
       "      <td>1.000000</td>\n",
       "      <td>1.000000</td>\n",
       "      <td>0.000000</td>\n",
       "      <td>0.000000</td>\n",
       "      <td>1.000000</td>\n",
       "    </tr>\n",
       "    <tr>\n",
       "      <th>75%</th>\n",
       "      <td>32.500000</td>\n",
       "      <td>151.000000</td>\n",
       "      <td>2.000000</td>\n",
       "      <td>2.000000</td>\n",
       "      <td>0.000000</td>\n",
       "      <td>1.000000</td>\n",
       "      <td>1.000000</td>\n",
       "    </tr>\n",
       "    <tr>\n",
       "      <th>max</th>\n",
       "      <td>43.000000</td>\n",
       "      <td>264.000000</td>\n",
       "      <td>6.000000</td>\n",
       "      <td>3.000000</td>\n",
       "      <td>1.000000</td>\n",
       "      <td>1.000000</td>\n",
       "      <td>1.000000</td>\n",
       "    </tr>\n",
       "  </tbody>\n",
       "</table>\n",
       "</div>"
      ],
      "text/plain": [
       "       Century No.       Score       Pos.       Inn.  Cap. Yes/No  Out/Notout  \\\n",
       "count    43.000000   43.000000  43.000000  43.000000    43.000000   43.000000   \n",
       "mean     22.000000  136.930233   1.697674   1.534884     0.139535    0.325581   \n",
       "std      12.556539   35.956585   1.389328   0.591561     0.350605    0.474137   \n",
       "min       1.000000  100.000000   1.000000   1.000000     0.000000    0.000000   \n",
       "25%      11.500000  111.000000   1.000000   1.000000     0.000000    0.000000   \n",
       "50%      22.000000  125.000000   1.000000   1.000000     0.000000    0.000000   \n",
       "75%      32.500000  151.000000   2.000000   2.000000     0.000000    1.000000   \n",
       "max      43.000000  264.000000   6.000000   3.000000     1.000000    1.000000   \n",
       "\n",
       "       Man Of Match  \n",
       "count     43.000000  \n",
       "mean       0.604651  \n",
       "std        0.494712  \n",
       "min        0.000000  \n",
       "25%        0.000000  \n",
       "50%        1.000000  \n",
       "75%        1.000000  \n",
       "max        1.000000  "
      ]
     },
     "execution_count": 5,
     "metadata": {},
     "output_type": "execute_result"
    }
   ],
   "source": [
    "df.describe()"
   ]
  },
  {
   "cell_type": "code",
   "execution_count": 6,
   "id": "0874bc57",
   "metadata": {
    "execution": {
     "iopub.execute_input": "2023-07-12T16:25:49.074760Z",
     "iopub.status.busy": "2023-07-12T16:25:49.074359Z",
     "iopub.status.idle": "2023-07-12T16:25:49.081920Z",
     "shell.execute_reply": "2023-07-12T16:25:49.080942Z"
    },
    "papermill": {
     "duration": 0.016437,
     "end_time": "2023-07-12T16:25:49.083946",
     "exception": false,
     "start_time": "2023-07-12T16:25:49.067509",
     "status": "completed"
    },
    "tags": []
   },
   "outputs": [
    {
     "data": {
      "text/plain": [
       "Century No.      int64\n",
       "Date            object\n",
       "Score            int64\n",
       "Against         object\n",
       "Pos.             int64\n",
       "Inn.             int64\n",
       "Cap. Yes/No      int64\n",
       "Out/Notout       int64\n",
       "Man Of Match     int64\n",
       "H/A/N           object\n",
       "Result          object\n",
       "dtype: object"
      ]
     },
     "execution_count": 6,
     "metadata": {},
     "output_type": "execute_result"
    }
   ],
   "source": [
    "df.dtypes"
   ]
  },
  {
   "cell_type": "code",
   "execution_count": 7,
   "id": "66f7e66b",
   "metadata": {
    "execution": {
     "iopub.execute_input": "2023-07-12T16:25:49.096671Z",
     "iopub.status.busy": "2023-07-12T16:25:49.096297Z",
     "iopub.status.idle": "2023-07-12T16:25:49.104694Z",
     "shell.execute_reply": "2023-07-12T16:25:49.103598Z"
    },
    "papermill": {
     "duration": 0.017532,
     "end_time": "2023-07-12T16:25:49.107077",
     "exception": false,
     "start_time": "2023-07-12T16:25:49.089545",
     "status": "completed"
    },
    "tags": []
   },
   "outputs": [
    {
     "data": {
      "text/plain": [
       "Century No.     0\n",
       "Date            0\n",
       "Score           0\n",
       "Against         0\n",
       "Pos.            0\n",
       "Inn.            0\n",
       "Cap. Yes/No     0\n",
       "Out/Notout      0\n",
       "Man Of Match    0\n",
       "H/A/N           0\n",
       "Result          0\n",
       "dtype: int64"
      ]
     },
     "execution_count": 7,
     "metadata": {},
     "output_type": "execute_result"
    }
   ],
   "source": [
    "df.isnull().sum()"
   ]
  },
  {
   "cell_type": "code",
   "execution_count": 8,
   "id": "b793ab36",
   "metadata": {
    "execution": {
     "iopub.execute_input": "2023-07-12T16:25:49.121330Z",
     "iopub.status.busy": "2023-07-12T16:25:49.120086Z",
     "iopub.status.idle": "2023-07-12T16:25:49.132911Z",
     "shell.execute_reply": "2023-07-12T16:25:49.131570Z"
    },
    "papermill": {
     "duration": 0.022821,
     "end_time": "2023-07-12T16:25:49.135663",
     "exception": false,
     "start_time": "2023-07-12T16:25:49.112842",
     "status": "completed"
    },
    "tags": []
   },
   "outputs": [
    {
     "data": {
      "text/plain": [
       "0"
      ]
     },
     "execution_count": 8,
     "metadata": {},
     "output_type": "execute_result"
    }
   ],
   "source": [
    "df.duplicated().sum()"
   ]
  },
  {
   "cell_type": "code",
   "execution_count": 9,
   "id": "96f5f2a6",
   "metadata": {
    "execution": {
     "iopub.execute_input": "2023-07-12T16:25:49.152975Z",
     "iopub.status.busy": "2023-07-12T16:25:49.152509Z",
     "iopub.status.idle": "2023-07-12T16:25:49.162177Z",
     "shell.execute_reply": "2023-07-12T16:25:49.160958Z"
    },
    "papermill": {
     "duration": 0.021842,
     "end_time": "2023-07-12T16:25:49.164681",
     "exception": false,
     "start_time": "2023-07-12T16:25:49.142839",
     "status": "completed"
    },
    "tags": []
   },
   "outputs": [
    {
     "name": "stderr",
     "output_type": "stream",
     "text": [
      "/tmp/ipykernel_20/3386729631.py:1: UserWarning: Parsing dates in DD/MM/YYYY format when dayfirst=False (the default) was specified. This may lead to inconsistently parsed dates! Specify a format to ensure consistent parsing.\n",
      "  df['Date'] = pd.to_datetime(df['Date'])\n"
     ]
    }
   ],
   "source": [
    "df['Date'] = pd.to_datetime(df['Date'])\n"
   ]
  },
  {
   "cell_type": "code",
   "execution_count": null,
   "id": "5127b502",
   "metadata": {
    "papermill": {
     "duration": 0.00567,
     "end_time": "2023-07-12T16:25:49.176314",
     "exception": false,
     "start_time": "2023-07-12T16:25:49.170644",
     "status": "completed"
    },
    "tags": []
   },
   "outputs": [],
   "source": []
  },
  {
   "cell_type": "code",
   "execution_count": 10,
   "id": "a981933b",
   "metadata": {
    "execution": {
     "iopub.execute_input": "2023-07-12T16:25:49.190288Z",
     "iopub.status.busy": "2023-07-12T16:25:49.189878Z",
     "iopub.status.idle": "2023-07-12T16:25:49.200455Z",
     "shell.execute_reply": "2023-07-12T16:25:49.198751Z"
    },
    "papermill": {
     "duration": 0.020543,
     "end_time": "2023-07-12T16:25:49.203252",
     "exception": false,
     "start_time": "2023-07-12T16:25:49.182709",
     "status": "completed"
    },
    "tags": []
   },
   "outputs": [
    {
     "data": {
      "text/plain": [
       "Australia       9\n",
       "Sri Lanka       8\n",
       "South Africa    7\n",
       "West Indies     6\n",
       "England         5\n",
       "Bangladesh      3\n",
       "New Zealand     2\n",
       "Pakistan        2\n",
       "Zimbabwe        1\n",
       "Name: Against, dtype: int64"
      ]
     },
     "execution_count": 10,
     "metadata": {},
     "output_type": "execute_result"
    }
   ],
   "source": [
    "df['Against'].value_counts()"
   ]
  },
  {
   "cell_type": "code",
   "execution_count": 11,
   "id": "e1667290",
   "metadata": {
    "execution": {
     "iopub.execute_input": "2023-07-12T16:25:49.217520Z",
     "iopub.status.busy": "2023-07-12T16:25:49.217113Z",
     "iopub.status.idle": "2023-07-12T16:25:49.224843Z",
     "shell.execute_reply": "2023-07-12T16:25:49.223769Z"
    },
    "papermill": {
     "duration": 0.017557,
     "end_time": "2023-07-12T16:25:49.227125",
     "exception": false,
     "start_time": "2023-07-12T16:25:49.209568",
     "status": "completed"
    },
    "tags": []
   },
   "outputs": [
    {
     "data": {
      "text/plain": [
       "1    29\n",
       "2     9\n",
       "6     3\n",
       "4     2\n",
       "Name: Pos., dtype: int64"
      ]
     },
     "execution_count": 11,
     "metadata": {},
     "output_type": "execute_result"
    }
   ],
   "source": [
    "df['Pos.'].value_counts()"
   ]
  },
  {
   "cell_type": "code",
   "execution_count": 12,
   "id": "b092a0e6",
   "metadata": {
    "execution": {
     "iopub.execute_input": "2023-07-12T16:25:49.241176Z",
     "iopub.status.busy": "2023-07-12T16:25:49.240787Z",
     "iopub.status.idle": "2023-07-12T16:25:49.248795Z",
     "shell.execute_reply": "2023-07-12T16:25:49.247747Z"
    },
    "papermill": {
     "duration": 0.017571,
     "end_time": "2023-07-12T16:25:49.250888",
     "exception": false,
     "start_time": "2023-07-12T16:25:49.233317",
     "status": "completed"
    },
    "tags": []
   },
   "outputs": [
    {
     "data": {
      "text/plain": [
       "1    22\n",
       "2    19\n",
       "3     2\n",
       "Name: Inn., dtype: int64"
      ]
     },
     "execution_count": 12,
     "metadata": {},
     "output_type": "execute_result"
    }
   ],
   "source": [
    "df['Inn.'].value_counts()"
   ]
  },
  {
   "cell_type": "code",
   "execution_count": 13,
   "id": "552279bb",
   "metadata": {
    "execution": {
     "iopub.execute_input": "2023-07-12T16:25:49.264832Z",
     "iopub.status.busy": "2023-07-12T16:25:49.264398Z",
     "iopub.status.idle": "2023-07-12T16:25:49.272168Z",
     "shell.execute_reply": "2023-07-12T16:25:49.271328Z"
    },
    "papermill": {
     "duration": 0.01708,
     "end_time": "2023-07-12T16:25:49.274066",
     "exception": false,
     "start_time": "2023-07-12T16:25:49.256986",
     "status": "completed"
    },
    "tags": []
   },
   "outputs": [
    {
     "data": {
      "text/plain": [
       "0    37\n",
       "1     6\n",
       "Name: Cap. Yes/No, dtype: int64"
      ]
     },
     "execution_count": 13,
     "metadata": {},
     "output_type": "execute_result"
    }
   ],
   "source": [
    "df['Cap. Yes/No'].value_counts()"
   ]
  },
  {
   "cell_type": "code",
   "execution_count": 14,
   "id": "5fff3e1b",
   "metadata": {
    "execution": {
     "iopub.execute_input": "2023-07-12T16:25:49.288315Z",
     "iopub.status.busy": "2023-07-12T16:25:49.287905Z",
     "iopub.status.idle": "2023-07-12T16:25:49.295612Z",
     "shell.execute_reply": "2023-07-12T16:25:49.294678Z"
    },
    "papermill": {
     "duration": 0.017509,
     "end_time": "2023-07-12T16:25:49.297863",
     "exception": false,
     "start_time": "2023-07-12T16:25:49.280354",
     "status": "completed"
    },
    "tags": []
   },
   "outputs": [
    {
     "data": {
      "text/plain": [
       "0    29\n",
       "1    14\n",
       "Name: Out/Notout, dtype: int64"
      ]
     },
     "execution_count": 14,
     "metadata": {},
     "output_type": "execute_result"
    }
   ],
   "source": [
    "df['Out/Notout'].value_counts()"
   ]
  },
  {
   "cell_type": "code",
   "execution_count": 15,
   "id": "c09702b4",
   "metadata": {
    "execution": {
     "iopub.execute_input": "2023-07-12T16:25:49.312340Z",
     "iopub.status.busy": "2023-07-12T16:25:49.311954Z",
     "iopub.status.idle": "2023-07-12T16:25:49.320292Z",
     "shell.execute_reply": "2023-07-12T16:25:49.319160Z"
    },
    "papermill": {
     "duration": 0.018054,
     "end_time": "2023-07-12T16:25:49.322414",
     "exception": false,
     "start_time": "2023-07-12T16:25:49.304360",
     "status": "completed"
    },
    "tags": []
   },
   "outputs": [
    {
     "data": {
      "text/plain": [
       "1    26\n",
       "0    17\n",
       "Name: Man Of Match, dtype: int64"
      ]
     },
     "execution_count": 15,
     "metadata": {},
     "output_type": "execute_result"
    }
   ],
   "source": [
    "df['Man Of Match'].value_counts()"
   ]
  },
  {
   "cell_type": "code",
   "execution_count": 16,
   "id": "efea80cf",
   "metadata": {
    "execution": {
     "iopub.execute_input": "2023-07-12T16:25:49.337657Z",
     "iopub.status.busy": "2023-07-12T16:25:49.336744Z",
     "iopub.status.idle": "2023-07-12T16:25:49.344394Z",
     "shell.execute_reply": "2023-07-12T16:25:49.343620Z"
    },
    "papermill": {
     "duration": 0.017206,
     "end_time": "2023-07-12T16:25:49.346230",
     "exception": false,
     "start_time": "2023-07-12T16:25:49.329024",
     "status": "completed"
    },
    "tags": []
   },
   "outputs": [
    {
     "data": {
      "text/plain": [
       "Home       23\n",
       "Away       12\n",
       "Neutral     8\n",
       "Name: H/A/N, dtype: int64"
      ]
     },
     "execution_count": 16,
     "metadata": {},
     "output_type": "execute_result"
    }
   ],
   "source": [
    "df['H/A/N'].value_counts()"
   ]
  },
  {
   "cell_type": "code",
   "execution_count": 17,
   "id": "119e59e5",
   "metadata": {
    "execution": {
     "iopub.execute_input": "2023-07-12T16:25:49.361185Z",
     "iopub.status.busy": "2023-07-12T16:25:49.360788Z",
     "iopub.status.idle": "2023-07-12T16:25:49.368484Z",
     "shell.execute_reply": "2023-07-12T16:25:49.367564Z"
    },
    "papermill": {
     "duration": 0.017408,
     "end_time": "2023-07-12T16:25:49.370413",
     "exception": false,
     "start_time": "2023-07-12T16:25:49.353005",
     "status": "completed"
    },
    "tags": []
   },
   "outputs": [
    {
     "data": {
      "text/plain": [
       "Won     34\n",
       "Lost     8\n",
       "Won      1\n",
       "Name: Result, dtype: int64"
      ]
     },
     "execution_count": 17,
     "metadata": {},
     "output_type": "execute_result"
    }
   ],
   "source": [
    "df['Result'].value_counts()"
   ]
  },
  {
   "cell_type": "code",
   "execution_count": null,
   "id": "c6efa56d",
   "metadata": {
    "papermill": {
     "duration": 0.006424,
     "end_time": "2023-07-12T16:25:49.383512",
     "exception": false,
     "start_time": "2023-07-12T16:25:49.377088",
     "status": "completed"
    },
    "tags": []
   },
   "outputs": [],
   "source": []
  }
 ],
 "metadata": {
  "kernelspec": {
   "display_name": "Python 3",
   "language": "python",
   "name": "python3"
  },
  "language_info": {
   "codemirror_mode": {
    "name": "ipython",
    "version": 3
   },
   "file_extension": ".py",
   "mimetype": "text/x-python",
   "name": "python",
   "nbconvert_exporter": "python",
   "pygments_lexer": "ipython3",
   "version": "3.10.12"
  },
  "papermill": {
   "default_parameters": {},
   "duration": 10.684668,
   "end_time": "2023-07-12T16:25:50.211017",
   "environment_variables": {},
   "exception": null,
   "input_path": "__notebook__.ipynb",
   "output_path": "__notebook__.ipynb",
   "parameters": {},
   "start_time": "2023-07-12T16:25:39.526349",
   "version": "2.4.0"
  }
 },
 "nbformat": 4,
 "nbformat_minor": 5
}
